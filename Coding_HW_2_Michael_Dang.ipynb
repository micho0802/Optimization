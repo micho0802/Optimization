{
  "cells": [
    {
      "cell_type": "markdown",
      "metadata": {
        "id": "9g20pXpy2PPG"
      },
      "source": [
        "# Homework 2: Gradient Methods in PyTorch\n",
        "\n",
        "Name: Michael Dang\n",
        "\n",
        "Email: ld8np@umsystem.edu\n",
        "\n",
        "Partner Name(s) (if applicable): Karthik Chellamuthu\n",
        "\n",
        "Partner Email(s) (if applicable):\n",
        "\n",
        "### Submission instructions\n",
        "\n",
        "- Submit the modified python notebook as homework submission.\n",
        "- Group submission is enabled, you can submit this coding assignment with up to 2 other teammates in our class. For instruction of how to do a group submission. Go to People->Project group and you can sign up for groups.\n",
        "- You can google answers on StackOverflow, please attach the corresponding StackOverflow answer as comments. However, if the answer is not converted to `torch` format, no credit will be awarded.\n",
        "- You can ask answer in Large Language Model-based software such as Co-Pilot or ChatGPT. However, your code has to be runnable.\n",
        "- Do not change the number of cells! Please work in the cell provided. If you need extra cells for debugging and testing purposes, we can work at the end of this notebook, save everything as a backup for review, and delete the extra cells in the submitted version.\n",
        "\n"
      ]
    },
    {
      "cell_type": "markdown",
      "metadata": {
        "id": "VGOLkHtG2ggc"
      },
      "source": [
        "\n",
        "\n",
        "### Instructions\n",
        "Do **not** use `for` loops for tensorial operation purpose in any of our solutions! We are allowed to use `for` loops to compute gradient, etc.\n",
        "Efficieny will be graded as well. For example if a problem asks us generate an array from 0 to 9: then\n",
        "```python\n",
        "x = []\n",
        "for i in range(10):\n",
        "    x.append(i)\n",
        "```\n",
        "this will only result a partial credit while\n",
        "```python\n",
        "x = torch.arange(10)\n",
        "```\n",
        "will yield a full score.\n",
        "\n",
        "### Problems\n",
        "Below are 4 problems that explore elementwise operations, matrix-vector multiplication, and gradient methods. Each problem gives examples demonstrating the concept and has an associated coding task with expected output(s). Complete the coding tasks for credit.\n",
        "\n",
        "### Grading\n",
        "This homework has 4 problems, 5 points each. The homework will be graded and the grade counts towards your course grade.\n",
        "\n",
        "## Coding environments and submission\n",
        "If we do not have `torch` installed on your computer, we have three ways to upload this notebook to [Google colab](https://colab.research.google.com/)：\n",
        "\n",
        "1. Open up Google Colab, choose `Upload` to upload this template and work there. After we have done working we can select `File->Download .ipynb`.\n",
        "2. Open up Google Colab, choose either `GitHub` or `Google Drive` to select the uploaded notebook in the corresponding website. After done working, we can sync the file to the corresponding GitHub or Google Drive copy.\n",
        "3. Use the \"Open in Colab\" button at the top."
      ]
    },
    {
      "cell_type": "markdown",
      "metadata": {
        "id": "r7h05lXD9qrx"
      },
      "source": []
    },
    {
      "cell_type": "markdown",
      "metadata": {
        "id": "RIUSJaGh3Qul"
      },
      "source": [
        "\n",
        "## Coding environments and submission\n",
        "If we do not have `torch` installed on your computer, we have three ways to upload this notebook to [Google colab](https://colab.research.google.com/)：\n",
        "\n",
        "1. Open up Google Colab, choose `Upload` to upload this template and work there. After we have done working we can select `File->Download .ipynb`.\n",
        "2. Open up Google Colab, choose either `GitHub` or `Google Drive` to select the uploaded notebook in the corresponding website. After done working, we can sync the file to the corresponding GitHub or Google Drive copy."
      ]
    },
    {
      "cell_type": "code",
      "execution_count": 2,
      "metadata": {
        "id": "_uCnadE-2PPJ"
      },
      "outputs": [],
      "source": [
        "# Run Me First\n",
        "import torch\n",
        "import torch.nn.functional as F"
      ]
    },
    {
      "cell_type": "markdown",
      "metadata": {
        "id": "hIru3-JE9qry"
      },
      "source": [
        "## Dataset\n",
        "\n",
        "\n",
        "\"MNIST (\"Modified National Institute of Standards and Technology\") is the de facto “hello world” dataset of computer vision. Since its release in 1999, this classic dataset of handwritten images has served as the basis for benchmarking classification algorithms. As new machine learning techniques emerge, MNIST remains a reliable resource for researchers and learners alike.\"\n",
        "\n",
        "In the following cells, we will learn how to load and view this dataset for our toy models.\n",
        "\n",
        "Read more:[https://www.kaggle.com/c/digit-recognizer](https://www.kaggle.com/c/digit-recognizer)\n",
        "\n",
        "\n",
        "<a title=\"By Josef Steppan [CC BY-SA 4.0 (https://creativecommons.org/licenses/by-sa/4.0)], from Wikimedia Commons\" href=\"https://commons.wikimedia.org/wiki/File:MnistExamples.png\"><img width=\"512\" alt=\"MnistExamples\" src=\"https://upload.wikimedia.org/wikipedia/commons/2/27/MnistExamples.png\"/></a>\n",
        "\n",
        "\n",
        "----\n",
        "This code is adopted from the pytorch examples repository.\n",
        "It is licensed under BSD 3-Clause \"New\" or \"Revised\" License.\n",
        "Source: https://github.com/pytorch/examples/\n",
        "LICENSE: https://github.com/pytorch/examples/blob/master/LICENSE"
      ]
    },
    {
      "cell_type": "code",
      "execution_count": 3,
      "metadata": {
        "id": "Zq9IgZCA9qry"
      },
      "outputs": [],
      "source": [
        "# import torchvision\n",
        "from torchvision import datasets, transforms\n",
        "from torch.utils.data import DataLoader"
      ]
    },
    {
      "cell_type": "code",
      "execution_count": 4,
      "metadata": {
        "id": "T1NlHmsQ9qrz"
      },
      "outputs": [],
      "source": [
        "# import packages that help us plot\n",
        "import matplotlib.pyplot as plt\n",
        "import seaborn as sns"
      ]
    },
    {
      "cell_type": "code",
      "execution_count": 5,
      "metadata": {
        "id": "xK6ddr009qrz",
        "colab": {
          "base_uri": "https://localhost:8080/"
        },
        "outputId": "e676d564-b675-48dd-b98d-8a2940e0bf94"
      },
      "outputs": [
        {
          "output_type": "stream",
          "name": "stdout",
          "text": [
            "Downloading http://yann.lecun.com/exdb/mnist/train-images-idx3-ubyte.gz\n",
            "Downloading http://yann.lecun.com/exdb/mnist/train-images-idx3-ubyte.gz to ../data/MNIST/raw/train-images-idx3-ubyte.gz\n"
          ]
        },
        {
          "output_type": "stream",
          "name": "stderr",
          "text": [
            "100%|██████████| 9912422/9912422 [00:00<00:00, 147996295.24it/s]"
          ]
        },
        {
          "output_type": "stream",
          "name": "stdout",
          "text": [
            "Extracting ../data/MNIST/raw/train-images-idx3-ubyte.gz to ../data/MNIST/raw\n"
          ]
        },
        {
          "output_type": "stream",
          "name": "stderr",
          "text": [
            "\n"
          ]
        },
        {
          "output_type": "stream",
          "name": "stdout",
          "text": [
            "\n",
            "Downloading http://yann.lecun.com/exdb/mnist/train-labels-idx1-ubyte.gz\n",
            "Downloading http://yann.lecun.com/exdb/mnist/train-labels-idx1-ubyte.gz to ../data/MNIST/raw/train-labels-idx1-ubyte.gz\n"
          ]
        },
        {
          "output_type": "stream",
          "name": "stderr",
          "text": [
            "100%|██████████| 28881/28881 [00:00<00:00, 21122178.52it/s]\n"
          ]
        },
        {
          "output_type": "stream",
          "name": "stdout",
          "text": [
            "Extracting ../data/MNIST/raw/train-labels-idx1-ubyte.gz to ../data/MNIST/raw\n",
            "\n",
            "Downloading http://yann.lecun.com/exdb/mnist/t10k-images-idx3-ubyte.gz\n",
            "Downloading http://yann.lecun.com/exdb/mnist/t10k-images-idx3-ubyte.gz to ../data/MNIST/raw/t10k-images-idx3-ubyte.gz\n"
          ]
        },
        {
          "output_type": "stream",
          "name": "stderr",
          "text": [
            "100%|██████████| 1648877/1648877 [00:00<00:00, 41389474.10it/s]"
          ]
        },
        {
          "output_type": "stream",
          "name": "stdout",
          "text": [
            "Extracting ../data/MNIST/raw/t10k-images-idx3-ubyte.gz to ../data/MNIST/raw\n"
          ]
        },
        {
          "output_type": "stream",
          "name": "stderr",
          "text": [
            "\n"
          ]
        },
        {
          "output_type": "stream",
          "name": "stdout",
          "text": [
            "\n",
            "Downloading http://yann.lecun.com/exdb/mnist/t10k-labels-idx1-ubyte.gz\n",
            "Downloading http://yann.lecun.com/exdb/mnist/t10k-labels-idx1-ubyte.gz to ../data/MNIST/raw/t10k-labels-idx1-ubyte.gz\n"
          ]
        },
        {
          "output_type": "stream",
          "name": "stderr",
          "text": [
            "100%|██████████| 4542/4542 [00:00<00:00, 4637421.80it/s]"
          ]
        },
        {
          "output_type": "stream",
          "name": "stdout",
          "text": [
            "Extracting ../data/MNIST/raw/t10k-labels-idx1-ubyte.gz to ../data/MNIST/raw\n",
            "\n"
          ]
        },
        {
          "output_type": "stream",
          "name": "stderr",
          "text": [
            "\n"
          ]
        }
      ],
      "source": [
        "# download the data\n",
        "train = datasets.MNIST('../data', train=True, download=True, transform = transforms.ToTensor())"
      ]
    },
    {
      "cell_type": "code",
      "execution_count": 6,
      "metadata": {
        "id": "74qFqvmt-RF1"
      },
      "outputs": [],
      "source": [
        "loader = DataLoader(train, batch_size=1, shuffle=False)"
      ]
    },
    {
      "cell_type": "code",
      "execution_count": 7,
      "metadata": {
        "id": "1YMYVXNd-a-V"
      },
      "outputs": [],
      "source": [
        "data_iter = iter(loader) # set the loader to be an iterator\n",
        "images, labels = next(data_iter) # next returns the next item in an iterator"
      ]
    },
    {
      "cell_type": "markdown",
      "metadata": {
        "id": "sDmqzFT1-gSV"
      },
      "source": [
        "`image` is now a `28x28` matrix, with entries varying between 0 and 1. Once being plotted by `plt.imshow` function as a `28x28` image, each pixel's brightness is decided by the matrix's entry value. Here axes are used but we can always just call `plt.imshow` instead."
      ]
    },
    {
      "cell_type": "code",
      "execution_count": 8,
      "metadata": {
        "id": "mCKwaMkI-kht",
        "colab": {
          "base_uri": "https://localhost:8080/",
          "height": 465
        },
        "outputId": "0551d98b-0015-4b9b-f0ad-74e2b2838115"
      },
      "outputs": [
        {
          "output_type": "display_data",
          "data": {
            "text/plain": [
              "<Figure size 640x480 with 1 Axes>"
            ],
            "image/png": "[encoded data removed]"
          },
          "metadata": {}
        }
      ],
      "source": [
        "image = images[0].squeeze()\n",
        "label = labels.squeeze()\n",
        "_, ax = plt.subplots(1)\n",
        "ax.imshow(image, cmap='gray');\n",
        "ax.set_title(f'Label: {label}', color= 'black', fontsize=25);"
      ]
    },
    {
      "cell_type": "markdown",
      "metadata": {
        "id": "rkkxJFAp_r8s"
      },
      "source": [
        "## Data manipulation in higher dimensions\n",
        "\n",
        "Load more images with label 8 using the following code."
      ]
    },
    {
      "cell_type": "code",
      "execution_count": 9,
      "metadata": {
        "id": "9H6--71f_EXB"
      },
      "outputs": [],
      "source": [
        "idx = (train.targets==8)\n",
        "labels_new = train.targets[idx]\n",
        "data = train.data[idx]/255"
      ]
    },
    {
      "cell_type": "markdown",
      "metadata": {
        "id": "fuKfQJsd_xd4"
      },
      "source": [
        "Now we randomly pick the first 10 of them, notice the shape of the data should be `(10, 28, 28)` whereas the dimension 0 (axis 0) represents the indices of the image."
      ]
    },
    {
      "cell_type": "code",
      "execution_count": 10,
      "metadata": {
        "id": "yuZa-MzA_VKR",
        "colab": {
          "base_uri": "https://localhost:8080/"
        },
        "outputId": "2b03fa7b-159e-4e3b-8ab9-7d57f79dcf86"
      },
      "outputs": [
        {
          "output_type": "stream",
          "name": "stdout",
          "text": [
            "torch.Size([10, 28, 28])\n"
          ]
        }
      ],
      "source": [
        "idx = torch.arange(10)\n",
        "data_new = data[idx]\n",
        "print(data_new.shape)"
      ]
    },
    {
      "cell_type": "markdown",
      "metadata": {
        "id": "P05Ml8lHATZ0"
      },
      "source": [
        "## Problem 1\n",
        "\n",
        "For `data_new`, get a smoothened 8 image `average` by averaging axis 0, use a single line of code using `torch.mean()` or `.mean()` function on the tensor to achieve the result of the following `for` loop:\n",
        "\n",
        "```python\n",
        "n_sample = len(data_new)\n",
        "average = torch.zeros_like(data_new[0], dtype=torch.float)\n",
        "for i in range(n_sample):\n",
        "    average += data_new[i,:,:]/n_sample\n",
        "\n",
        "```"
      ]
    },
    {
      "cell_type": "code",
      "execution_count": 11,
      "metadata": {
        "id": "xIM0DugUACvU"
      },
      "outputs": [],
      "source": [
        "average_comparison = torch.tensor([[0.0, 0.0, 0.0, 0.0,\n",
        "         0.0, 0.0, 0.0, 0.0,\n",
        "         0.0, 0.0, 0.0, 0.0,\n",
        "         0.0, 0.0, 0.0, 0.0,\n",
        "         0.0, 0.0, 0.0, 0.0,\n",
        "         0.0, 0.0, 0.0, 0.0,\n",
        "         0.0, 0.0, 0.0, 0.0],\n",
        "        [0.0, 0.0, 0.0, 0.0,\n",
        "         0.0, 0.0, 0.0, 0.0,\n",
        "         0.0, 0.0, 0.0, 0.0,\n",
        "         0.0, 0.0, 0.0, 0.0,\n",
        "         0.0, 0.0, 0.0, 0.0,\n",
        "         0.0, 0.0, 0.0, 0.0,\n",
        "         0.0, 0.0, 0.0, 0.0],\n",
        "        [0.0, 0.0, 0.0, 0.0,\n",
        "         0.0, 0.0, 0.0, 0.0,\n",
        "         0.0, 0.0, 0.0, 0.0,\n",
        "         0.0, 0.0, 0.0, 0.0,\n",
        "         0.0, 0.0, 0.0, 0.0,\n",
        "         0.0, 0.0, 0.0, 0.0,\n",
        "         0.0, 0.0, 0.0, 0.0],\n",
        "        [0.0, 0.0, 0.0, 0.0,\n",
        "         0.0, 0.0, 0.0, 0.0,\n",
        "         0.0, 0.0, 0.0, 0.0,\n",
        "         0.0, 0.0, 0.0, 0.0,\n",
        "         0.0, 0.0, 0.0, 0.0,\n",
        "         0.0, 0.0, 0.0, 0.0,\n",
        "         0.0, 0.0, 0.0, 0.0],\n",
        "        [0.0, 0.0, 0.0, 0.0,\n",
        "         0.0, 0.0, 0.0, 0.0,\n",
        "         0.0, 0.0, 0.0, 0.0,\n",
        "         0.0, 0.0, 0.0, 0.0,\n",
        "         0.0, 0.0, 0.0, 6.58823550e-02,\n",
        "         1.90196082e-01, 7.84313753e-02, 0.0, 0.0,\n",
        "         0.0, 0.0, 0.0, 0.0],\n",
        "        [0.0, 0.0, 0.0, 0.0,\n",
        "         0.0, 0.0, 0.0, 0.0,\n",
        "         0.0, 0.0, 0.0, 0.0,\n",
        "         3.72549035e-02, 2.00392172e-01, 3.27450961e-01, 4.57254887e-01,\n",
        "         5.21568656e-01, 4.07843113e-01, 2.46274516e-01, 2.30196074e-01,\n",
        "         3.54901969e-01, 2.89019614e-01, 6.94117695e-02, 1.17647066e-03,\n",
        "         0.0, 0.0, 0.0, 0.0],\n",
        "        [0.0, 0.0, 0.0, 0.0,\n",
        "         0.0, 0.0, 0.0, 0.0,\n",
        "         0.0, 0.0, 0.0, 7.84313772e-03,\n",
        "         2.11372569e-01, 5.80000043e-01, 7.91372597e-01, 8.49411786e-01,\n",
        "         8.29019666e-01, 8.04705918e-01, 7.44313717e-01, 5.70980430e-01,\n",
        "         5.07450998e-01, 4.35686290e-01, 2.07058832e-01, 8.39215666e-02,\n",
        "         2.35294132e-03, 0.0, 0.0, 0.0],\n",
        "        [0.0, 0.0, 0.0, 0.0,\n",
        "         0.0, 0.0, 0.0, 0.0,\n",
        "         0.0, 0.0, 3.49019617e-02, 2.82745123e-01,\n",
        "         6.87843144e-01, 8.87450993e-01, 8.95686328e-01, 8.64313722e-01,\n",
        "         7.38431394e-01, 7.18431413e-01, 7.96470582e-01, 7.98431396e-01,\n",
        "         7.61176467e-01, 5.42352915e-01, 1.63137257e-01, 9.72549021e-02,\n",
        "         4.31372551e-03, 0.0, 0.0, 0.0],\n",
        "        [0.0, 0.0, 0.0, 0.0,\n",
        "         0.0, 0.0, 0.0, 0.0,\n",
        "         1.96078443e-03, 8.90196115e-02, 3.28235328e-01, 7.38823533e-01,\n",
        "         8.84313762e-01, 7.98431396e-01, 5.62352955e-01, 4.56078440e-01,\n",
        "         3.64705890e-01, 4.87843126e-01, 6.34901941e-01, 7.29411721e-01,\n",
        "         7.87451029e-01, 4.66274500e-01, 1.49411768e-01, 3.25490199e-02,\n",
        "         0.0, 0.0, 0.0, 0.0],\n",
        "        [0.0, 0.0, 0.0, 0.0,\n",
        "         0.0, 0.0, 0.0, 0.0,\n",
        "         6.39215708e-02, 2.01568633e-01, 5.18431365e-01, 7.50588238e-01,\n",
        "         6.13333344e-01, 2.79215693e-01, 2.12156862e-01, 2.32549027e-01,\n",
        "         2.59607852e-01, 5.13725519e-01, 6.39999986e-01, 7.85490215e-01,\n",
        "         6.95686340e-01, 3.54117692e-01, 1.27843142e-01, 6.66666701e-02,\n",
        "         0.0, 0.0, 0.0, 0.0],\n",
        "        [0.0, 0.0, 0.0, 0.0,\n",
        "         0.0, 0.0, 0.0, 1.84313729e-02,\n",
        "         9.84313712e-02, 2.28627443e-01, 4.44705904e-01, 6.58431411e-01,\n",
        "         5.15686274e-01, 3.10196102e-01, 1.28627449e-01, 1.78039223e-01,\n",
        "         3.18039238e-01, 5.60784340e-01, 8.05882335e-01, 7.21176505e-01,\n",
        "         4.87450987e-01, 1.33333340e-01, 9.84313712e-02, 3.52941193e-02,\n",
        "         0.0, 0.0, 0.0, 0.0],\n",
        "        [0.0, 0.0, 0.0, 0.0,\n",
        "         0.0, 0.0, 0.0, 1.56862754e-02,\n",
        "         9.80392173e-02, 1.87843129e-01, 3.42745095e-01, 5.63921571e-01,\n",
        "         6.89411759e-01, 5.61960816e-01, 3.36078465e-01, 3.52549016e-01,\n",
        "         6.37254894e-01, 8.09411824e-01, 8.12548995e-01, 5.25098026e-01,\n",
        "         2.38039225e-01, 9.09803957e-02, 4.03921567e-02, 0.0,\n",
        "         0.0, 0.0, 0.0, 0.0],\n",
        "        [0.0, 0.0, 0.0, 0.0,\n",
        "         0.0, 0.0, 0.0, 0.0,\n",
        "         5.37254922e-02, 1.36862740e-01, 2.76078433e-01, 4.85882372e-01,\n",
        "         6.61176562e-01, 7.42745042e-01, 5.50196111e-01, 6.95294142e-01,\n",
        "         8.20392251e-01, 8.06274414e-01, 5.55686295e-01, 2.29411766e-01,\n",
        "         1.56862754e-02, 1.96078443e-03, 0.0, 0.0,\n",
        "         0.0, 0.0, 0.0, 0.0],\n",
        "        [0.0, 0.0, 0.0, 0.0,\n",
        "         0.0, 0.0, 0.0, 0.0,\n",
        "         1.17647066e-03, 1.72549020e-02, 1.10196091e-01, 3.62745076e-01,\n",
        "         6.23137295e-01, 8.65882397e-01, 8.16078484e-01, 9.07058895e-01,\n",
        "         7.95294166e-01, 5.74509799e-01, 2.03921586e-01, 3.68627459e-02,\n",
        "         0.0, 0.0, 0.0, 0.0,\n",
        "         0.0, 0.0, 0.0, 0.0],\n",
        "        [0.0, 0.0, 0.0, 0.0,\n",
        "         0.0, 0.0, 0.0, 0.0,\n",
        "         0.0, 0.0, 5.09803975e-03, 1.92156866e-01,\n",
        "         7.21568584e-01, 9.89803970e-01, 9.86274540e-01, 9.15686309e-01,\n",
        "         7.01960802e-01, 2.27058813e-01, 2.90196091e-02, 0.0,\n",
        "         0.0, 0.0, 0.0, 0.0,\n",
        "         0.0, 0.0, 0.0, 0.0],\n",
        "        [0.0, 0.0, 0.0, 0.0,\n",
        "         0.0, 0.0, 0.0, 0.0,\n",
        "         0.0, 1.29411770e-02, 5.84313758e-02, 3.47451001e-01,\n",
        "         6.48235261e-01, 8.83529484e-01, 8.98039222e-01, 8.41568649e-01,\n",
        "         4.69411761e-01, 7.88235292e-02, 0.0, 0.0,\n",
        "         0.0, 0.0, 0.0, 0.0,\n",
        "         0.0, 0.0, 0.0, 0.0],\n",
        "        [0.0, 0.0, 0.0, 0.0,\n",
        "         0.0, 0.0, 0.0, 0.0,\n",
        "         1.99999996e-02, 1.01568624e-01, 2.83529460e-01, 5.94901979e-01,\n",
        "         7.95686305e-01, 7.22745121e-01, 6.97254956e-01, 8.07843208e-01,\n",
        "         5.53725481e-01, 1.79607838e-01, 1.37254912e-02, 0.0,\n",
        "         0.0, 0.0, 0.0, 0.0,\n",
        "         0.0, 0.0, 0.0, 0.0],\n",
        "        [0.0, 0.0, 0.0, 0.0,\n",
        "         0.0, 0.0, 0.0, 1.88235305e-02,\n",
        "         9.92156863e-02, 1.92941189e-01, 5.69803953e-01, 7.85490155e-01,\n",
        "         7.41960764e-01, 5.22745073e-01, 5.71372569e-01, 7.42352962e-01,\n",
        "         6.33333325e-01, 2.86274523e-01, 2.35294141e-02, 0.0,\n",
        "         0.0, 0.0, 0.0, 0.0,\n",
        "         0.0, 0.0, 0.0, 0.0],\n",
        "        [0.0, 0.0, 0.0, 0.0,\n",
        "         0.0, 0.0, 0.0, 8.35294127e-02,\n",
        "         1.52549028e-01, 4.78823513e-01, 7.56470561e-01, 7.52156854e-01,\n",
        "         4.46666658e-01, 4.02352899e-01, 4.63529408e-01, 6.41568661e-01,\n",
        "         6.00784361e-01, 3.21568638e-01, 2.82352958e-02, 0.0,\n",
        "         0.0, 0.0, 0.0, 0.0,\n",
        "         0.0, 0.0, 0.0, 0.0],\n",
        "        [0.0, 0.0, 0.0, 0.0,\n",
        "         0.0, 0.0, 3.60784307e-02, 1.23529412e-01,\n",
        "         3.21960807e-01, 5.83137274e-01, 7.20784366e-01, 5.14509797e-01,\n",
        "         2.90588230e-01, 3.12549025e-01, 4.70196068e-01, 5.41960835e-01,\n",
        "         5.20784318e-01, 2.65490174e-01, 4.35294136e-02, 0.0,\n",
        "         0.0, 0.0, 0.0, 0.0,\n",
        "         0.0, 0.0, 0.0, 0.0],\n",
        "        [0.0, 0.0, 0.0, 0.0,\n",
        "         0.0, 1.52941179e-02, 8.70588273e-02, 1.70196086e-01,\n",
        "         4.43529427e-01, 7.37254918e-01, 6.26666665e-01, 3.37254912e-01,\n",
        "         2.32156873e-01, 3.32549006e-01, 5.38039267e-01, 6.13333344e-01,\n",
        "         3.76862764e-01, 1.09019615e-01, 4.94117662e-02, 0.0,\n",
        "         0.0, 0.0, 0.0, 0.0,\n",
        "         0.0, 0.0, 0.0, 0.0],\n",
        "        [0.0, 0.0, 0.0, 0.0,\n",
        "         0.0, 2.11764704e-02, 9.52941179e-02, 2.21960813e-01,\n",
        "         6.08627439e-01, 7.68627465e-01, 6.06274486e-01, 2.12941200e-01,\n",
        "         3.69803935e-01, 5.04313767e-01, 7.09411740e-01, 5.53725481e-01,\n",
        "         2.45098040e-01, 9.88235325e-02, 4.94117662e-02, 0.0,\n",
        "         0.0, 0.0, 0.0, 0.0,\n",
        "         0.0, 0.0, 0.0, 0.0],\n",
        "        [0.0, 0.0, 0.0, 0.0,\n",
        "         0.0, 4.62745093e-02, 1.03921570e-01, 3.36470634e-01,\n",
        "         7.58431375e-01, 8.07058930e-01, 7.34901965e-01, 5.85490167e-01,\n",
        "         6.56078458e-01, 6.52941167e-01, 5.97254872e-01, 3.42352927e-01,\n",
        "         9.09803957e-02, 9.96078402e-02, 3.96078452e-02, 0.0,\n",
        "         0.0, 0.0, 0.0, 0.0,\n",
        "         0.0, 0.0, 0.0, 0.0],\n",
        "        [0.0, 0.0, 0.0, 0.0,\n",
        "         0.0, 1.72549020e-02, 9.88235325e-02, 3.26666683e-01,\n",
        "         6.57647073e-01, 8.25882316e-01, 9.17254925e-01, 9.07451034e-01,\n",
        "         8.42745185e-01, 6.35686278e-01, 3.48235309e-01, 1.38431385e-01,\n",
        "         9.56862718e-02, 5.09803966e-02, 0.0, 0.0,\n",
        "         0.0, 0.0, 0.0, 0.0,\n",
        "         0.0, 0.0, 0.0, 0.0],\n",
        "        [0.0, 0.0, 0.0, 0.0,\n",
        "         0.0, 0.0, 1.76470596e-02, 1.69019610e-01,\n",
        "         4.06274498e-01, 6.37254894e-01, 6.98039234e-01, 6.61960721e-01,\n",
        "         3.82745087e-01, 2.51764715e-01, 1.59999996e-01, 6.90196082e-02,\n",
        "         1.49019612e-02, 0.0, 0.0, 0.0,\n",
        "         0.0, 0.0, 0.0, 0.0,\n",
        "         0.0, 0.0, 0.0, 0.0],\n",
        "        [0.0, 0.0, 0.0, 0.0,\n",
        "         0.0, 0.0, 0.0, 5.88235306e-03,\n",
        "         9.92156863e-02, 9.92156863e-02, 9.92156863e-02, 9.21568647e-02,\n",
        "         5.05882390e-02, 1.76470596e-02, 7.84313772e-04, 0.0,\n",
        "         0.0, 0.0, 0.0, 0.0,\n",
        "         0.0, 0.0, 0.0, 0.0,\n",
        "         0.0, 0.0, 0.0, 0.0],\n",
        "        [0.0, 0.0, 0.0, 0.0,\n",
        "         0.0, 0.0, 0.0, 0.0,\n",
        "         0.0, 0.0, 0.0, 0.0,\n",
        "         0.0, 0.0, 0.0, 0.0,\n",
        "         0.0, 0.0, 0.0, 0.0,\n",
        "         0.0, 0.0, 0.0, 0.0,\n",
        "         0.0, 0.0, 0.0, 0.0],\n",
        "        [0.0, 0.0, 0.0, 0.0,\n",
        "         0.0, 0.0, 0.0, 0.0,\n",
        "         0.0, 0.0, 0.0, 0.0,\n",
        "         0.0, 0.0, 0.0, 0.0,\n",
        "         0.0, 0.0, 0.0, 0.0,\n",
        "         0.0, 0.0, 0.0, 0.0,\n",
        "         0.0, 0.0, 0.0, 0.0]])"
      ]
    },
    {
      "cell_type": "code",
      "execution_count": 12,
      "metadata": {
        "id": "Q8m30RwCBlHc",
        "colab": {
          "base_uri": "https://localhost:8080/",
          "height": 465
        },
        "outputId": "7d6c98d5-9f60-4687-dfa4-6f21ab55dd38"
      },
      "outputs": [
        {
          "output_type": "stream",
          "name": "stdout",
          "text": [
            "True\n",
            "True\n"
          ]
        },
        {
          "output_type": "display_data",
          "data": {
            "text/plain": [
              "<Figure size 640x480 with 1 Axes>"
            ],
            "image/png": "[encoded data removed]"
          },
          "metadata": {}
        }
      ],
      "source": [
        "average = torch.mean(data_new[0:10,:,:], axis = 0) #Replace this with your code\n",
        "\n",
        "try:\n",
        "    plt.imshow(average, cmap='gray'); # expected output: a smoothened 8\n",
        "    print(torch.allclose(average, average_comparison)) # expected True\n",
        "    print(average.size()==(28,28)) # expected True\n",
        "except TypeError as e:\n",
        "    print(\"Need the average tensor of shape (28, 28)\")"
      ]
    },
    {
      "cell_type": "markdown",
      "metadata": {
        "id": "KYTLAmEtGdbC"
      },
      "source": [
        "## Problem 2\n",
        "Implement in the following cell using `torch.mm` or `torch.matmul` on `data_new` of a linear transformation with out bias to achieve the result of the following `for` loop. The `for` loop in the following cell can be modified to three lines of code with a reshape using `view` function, a matrix-matrix multiplication, reshape using `view` again.\n",
        "\n",
        "Reference: https://pytorch.org/docs/stable/generated/torch.matmul.html"
      ]
    },
    {
      "cell_type": "code",
      "execution_count": 13,
      "metadata": {
        "id": "8j5zB3fvFBiQ"
      },
      "outputs": [],
      "source": [
        "w0 = 0.25*torch.ones(28*28, 14*14)\n",
        "n_samples = len(data_new)\n",
        "X0 = data_new\n",
        "X1 = torch.zeros(n_samples, 14*14)\n",
        "for i in range(n_samples):\n",
        "    sample = X0[i,:,:].reshape(-1)\n",
        "    X1[i,:] = torch.matmul(sample, w0)\n",
        "X2 = X1.view(-1,14,14)"
      ]
    },
    {
      "cell_type": "code",
      "execution_count": 135,
      "metadata": {
        "id": "rnUJNd15HaYi",
        "colab": {
          "base_uri": "https://localhost:8080/"
        },
        "outputId": "82b8e43f-1592-4c81-fab0-a51d42c5c610"
      },
      "outputs": [
        {
          "output_type": "stream",
          "name": "stdout",
          "text": [
            "True\n"
          ]
        }
      ],
      "source": [
        "X3 = X0.reshape(-1, 28*28)\n",
        "X4 = (torch.matmul(X3, w0)).view(n_samples, 14, 14) # replace the torch.zeros here with matmul and X3\n",
        "print(torch.allclose(X4, X2)) # expected output: True\n"
      ]
    },
    {
      "cell_type": "markdown",
      "metadata": {
        "id": "G3ameD4uJS-u"
      },
      "source": [
        "## autograd\n",
        "\n",
        "\n",
        "The `backward()` operation on any tensor `w` initialized with `requires_grad=True` will compute the gradient of `w`, and we can retrieve its gradient by `w.grad`. For example in the following cell, the gradient of $W^{T}$ is computed for\n",
        "$$\n",
        "L = \\frac{1}{10}\\sum_{i=1}^{10} 0.5*|W\\boldsymbol{x}^{(i)} -y^{(i)} |^2\n",
        "$$\n",
        "where $\\boldsymbol{x}^{(i)}$ is a 28*28 tensor that stands for the $i$-th sample."
      ]
    },
    {
      "cell_type": "code",
      "execution_count": 14,
      "metadata": {
        "id": "EM0wKDA5JgG-",
        "colab": {
          "base_uri": "https://localhost:8080/"
        },
        "outputId": "cfb79983-cf50-40f6-cc02-b0cb6e20d6bd"
      },
      "outputs": [
        {
          "output_type": "execute_result",
          "data": {
            "text/plain": [
              "torch.Size([10, 784])"
            ]
          },
          "metadata": {},
          "execution_count": 14
        }
      ],
      "source": [
        "torch.manual_seed(42)\n",
        "n_samples = len(data_new)\n",
        "\n",
        "# X[i] is a row vector representing a sample\n",
        "X = data_new.view(-1, 28*28).clone()\n",
        "\n",
        "# usually y[i] is the one-hot encoding label for i-th sample\n",
        "# see https://pytorch.org/docs/stable/generated/torch.nn.functional.one_hot.html\n",
        "# y = F.one_hot(torch.tensor([8 for _ in range(n_samples)]), num_classes=10)\n",
        "# here for simplicity we set y=0\n",
        "y = torch.zeros(n_samples, 1)\n",
        "\n",
        "# W is the weight matrix transposed\n",
        "w = torch.randn((28*28, 1), requires_grad=True)\n",
        "L = 0.5*(X.mm(w) - y).pow(2).mean()\n",
        "\n",
        "# backprop\n",
        "L.backward()\n",
        "\n",
        "# gradient\n",
        "with torch.no_grad():\n",
        "    gradW = w.grad\n",
        "\n",
        "X.shape"
      ]
    },
    {
      "cell_type": "markdown",
      "metadata": {
        "id": "71j8h_gjLjDj"
      },
      "source": [
        "## Problem 3\n",
        "\n",
        "Fill in the following cell an implementation of the backpropagation to compute\n",
        "$$\n",
        "\\frac{\\partial L}{ \\partial (W^T)} = \\frac{1}{10} \\sum_{i=1}^{10}\n",
        "(W\\boldsymbol{x}^{(i)} -y^{(i)}) * \\boldsymbol{x}^{(i)}\n",
        "$$\n",
        "using explicitly the matrix-vector multiplication `mm` and elementwise multiplication `*`. Then verify that the explicitly computed backpropagation gradient coincides with the `gradW` above.\n",
        "\n",
        "Caveat: we may want to pay attention to the sizes of the vector being either `torch.size(28*28)` or `torch.Size(28*28, 1)`.\n",
        "\n",
        "if we use a `for` loop, the code is as follows.\n",
        "\n",
        "In the problem, your task is\n",
        "- use a single line of code, to compute the gradient."
      ]
    },
    {
      "cell_type": "code",
      "execution_count": 15,
      "metadata": {
        "id": "afbonqjsM16-"
      },
      "outputs": [],
      "source": [
        "gradW1 = torch.zeros_like(w)\n",
        "res = X.mm(w) - y\n",
        "for i in range(n_samples):\n",
        "  gradW1 += (res[i]*X[i,:]).view(-1,1)/n_samples"
      ]
    },
    {
      "cell_type": "code",
      "execution_count": 16,
      "metadata": {
        "id": "9GbOefxdN0iY",
        "colab": {
          "base_uri": "https://localhost:8080/"
        },
        "outputId": "37c9d4b2-c784-42bb-a21b-d674c393b955"
      },
      "outputs": [
        {
          "output_type": "stream",
          "name": "stdout",
          "text": [
            "True\n"
          ]
        }
      ],
      "source": [
        "print(torch.allclose(gradW1, gradW)) # the manual computation agrees with the autograd"
      ]
    },
    {
      "cell_type": "code",
      "execution_count": 26,
      "metadata": {
        "id": "AaPaV2M0KNd7",
        "colab": {
          "base_uri": "https://localhost:8080/"
        },
        "outputId": "789170cb-bf17-4bab-a4e2-d3f58f486922"
      },
      "outputs": [
        {
          "output_type": "stream",
          "name": "stdout",
          "text": [
            "tensor(8.6513e-06)\n"
          ]
        }
      ],
      "source": [
        "with torch.no_grad():\n",
        "    gradW2 = ((res.T).mm(X)).view(-1,1) / n_samples # fill our code here\n",
        "    gradW2 = gradW2.view(-1,1)\n",
        "\n",
        "print(torch.linalg.norm(gradW2-gradW))\n",
        "# this should be less than 1e-5 (single-precision error margin)"
      ]
    },
    {
      "cell_type": "markdown",
      "metadata": {
        "id": "rTc0vuORS_4M"
      },
      "source": [
        "## Problem 4 Conjugate gradient\n",
        "\n",
        "A more efficient CG algorithm than the one presented in class is as follows (see the lecture notes)\n",
        "\n",
        "The method of Conjugate Gradients for $f(x) = \\frac{1}{2}x^{\\top}Qx - b^{\\top} x$ is: given $x^{(0)}$, and let $d^{(0)} = -g^{[0]} = b - Qx^{(0)}$ where $g^{(k)} = \\nabla f(x^{(k)})$\n",
        "\n",
        "\\begin{align*}\n",
        "\\text{for }  & k= 0, 1, \\dots \\qquad\\\\\n",
        "\\alpha^{(k)} &= \\frac{(g^{(k)}, g^{(k)})}{(Qd^{(k)}, d^{(k)})}, \\tag{1}\n",
        "\\\\\n",
        "x^{(k+1)} &= x^{(k)} + \\alpha^{(k)}d^{(k)}, \\\\\n",
        "g^{(k+1)} &= g^{(k)} + \\alpha^{(k)}Qd^{(k)}, \\tag{2} \\\\\n",
        "\\beta^{(k+1)} &= \\frac{(g^{(k+1)}, g^{(k+1)})}{(g^{(k)}, g^{(k)})}, \\tag{3}\\\\\n",
        "d^{(k+1)} &= -g^{(k+1)} + \\beta^{(k+1)}d^{(k)}. \\tag{4}\n",
        "\\end{align*}\n",
        "\n",
        "the code is as follows for the Q matrix defined as follows\n"
      ]
    },
    {
      "cell_type": "code",
      "execution_count": 18,
      "metadata": {
        "id": "YhdjCad_YSy0"
      },
      "outputs": [],
      "source": [
        "from tqdm.auto import tqdm\n",
        "import time"
      ]
    },
    {
      "cell_type": "code",
      "execution_count": 35,
      "metadata": {
        "id": "bNHynZQxTDiT"
      },
      "outputs": [],
      "source": [
        "n = 40\n",
        "I = torch.diag(torch.ones(n))\n",
        "Q = 2*I - torch.diag(torch.ones(n-1), diagonal=1) - torch.diag(torch.ones(n-1), diagonal=-1)\n",
        "# b = zero vector thus x^* should be zero\n",
        "x = torch.randn(n) # random initial guess\n",
        "g = Q@x # this is the same as torch.matmul(Q,x)\n",
        "d = -g\n",
        "num_iter = 40"
      ]
    },
    {
      "cell_type": "code",
      "execution_count": 36,
      "metadata": {
        "id": "kmxBlVg7XLiI",
        "colab": {
          "base_uri": "https://localhost:8080/",
          "height": 49,
          "referenced_widgets": [
            "95fcec76b49341f18d813e61e67bdd5e",
            "7459b7f5686042c68a8e7b69073bf420",
            "feef1ccc08234e2080fe58a3eb7d18ea",
            "06c644ce87d948d78ab36aceeb0dc086",
            "d2566724bf8a40939760b07360f736fc",
            "490b28beed714f5989bf9d0977c506d6",
            "3e34f2c2a586449c954206cde0f0f591",
            "edd617e117e247d5ae4787c915719c79",
            "1c2fb1b81b0b4cc9a045067124698e40",
            "33bb91a5102a44d4a4e2b178e0a49a43",
            "bd6f0629f9f34c7ca6c9bd2115ce1fea"
          ]
        },
        "outputId": "4147d250-947a-4ff2-f1bc-7240a741a851"
      },
      "outputs": [
        {
          "output_type": "display_data",
          "data": {
            "text/plain": [
              "  0%|          | 0/40 [00:00<?, ?it/s]"
            ],
            "application/vnd.jupyter.widget-view+json": {
              "version_major": 2,
              "version_minor": 0,
              "model_id": "95fcec76b49341f18d813e61e67bdd5e"
            }
          },
          "metadata": {}
        }
      ],
      "source": [
        "# converges in O(n) steps\n",
        "with tqdm(total=num_iter) as pbar:\n",
        "  for k in range(num_iter):\n",
        "      alpha = g@g/(d@(Q@d))\n",
        "      x = x + alpha*d\n",
        "      tmp = g@g # r_k dot with r_k\n",
        "      g = g + alpha*(Q@d)\n",
        "      d = -g + (g@g)/tmp*d\n",
        "      pbar.set_description(f\"g norm: {torch.linalg.norm(g):.5e} | d norm: {torch.linalg.norm(d):.5e}\")\n",
        "      time.sleep(0.2)\n",
        "      pbar.update()"
      ]
    },
    {
      "cell_type": "markdown",
      "metadata": {
        "id": "DtFr9QQaY626"
      },
      "source": [
        "If we run this algorithm too many times (if `num_iter` $ \\gg n$), `d@(Q@d)` will be very small, dividing it yields overflow and outputs `nan`. Therefore, we need to implement a **stopping criterion**.\n",
        "\n",
        "The stopping criterion commonly for CG is:\n",
        "- if the norm of the gradient is smaller than a tolerance `tol`, then we exit the loop.\n",
        "- if the maximum number of iteration is reached, then exit the loop.\n",
        "\n",
        "This can be implemented using a `while` loop (an example is as follows) or `break` in the `for` loop. For this problem, you need\n",
        "\n",
        "- Implement the stopping criterion for CG in the following cell.\n",
        "- print the number of iterations when the algorithm stops, note each run of `x = x + alpha*d` counts as one iteration (of subspace search method).\n"
      ]
    },
    {
      "cell_type": "code",
      "execution_count": 37,
      "metadata": {
        "id": "oROMe8Xsa2qL",
        "colab": {
          "base_uri": "https://localhost:8080/"
        },
        "outputId": "546459ea-427b-49f3-e91c-9aa0b7550df7"
      },
      "outputs": [
        {
          "output_type": "stream",
          "name": "stdout",
          "text": [
            "10\n",
            "2.0\n",
            "0.4\n",
            "0.08000000000000002\n",
            "0.016000000000000004\n",
            "0.003200000000000001\n",
            "0.0006400000000000003\n",
            "0.00012800000000000005\n"
          ]
        }
      ],
      "source": [
        "k = 10\n",
        "while k > 1e-4:\n",
        "  print(k)\n",
        "  k *= 0.2"
      ]
    },
    {
      "cell_type": "code",
      "execution_count": 42,
      "metadata": {
        "id": "GAMKnpDpYghT",
        "colab": {
          "base_uri": "https://localhost:8080/",
          "height": 66,
          "referenced_widgets": [
            "e1109a1f96744b5fb62a563b4d73ebeb",
            "a13b2f61fa67462cac76ecc3194190d4",
            "bfd3349ed2544a63b7983f56ac4c5ba9",
            "8ad70b02babf4c9f81c3c461c569eb37",
            "9d5875d298f44dc9b40be28ed9b58dd1",
            "e77f3759015048d492f31620c2f08f05",
            "5d11de5f046a4b8892b74f7e36da15e4",
            "68d9b65bb5c84b06b1423188eed90218",
            "4772f514b0964f42b00576aa57bddb84",
            "37cddc13777a4bf5bc13d27ffd86626f",
            "d008e90a2c0c48dbbe75fad20e36be26"
          ]
        },
        "outputId": "f383d118-37f9-46f9-b025-2cce81ca5793"
      },
      "outputs": [
        {
          "output_type": "display_data",
          "data": {
            "text/plain": [
              "  0%|          | 0/200 [00:00<?, ?it/s]"
            ],
            "application/vnd.jupyter.widget-view+json": {
              "version_major": 2,
              "version_minor": 0,
              "model_id": "e1109a1f96744b5fb62a563b4d73ebeb"
            }
          },
          "metadata": {}
        },
        {
          "output_type": "stream",
          "name": "stdout",
          "text": [
            "Stopped at iteration 39\n"
          ]
        }
      ],
      "source": [
        "tol = 1e-5 # this is the tolerance\n",
        "\n",
        "x = torch.arange(n)-n/2 # new initial guess\n",
        "g = Q@x # this is the same as torch.matmul(Q,x)\n",
        "d = -g\n",
        "\n",
        "max_iter = 200\n",
        "# copy the major body of CG code from above and implement the stopping criterion\n",
        "\n",
        "n_iter = 0\n",
        "with tqdm(total=max_iter) as pbar:\n",
        "  while torch.linalg.norm(g) > tol and n_iter < max_iter:\n",
        "      alpha = g@g/(d@(Q@d))\n",
        "      x = x + alpha*d\n",
        "      tmp = g@g # r_k dot with r_k\n",
        "      g = g + alpha*(Q@d)\n",
        "      d = -g + (g@g)/tmp*d\n",
        "      pbar.set_description(f\"Iteration {n_iter}, g norm: {torch.linalg.norm(g):.5e} | d norm: {torch.linalg.norm(d):.5e}\")\n",
        "      n_iter += 1\n",
        "      time.sleep(0.1)\n",
        "      pbar.update()\n",
        "      if torch.linalg.norm(g) < tol:\n",
        "        print(f'Stopped at iteration {n_iter - 1}')\n",
        "        break\n",
        "\n",
        "# expected output for the number of iterations when exiting: k=39"
      ]
    }
  ],
  "metadata": {
    "colab": {
      "provenance": []
    },
    "kernelspec": {
      "display_name": "Python 3",
      "language": "python",
      "name": "python3"
    },
    "language_info": {
      "codemirror_mode": {
        "name": "ipython",
        "version": 3
      },
      "file_extension": ".py",
      "mimetype": "text/x-python",
      "name": "python",
      "nbconvert_exporter": "python",
      "pygments_lexer": "ipython3",
      "version": "3.8.10"
    },
    "widgets": {
      "application/vnd.jupyter.widget-state+json": {
        "95fcec76b49341f18d813e61e67bdd5e": {
          "model_module": "@jupyter-widgets/controls",
          "model_name": "HBoxModel",
          "model_module_version": "1.5.0",
          "state": {
            "_dom_classes": [],
            "_model_module": "@jupyter-widgets/controls",
            "_model_module_version": "1.5.0",
            "_model_name": "HBoxModel",
            "_view_count": null,
            "_view_module": "@jupyter-widgets/controls",
            "_view_module_version": "1.5.0",
            "_view_name": "HBoxView",
            "box_style": "",
            "children": [
              "IPY_MODEL_7459b7f5686042c68a8e7b69073bf420",
              "IPY_MODEL_feef1ccc08234e2080fe58a3eb7d18ea",
              "IPY_MODEL_06c644ce87d948d78ab36aceeb0dc086"
            ],
            "layout": "IPY_MODEL_d2566724bf8a40939760b07360f736fc"
          }
        },
        "7459b7f5686042c68a8e7b69073bf420": {
          "model_module": "@jupyter-widgets/controls",
          "model_name": "HTMLModel",
          "model_module_version": "1.5.0",
          "state": {
            "_dom_classes": [],
            "_model_module": "@jupyter-widgets/controls",
            "_model_module_version": "1.5.0",
            "_model_name": "HTMLModel",
            "_view_count": null,
            "_view_module": "@jupyter-widgets/controls",
            "_view_module_version": "1.5.0",
            "_view_name": "HTMLView",
            "description": "",
            "description_tooltip": null,
            "layout": "IPY_MODEL_490b28beed714f5989bf9d0977c506d6",
            "placeholder": "​",
            "style": "IPY_MODEL_3e34f2c2a586449c954206cde0f0f591",
            "value": "g norm: 2.38039e-05 | d norm: 2.38049e-05: 100%"
          }
        },
        "feef1ccc08234e2080fe58a3eb7d18ea": {
          "model_module": "@jupyter-widgets/controls",
          "model_name": "FloatProgressModel",
          "model_module_version": "1.5.0",
          "state": {
            "_dom_classes": [],
            "_model_module": "@jupyter-widgets/controls",
            "_model_module_version": "1.5.0",
            "_model_name": "FloatProgressModel",
            "_view_count": null,
            "_view_module": "@jupyter-widgets/controls",
            "_view_module_version": "1.5.0",
            "_view_name": "ProgressView",
            "bar_style": "success",
            "description": "",
            "description_tooltip": null,
            "layout": "IPY_MODEL_edd617e117e247d5ae4787c915719c79",
            "max": 40,
            "min": 0,
            "orientation": "horizontal",
            "style": "IPY_MODEL_1c2fb1b81b0b4cc9a045067124698e40",
            "value": 40
          }
        },
        "06c644ce87d948d78ab36aceeb0dc086": {
          "model_module": "@jupyter-widgets/controls",
          "model_name": "HTMLModel",
          "model_module_version": "1.5.0",
          "state": {
            "_dom_classes": [],
            "_model_module": "@jupyter-widgets/controls",
            "_model_module_version": "1.5.0",
            "_model_name": "HTMLModel",
            "_view_count": null,
            "_view_module": "@jupyter-widgets/controls",
            "_view_module_version": "1.5.0",
            "_view_name": "HTMLView",
            "description": "",
            "description_tooltip": null,
            "layout": "IPY_MODEL_33bb91a5102a44d4a4e2b178e0a49a43",
            "placeholder": "​",
            "style": "IPY_MODEL_bd6f0629f9f34c7ca6c9bd2115ce1fea",
            "value": " 40/40 [00:08&lt;00:00,  4.94it/s]"
          }
        },
        "d2566724bf8a40939760b07360f736fc": {
          "model_module": "@jupyter-widgets/base",
          "model_name": "LayoutModel",
          "model_module_version": "1.2.0",
          "state": {
            "_model_module": "@jupyter-widgets/base",
            "_model_module_version": "1.2.0",
            "_model_name": "LayoutModel",
            "_view_count": null,
            "_view_module": "@jupyter-widgets/base",
            "_view_module_version": "1.2.0",
            "_view_name": "LayoutView",
            "align_content": null,
            "align_items": null,
            "align_self": null,
            "border": null,
            "bottom": null,
            "display": null,
            "flex": null,
            "flex_flow": null,
            "grid_area": null,
            "grid_auto_columns": null,
            "grid_auto_flow": null,
            "grid_auto_rows": null,
            "grid_column": null,
            "grid_gap": null,
            "grid_row": null,
            "grid_template_areas": null,
            "grid_template_columns": null,
            "grid_template_rows": null,
            "height": null,
            "justify_content": null,
            "justify_items": null,
            "left": null,
            "margin": null,
            "max_height": null,
            "max_width": null,
            "min_height": null,
            "min_width": null,
            "object_fit": null,
            "object_position": null,
            "order": null,
            "overflow": null,
            "overflow_x": null,
            "overflow_y": null,
            "padding": null,
            "right": null,
            "top": null,
            "visibility": null,
            "width": null
          }
        },
        "490b28beed714f5989bf9d0977c506d6": {
          "model_module": "@jupyter-widgets/base",
          "model_name": "LayoutModel",
          "model_module_version": "1.2.0",
          "state": {
            "_model_module": "@jupyter-widgets/base",
            "_model_module_version": "1.2.0",
            "_model_name": "LayoutModel",
            "_view_count": null,
            "_view_module": "@jupyter-widgets/base",
            "_view_module_version": "1.2.0",
            "_view_name": "LayoutView",
            "align_content": null,
            "align_items": null,
            "align_self": null,
            "border": null,
            "bottom": null,
            "display": null,
            "flex": null,
            "flex_flow": null,
            "grid_area": null,
            "grid_auto_columns": null,
            "grid_auto_flow": null,
            "grid_auto_rows": null,
            "grid_column": null,
            "grid_gap": null,
            "grid_row": null,
            "grid_template_areas": null,
            "grid_template_columns": null,
            "grid_template_rows": null,
            "height": null,
            "justify_content": null,
            "justify_items": null,
            "left": null,
            "margin": null,
            "max_height": null,
            "max_width": null,
            "min_height": null,
            "min_width": null,
            "object_fit": null,
            "object_position": null,
            "order": null,
            "overflow": null,
            "overflow_x": null,
            "overflow_y": null,
            "padding": null,
            "right": null,
            "top": null,
            "visibility": null,
            "width": null
          }
        },
        "3e34f2c2a586449c954206cde0f0f591": {
          "model_module": "@jupyter-widgets/controls",
          "model_name": "DescriptionStyleModel",
          "model_module_version": "1.5.0",
          "state": {
            "_model_module": "@jupyter-widgets/controls",
            "_model_module_version": "1.5.0",
            "_model_name": "DescriptionStyleModel",
            "_view_count": null,
            "_view_module": "@jupyter-widgets/base",
            "_view_module_version": "1.2.0",
            "_view_name": "StyleView",
            "description_width": ""
          }
        },
        "edd617e117e247d5ae4787c915719c79": {
          "model_module": "@jupyter-widgets/base",
          "model_name": "LayoutModel",
          "model_module_version": "1.2.0",
          "state": {
            "_model_module": "@jupyter-widgets/base",
            "_model_module_version": "1.2.0",
            "_model_name": "LayoutModel",
            "_view_count": null,
            "_view_module": "@jupyter-widgets/base",
            "_view_module_version": "1.2.0",
            "_view_name": "LayoutView",
            "align_content": null,
            "align_items": null,
            "align_self": null,
            "border": null,
            "bottom": null,
            "display": null,
            "flex": null,
            "flex_flow": null,
            "grid_area": null,
            "grid_auto_columns": null,
            "grid_auto_flow": null,
            "grid_auto_rows": null,
            "grid_column": null,
            "grid_gap": null,
            "grid_row": null,
            "grid_template_areas": null,
            "grid_template_columns": null,
            "grid_template_rows": null,
            "height": null,
            "justify_content": null,
            "justify_items": null,
            "left": null,
            "margin": null,
            "max_height": null,
            "max_width": null,
            "min_height": null,
            "min_width": null,
            "object_fit": null,
            "object_position": null,
            "order": null,
            "overflow": null,
            "overflow_x": null,
            "overflow_y": null,
            "padding": null,
            "right": null,
            "top": null,
            "visibility": null,
            "width": null
          }
        },
        "1c2fb1b81b0b4cc9a045067124698e40": {
          "model_module": "@jupyter-widgets/controls",
          "model_name": "ProgressStyleModel",
          "model_module_version": "1.5.0",
          "state": {
            "_model_module": "@jupyter-widgets/controls",
            "_model_module_version": "1.5.0",
            "_model_name": "ProgressStyleModel",
            "_view_count": null,
            "_view_module": "@jupyter-widgets/base",
            "_view_module_version": "1.2.0",
            "_view_name": "StyleView",
            "bar_color": null,
            "description_width": ""
          }
        },
        "33bb91a5102a44d4a4e2b178e0a49a43": {
          "model_module": "@jupyter-widgets/base",
          "model_name": "LayoutModel",
          "model_module_version": "1.2.0",
          "state": {
            "_model_module": "@jupyter-widgets/base",
            "_model_module_version": "1.2.0",
            "_model_name": "LayoutModel",
            "_view_count": null,
            "_view_module": "@jupyter-widgets/base",
            "_view_module_version": "1.2.0",
            "_view_name": "LayoutView",
            "align_content": null,
            "align_items": null,
            "align_self": null,
            "border": null,
            "bottom": null,
            "display": null,
            "flex": null,
            "flex_flow": null,
            "grid_area": null,
            "grid_auto_columns": null,
            "grid_auto_flow": null,
            "grid_auto_rows": null,
            "grid_column": null,
            "grid_gap": null,
            "grid_row": null,
            "grid_template_areas": null,
            "grid_template_columns": null,
            "grid_template_rows": null,
            "height": null,
            "justify_content": null,
            "justify_items": null,
            "left": null,
            "margin": null,
            "max_height": null,
            "max_width": null,
            "min_height": null,
            "min_width": null,
            "object_fit": null,
            "object_position": null,
            "order": null,
            "overflow": null,
            "overflow_x": null,
            "overflow_y": null,
            "padding": null,
            "right": null,
            "top": null,
            "visibility": null,
            "width": null
          }
        },
        "bd6f0629f9f34c7ca6c9bd2115ce1fea": {
          "model_module": "@jupyter-widgets/controls",
          "model_name": "DescriptionStyleModel",
          "model_module_version": "1.5.0",
          "state": {
            "_model_module": "@jupyter-widgets/controls",
            "_model_module_version": "1.5.0",
            "_model_name": "DescriptionStyleModel",
            "_view_count": null,
            "_view_module": "@jupyter-widgets/base",
            "_view_module_version": "1.2.0",
            "_view_name": "StyleView",
            "description_width": ""
          }
        },
        "e1109a1f96744b5fb62a563b4d73ebeb": {
          "model_module": "@jupyter-widgets/controls",
          "model_name": "HBoxModel",
          "model_module_version": "1.5.0",
          "state": {
            "_dom_classes": [],
            "_model_module": "@jupyter-widgets/controls",
            "_model_module_version": "1.5.0",
            "_model_name": "HBoxModel",
            "_view_count": null,
            "_view_module": "@jupyter-widgets/controls",
            "_view_module_version": "1.5.0",
            "_view_name": "HBoxView",
            "box_style": "",
            "children": [
              "IPY_MODEL_a13b2f61fa67462cac76ecc3194190d4",
              "IPY_MODEL_bfd3349ed2544a63b7983f56ac4c5ba9",
              "IPY_MODEL_8ad70b02babf4c9f81c3c461c569eb37"
            ],
            "layout": "IPY_MODEL_9d5875d298f44dc9b40be28ed9b58dd1"
          }
        },
        "a13b2f61fa67462cac76ecc3194190d4": {
          "model_module": "@jupyter-widgets/controls",
          "model_name": "HTMLModel",
          "model_module_version": "1.5.0",
          "state": {
            "_dom_classes": [],
            "_model_module": "@jupyter-widgets/controls",
            "_model_module_version": "1.5.0",
            "_model_name": "HTMLModel",
            "_view_count": null,
            "_view_module": "@jupyter-widgets/controls",
            "_view_module_version": "1.5.0",
            "_view_name": "HTMLView",
            "description": "",
            "description_tooltip": null,
            "layout": "IPY_MODEL_e77f3759015048d492f31620c2f08f05",
            "placeholder": "​",
            "style": "IPY_MODEL_5d11de5f046a4b8892b74f7e36da15e4",
            "value": "Iteration 39, g norm: 1.82748e-06 | d norm: 1.82748e-06:  20%"
          }
        },
        "bfd3349ed2544a63b7983f56ac4c5ba9": {
          "model_module": "@jupyter-widgets/controls",
          "model_name": "FloatProgressModel",
          "model_module_version": "1.5.0",
          "state": {
            "_dom_classes": [],
            "_model_module": "@jupyter-widgets/controls",
            "_model_module_version": "1.5.0",
            "_model_name": "FloatProgressModel",
            "_view_count": null,
            "_view_module": "@jupyter-widgets/controls",
            "_view_module_version": "1.5.0",
            "_view_name": "ProgressView",
            "bar_style": "danger",
            "description": "",
            "description_tooltip": null,
            "layout": "IPY_MODEL_68d9b65bb5c84b06b1423188eed90218",
            "max": 200,
            "min": 0,
            "orientation": "horizontal",
            "style": "IPY_MODEL_4772f514b0964f42b00576aa57bddb84",
            "value": 40
          }
        },
        "8ad70b02babf4c9f81c3c461c569eb37": {
          "model_module": "@jupyter-widgets/controls",
          "model_name": "HTMLModel",
          "model_module_version": "1.5.0",
          "state": {
            "_dom_classes": [],
            "_model_module": "@jupyter-widgets/controls",
            "_model_module_version": "1.5.0",
            "_model_name": "HTMLModel",
            "_view_count": null,
            "_view_module": "@jupyter-widgets/controls",
            "_view_module_version": "1.5.0",
            "_view_name": "HTMLView",
            "description": "",
            "description_tooltip": null,
            "layout": "IPY_MODEL_37cddc13777a4bf5bc13d27ffd86626f",
            "placeholder": "​",
            "style": "IPY_MODEL_d008e90a2c0c48dbbe75fad20e36be26",
            "value": " 40/200 [00:04&lt;00:16,  9.67it/s]"
          }
        },
        "9d5875d298f44dc9b40be28ed9b58dd1": {
          "model_module": "@jupyter-widgets/base",
          "model_name": "LayoutModel",
          "model_module_version": "1.2.0",
          "state": {
            "_model_module": "@jupyter-widgets/base",
            "_model_module_version": "1.2.0",
            "_model_name": "LayoutModel",
            "_view_count": null,
            "_view_module": "@jupyter-widgets/base",
            "_view_module_version": "1.2.0",
            "_view_name": "LayoutView",
            "align_content": null,
            "align_items": null,
            "align_self": null,
            "border": null,
            "bottom": null,
            "display": null,
            "flex": null,
            "flex_flow": null,
            "grid_area": null,
            "grid_auto_columns": null,
            "grid_auto_flow": null,
            "grid_auto_rows": null,
            "grid_column": null,
            "grid_gap": null,
            "grid_row": null,
            "grid_template_areas": null,
            "grid_template_columns": null,
            "grid_template_rows": null,
            "height": null,
            "justify_content": null,
            "justify_items": null,
            "left": null,
            "margin": null,
            "max_height": null,
            "max_width": null,
            "min_height": null,
            "min_width": null,
            "object_fit": null,
            "object_position": null,
            "order": null,
            "overflow": null,
            "overflow_x": null,
            "overflow_y": null,
            "padding": null,
            "right": null,
            "top": null,
            "visibility": null,
            "width": null
          }
        },
        "e77f3759015048d492f31620c2f08f05": {
          "model_module": "@jupyter-widgets/base",
          "model_name": "LayoutModel",
          "model_module_version": "1.2.0",
          "state": {
            "_model_module": "@jupyter-widgets/base",
            "_model_module_version": "1.2.0",
            "_model_name": "LayoutModel",
            "_view_count": null,
            "_view_module": "@jupyter-widgets/base",
            "_view_module_version": "1.2.0",
            "_view_name": "LayoutView",
            "align_content": null,
            "align_items": null,
            "align_self": null,
            "border": null,
            "bottom": null,
            "display": null,
            "flex": null,
            "flex_flow": null,
            "grid_area": null,
            "grid_auto_columns": null,
            "grid_auto_flow": null,
            "grid_auto_rows": null,
            "grid_column": null,
            "grid_gap": null,
            "grid_row": null,
            "grid_template_areas": null,
            "grid_template_columns": null,
            "grid_template_rows": null,
            "height": null,
            "justify_content": null,
            "justify_items": null,
            "left": null,
            "margin": null,
            "max_height": null,
            "max_width": null,
            "min_height": null,
            "min_width": null,
            "object_fit": null,
            "object_position": null,
            "order": null,
            "overflow": null,
            "overflow_x": null,
            "overflow_y": null,
            "padding": null,
            "right": null,
            "top": null,
            "visibility": null,
            "width": null
          }
        },
        "5d11de5f046a4b8892b74f7e36da15e4": {
          "model_module": "@jupyter-widgets/controls",
          "model_name": "DescriptionStyleModel",
          "model_module_version": "1.5.0",
          "state": {
            "_model_module": "@jupyter-widgets/controls",
            "_model_module_version": "1.5.0",
            "_model_name": "DescriptionStyleModel",
            "_view_count": null,
            "_view_module": "@jupyter-widgets/base",
            "_view_module_version": "1.2.0",
            "_view_name": "StyleView",
            "description_width": ""
          }
        },
        "68d9b65bb5c84b06b1423188eed90218": {
          "model_module": "@jupyter-widgets/base",
          "model_name": "LayoutModel",
          "model_module_version": "1.2.0",
          "state": {
            "_model_module": "@jupyter-widgets/base",
            "_model_module_version": "1.2.0",
            "_model_name": "LayoutModel",
            "_view_count": null,
            "_view_module": "@jupyter-widgets/base",
            "_view_module_version": "1.2.0",
            "_view_name": "LayoutView",
            "align_content": null,
            "align_items": null,
            "align_self": null,
            "border": null,
            "bottom": null,
            "display": null,
            "flex": null,
            "flex_flow": null,
            "grid_area": null,
            "grid_auto_columns": null,
            "grid_auto_flow": null,
            "grid_auto_rows": null,
            "grid_column": null,
            "grid_gap": null,
            "grid_row": null,
            "grid_template_areas": null,
            "grid_template_columns": null,
            "grid_template_rows": null,
            "height": null,
            "justify_content": null,
            "justify_items": null,
            "left": null,
            "margin": null,
            "max_height": null,
            "max_width": null,
            "min_height": null,
            "min_width": null,
            "object_fit": null,
            "object_position": null,
            "order": null,
            "overflow": null,
            "overflow_x": null,
            "overflow_y": null,
            "padding": null,
            "right": null,
            "top": null,
            "visibility": null,
            "width": null
          }
        },
        "4772f514b0964f42b00576aa57bddb84": {
          "model_module": "@jupyter-widgets/controls",
          "model_name": "ProgressStyleModel",
          "model_module_version": "1.5.0",
          "state": {
            "_model_module": "@jupyter-widgets/controls",
            "_model_module_version": "1.5.0",
            "_model_name": "ProgressStyleModel",
            "_view_count": null,
            "_view_module": "@jupyter-widgets/base",
            "_view_module_version": "1.2.0",
            "_view_name": "StyleView",
            "bar_color": null,
            "description_width": ""
          }
        },
        "37cddc13777a4bf5bc13d27ffd86626f": {
          "model_module": "@jupyter-widgets/base",
          "model_name": "LayoutModel",
          "model_module_version": "1.2.0",
          "state": {
            "_model_module": "@jupyter-widgets/base",
            "_model_module_version": "1.2.0",
            "_model_name": "LayoutModel",
            "_view_count": null,
            "_view_module": "@jupyter-widgets/base",
            "_view_module_version": "1.2.0",
            "_view_name": "LayoutView",
            "align_content": null,
            "align_items": null,
            "align_self": null,
            "border": null,
            "bottom": null,
            "display": null,
            "flex": null,
            "flex_flow": null,
            "grid_area": null,
            "grid_auto_columns": null,
            "grid_auto_flow": null,
            "grid_auto_rows": null,
            "grid_column": null,
            "grid_gap": null,
            "grid_row": null,
            "grid_template_areas": null,
            "grid_template_columns": null,
            "grid_template_rows": null,
            "height": null,
            "justify_content": null,
            "justify_items": null,
            "left": null,
            "margin": null,
            "max_height": null,
            "max_width": null,
            "min_height": null,
            "min_width": null,
            "object_fit": null,
            "object_position": null,
            "order": null,
            "overflow": null,
            "overflow_x": null,
            "overflow_y": null,
            "padding": null,
            "right": null,
            "top": null,
            "visibility": null,
            "width": null
          }
        },
        "d008e90a2c0c48dbbe75fad20e36be26": {
          "model_module": "@jupyter-widgets/controls",
          "model_name": "DescriptionStyleModel",
          "model_module_version": "1.5.0",
          "state": {
            "_model_module": "@jupyter-widgets/controls",
            "_model_module_version": "1.5.0",
            "_model_name": "DescriptionStyleModel",
            "_view_count": null,
            "_view_module": "@jupyter-widgets/base",
            "_view_module_version": "1.2.0",
            "_view_name": "StyleView",
            "description_width": ""
          }
        }
      }
    }
  },
  "nbformat": 4,
  "nbformat_minor": 0
}