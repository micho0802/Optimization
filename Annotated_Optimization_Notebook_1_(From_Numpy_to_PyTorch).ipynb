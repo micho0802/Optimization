{
  "nbformat": 4,
  "nbformat_minor": 0,
  "metadata": {
    "colab": {
      "provenance": [],
      "gpuType": "T4"
    },
    "kernelspec": {
      "name": "python3",
      "display_name": "Python 3"
    },
    "accelerator": "GPU"
  },
  "cells": [
    {
      "cell_type": "markdown",
      "source": [
        "\n",
        "# Coding Lecture 1\n",
        "\n",
        "## Hello\n",
        "\n",
        "## Welcome to Google Colab\n",
        "We are using Google Colab for our class.\n",
        "For introduction of how to use Colab please refer to Google's official notebook: [https://colab.research.google.com/notebooks/intro.ipynb](https://colab.research.google.com/notebooks/intro.ipynb)\n",
        "\n",
        "This is a text cell and it uses Markdown syntax.\n",
        "\n",
        "For example, we can enter math inline by `$ $`: $E = mc^2$, and `$$   $$` for a line of equation:\n",
        "$$\n",
        "\\int^1_0 f(x) dx + \\int^1_0 f^{-1}(x) dx  = 1.\n",
        "$$\n",
        "\n",
        "We can type Python code as well:\n",
        "```python\n",
        "import numpy as np\n",
        "x = np.array([9,1,1])\n",
        "print(x)\n",
        "```"
      ],
      "metadata": {
        "id": "SRD-U8HN1aAZ"
      }
    },
    {
      "cell_type": "code",
      "metadata": {
        "id": "aOmOayLG9QH1",
        "colab": {
          "base_uri": "https://localhost:8080/"
        },
        "outputId": "71654b54-11a3-4282-bb8c-3c0910d79e97"
      },
      "source": [
        "from time import time\n",
        "print(\"Welcome to Comp-Sci 5590 / Math 5555.\")\n",
        "print(f\"{time():.2f}\") # f-string"
      ],
      "execution_count": null,
      "outputs": [
        {
          "output_type": "stream",
          "name": "stdout",
          "text": [
            "Welcome to Comp-Sci 5590 / Math 5555.\n",
            "1694701562.38\n"
          ]
        }
      ]
    },
    {
      "cell_type": "code",
      "metadata": {
        "id": "zi3dvERjmAJk"
      },
      "source": [
        "import numpy as np\n",
        "import torch"
      ],
      "execution_count": null,
      "outputs": []
    },
    {
      "cell_type": "markdown",
      "metadata": {
        "id": "aZFQ21iGoUBS"
      },
      "source": [
        "## Introduction of PyTorch and GPUs\n",
        "\n",
        "Colab uses an NVIDIA Tesla T4, and Kaggle uses Nvidia Tesla P100, both of which are extremely powerful GPUs only subpar vs the new Ampere GPUs (RTX 3090, RTX 4090, A4000, A8000).\n",
        "\n",
        "A GPU instance has a time limit (12h on Colab, 9h on Kaggle). However, Colab's GPU limit is more shady as stated in the\n",
        "> Colab resources are not guaranteed and not unlimited, and the usage limits sometimes fluctuate. This is necessary for Colab to be able to provide resources for free. For more details, see Resource Limits.\n",
        "\n",
        "If you want to get into serious Machine Learning, my personal recommendation is to build a workstation around an RTX 3060 12GB under a budget and learn Linux. If you started working on CV (computer vision) or NLP (natural language processing), then it is recommended to get an RTX 3090/RTX 4090, which are ideal single GPU set up for large scale deep learning.\n",
        "\n",
        "At the time of writing this tutorial (Sept 2023), the current stable version is 2.0 with GPU support (`cu` in the end)."
      ]
    },
    {
      "cell_type": "code",
      "metadata": {
        "id": "y1f0hkQEnv-Y",
        "colab": {
          "base_uri": "https://localhost:8080/",
          "height": 35
        },
        "outputId": "da6d846d-a602-4236-c2f5-3d1b77674d5d"
      },
      "source": [
        "torch.__version__ # cu means cuda"
      ],
      "execution_count": null,
      "outputs": [
        {
          "output_type": "execute_result",
          "data": {
            "text/plain": [
              "'2.0.1+cu118'"
            ],
            "application/vnd.google.colaboratory.intrinsic+json": {
              "type": "string"
            }
          },
          "metadata": {},
          "execution_count": 3
        }
      ]
    },
    {
      "cell_type": "code",
      "metadata": {
        "id": "OBzcuYAz_I_A"
      },
      "source": [
        "torch.cuda.is_available()"
      ],
      "execution_count": null,
      "outputs": []
    },
    {
      "cell_type": "code",
      "source": [
        "!nvidia-smi"
      ],
      "metadata": {
        "id": "3HPSJ9yb_nBb"
      },
      "execution_count": null,
      "outputs": []
    },
    {
      "cell_type": "markdown",
      "source": [
        "As in every machine learning framework, PyTorch provides functions that are stochastic like generating random numbers. However, a very good practice is to setup your code to be reproducible with the exact same random numbers. This is why we set a seed below."
      ],
      "metadata": {
        "id": "NPnSCNAB0-ht"
      }
    },
    {
      "cell_type": "code",
      "source": [
        "torch.cuda.manual_seed(42) # Setting the seed"
      ],
      "metadata": {
        "id": "YBSMfYWk1AOs"
      },
      "execution_count": null,
      "outputs": []
    },
    {
      "cell_type": "markdown",
      "source": [
        "### Compare a `torch.tensor` with a `numpy.ndarray`\n",
        "\n",
        "- Initialization\n",
        "- Convert one to the other and vice versa\n",
        "- Common methods (functions) associated with them\n",
        "- PyTorch has a special \"in-place\" operation which has an underscore `_` as a suffix of a certain function, meaning they will modify the underlying variable.\n",
        "\n",
        "\n",
        "Tensors are the PyTorch equivalent to Numpy arrays, with the addition to also have support for GPU acceleration on various operation.\n",
        "The name \"tensor\" is a generalization of concepts you already know. For instance, a vector is a 1-D tensor, and a matrix a 2-D tensor. When working with neural networks, we will use tensors of various shapes and number of dimensions.\n",
        "\n",
        "Most common functions you know from numpy can be used on tensors as well. Actually, since numpy arrays are so similar to tensors, we can convert most tensors to numpy arrays (and back) but we don't need it too often."
      ],
      "metadata": {
        "id": "KJTCNLGDpQD1"
      }
    },
    {
      "cell_type": "code",
      "metadata": {
        "id": "4zzNEJt7_3kF"
      },
      "source": [
        "np.__version__"
      ],
      "execution_count": null,
      "outputs": []
    },
    {
      "cell_type": "markdown",
      "source": [
        "#### Initialization\n",
        "\n",
        "Let's first start by looking at different ways of creating a tensor. There are many possible options, the most simple one is to call `torch.Tensor` (an uninitialized `FloatTensor`, i.e. single precision) or `torch.tensor` (initialized `LongTensor`, double precision) passing the desired shape as input argument\n",
        "\n",
        "```matlab\n",
        "x = [1 10; 0 1; 10 2]\n",
        "```"
      ],
      "metadata": {
        "id": "QrDhkEiy1KI2"
      }
    },
    {
      "cell_type": "code",
      "source": [
        "x = np.array([[1, 10], [0,  1], [10, 2]])\n",
        "print(x)\n",
        "print(x.dtype)\n",
        "\n"
      ],
      "metadata": {
        "id": "lpDxg4lL1Qg1",
        "colab": {
          "base_uri": "https://localhost:8080/"
        },
        "outputId": "e44c0c59-f752-4421-ee2f-52cd617ab1df"
      },
      "execution_count": null,
      "outputs": [
        {
          "output_type": "stream",
          "name": "stdout",
          "text": [
            "[[ 1 10]\n",
            " [ 0  1]\n",
            " [10  2]]\n",
            "int64\n"
          ]
        }
      ]
    },
    {
      "cell_type": "code",
      "source": [
        "x = torch.Tensor([[1, 10],\n",
        "                  [0, 1],\n",
        "                  [10, 2]])\n",
        "print(x)\n",
        "print(x.dtype)"
      ],
      "metadata": {
        "id": "z_vzL7Hj1RM_",
        "colab": {
          "base_uri": "https://localhost:8080/"
        },
        "outputId": "6c343103-38e8-48e5-f144-4524dd3239e7"
      },
      "execution_count": null,
      "outputs": [
        {
          "output_type": "stream",
          "name": "stdout",
          "text": [
            "tensor([[ 1., 10.],\n",
            "        [ 0.,  1.],\n",
            "        [10.,  2.]])\n",
            "torch.float32\n"
          ]
        }
      ]
    },
    {
      "cell_type": "code",
      "metadata": {
        "id": "FJxQCtW7n9zi",
        "colab": {
          "base_uri": "https://localhost:8080/"
        },
        "outputId": "3d74c01f-5f34-4554-9d87-dad168eca355"
      },
      "source": [
        "# x = np.array(range(10))\n",
        "x = np.arange(10)\n",
        "print(x)\n",
        "# from 0 to 10, non-inclusive of the right end"
      ],
      "execution_count": null,
      "outputs": [
        {
          "output_type": "stream",
          "name": "stdout",
          "text": [
            "[0 1 2 3 4 5 6 7 8 9]\n"
          ]
        }
      ]
    },
    {
      "cell_type": "code",
      "metadata": {
        "id": "7AD5Tdn1AKBe",
        "colab": {
          "base_uri": "https://localhost:8080/"
        },
        "outputId": "31f1b889-8608-405a-953e-f7f54eded6e8"
      },
      "source": [
        "np.sum(x)"
      ],
      "execution_count": null,
      "outputs": [
        {
          "output_type": "execute_result",
          "data": {
            "text/plain": [
              "45"
            ]
          },
          "metadata": {},
          "execution_count": 8
        }
      ]
    },
    {
      "cell_type": "code",
      "source": [
        "dir(x) # all possible functions associated with x"
      ],
      "metadata": {
        "colab": {
          "base_uri": "https://localhost:8080/"
        },
        "id": "o_KvcNia1G1t",
        "outputId": "020120fd-1aab-4704-c9ef-70bb52b2384c"
      },
      "execution_count": null,
      "outputs": [
        {
          "output_type": "execute_result",
          "data": {
            "text/plain": [
              "['T',\n",
              " '__abs__',\n",
              " '__add__',\n",
              " '__and__',\n",
              " '__array__',\n",
              " '__array_finalize__',\n",
              " '__array_function__',\n",
              " '__array_interface__',\n",
              " '__array_prepare__',\n",
              " '__array_priority__',\n",
              " '__array_struct__',\n",
              " '__array_ufunc__',\n",
              " '__array_wrap__',\n",
              " '__bool__',\n",
              " '__class__',\n",
              " '__class_getitem__',\n",
              " '__complex__',\n",
              " '__contains__',\n",
              " '__copy__',\n",
              " '__deepcopy__',\n",
              " '__delattr__',\n",
              " '__delitem__',\n",
              " '__dir__',\n",
              " '__divmod__',\n",
              " '__dlpack__',\n",
              " '__dlpack_device__',\n",
              " '__doc__',\n",
              " '__eq__',\n",
              " '__float__',\n",
              " '__floordiv__',\n",
              " '__format__',\n",
              " '__ge__',\n",
              " '__getattribute__',\n",
              " '__getitem__',\n",
              " '__gt__',\n",
              " '__hash__',\n",
              " '__iadd__',\n",
              " '__iand__',\n",
              " '__ifloordiv__',\n",
              " '__ilshift__',\n",
              " '__imatmul__',\n",
              " '__imod__',\n",
              " '__imul__',\n",
              " '__index__',\n",
              " '__init__',\n",
              " '__init_subclass__',\n",
              " '__int__',\n",
              " '__invert__',\n",
              " '__ior__',\n",
              " '__ipow__',\n",
              " '__irshift__',\n",
              " '__isub__',\n",
              " '__iter__',\n",
              " '__itruediv__',\n",
              " '__ixor__',\n",
              " '__le__',\n",
              " '__len__',\n",
              " '__lshift__',\n",
              " '__lt__',\n",
              " '__matmul__',\n",
              " '__mod__',\n",
              " '__mul__',\n",
              " '__ne__',\n",
              " '__neg__',\n",
              " '__new__',\n",
              " '__or__',\n",
              " '__pos__',\n",
              " '__pow__',\n",
              " '__radd__',\n",
              " '__rand__',\n",
              " '__rdivmod__',\n",
              " '__reduce__',\n",
              " '__reduce_ex__',\n",
              " '__repr__',\n",
              " '__rfloordiv__',\n",
              " '__rlshift__',\n",
              " '__rmatmul__',\n",
              " '__rmod__',\n",
              " '__rmul__',\n",
              " '__ror__',\n",
              " '__rpow__',\n",
              " '__rrshift__',\n",
              " '__rshift__',\n",
              " '__rsub__',\n",
              " '__rtruediv__',\n",
              " '__rxor__',\n",
              " '__setattr__',\n",
              " '__setitem__',\n",
              " '__setstate__',\n",
              " '__sizeof__',\n",
              " '__str__',\n",
              " '__sub__',\n",
              " '__subclasshook__',\n",
              " '__truediv__',\n",
              " '__xor__',\n",
              " 'all',\n",
              " 'any',\n",
              " 'argmax',\n",
              " 'argmin',\n",
              " 'argpartition',\n",
              " 'argsort',\n",
              " 'astype',\n",
              " 'base',\n",
              " 'byteswap',\n",
              " 'choose',\n",
              " 'clip',\n",
              " 'compress',\n",
              " 'conj',\n",
              " 'conjugate',\n",
              " 'copy',\n",
              " 'ctypes',\n",
              " 'cumprod',\n",
              " 'cumsum',\n",
              " 'data',\n",
              " 'diagonal',\n",
              " 'dot',\n",
              " 'dtype',\n",
              " 'dump',\n",
              " 'dumps',\n",
              " 'fill',\n",
              " 'flags',\n",
              " 'flat',\n",
              " 'flatten',\n",
              " 'getfield',\n",
              " 'imag',\n",
              " 'item',\n",
              " 'itemset',\n",
              " 'itemsize',\n",
              " 'max',\n",
              " 'mean',\n",
              " 'min',\n",
              " 'nbytes',\n",
              " 'ndim',\n",
              " 'newbyteorder',\n",
              " 'nonzero',\n",
              " 'partition',\n",
              " 'prod',\n",
              " 'ptp',\n",
              " 'put',\n",
              " 'ravel',\n",
              " 'real',\n",
              " 'repeat',\n",
              " 'reshape',\n",
              " 'resize',\n",
              " 'round',\n",
              " 'searchsorted',\n",
              " 'setfield',\n",
              " 'setflags',\n",
              " 'shape',\n",
              " 'size',\n",
              " 'sort',\n",
              " 'squeeze',\n",
              " 'std',\n",
              " 'strides',\n",
              " 'sum',\n",
              " 'swapaxes',\n",
              " 'take',\n",
              " 'tobytes',\n",
              " 'tofile',\n",
              " 'tolist',\n",
              " 'tostring',\n",
              " 'trace',\n",
              " 'transpose',\n",
              " 'var',\n",
              " 'view']"
            ]
          },
          "metadata": {},
          "execution_count": 9
        }
      ]
    },
    {
      "cell_type": "code",
      "metadata": {
        "id": "ZWOhaiQlAWXh",
        "colab": {
          "base_uri": "https://localhost:8080/"
        },
        "outputId": "48ea032d-faf8-4e57-859b-da37054ac3d0"
      },
      "source": [
        "x.sum() # same as np.sum(x)"
      ],
      "execution_count": null,
      "outputs": [
        {
          "output_type": "execute_result",
          "data": {
            "text/plain": [
              "45"
            ]
          },
          "metadata": {},
          "execution_count": 10
        }
      ]
    },
    {
      "cell_type": "code",
      "metadata": {
        "id": "TKeTXRpxAngL"
      },
      "source": [
        "torch.tensor(list([1,2,5]))"
      ],
      "execution_count": null,
      "outputs": []
    },
    {
      "cell_type": "code",
      "metadata": {
        "id": "ho9fpB0opiGB",
        "colab": {
          "base_uri": "https://localhost:8080/"
        },
        "outputId": "54772823-a635-405b-ff85-69a1f0afa13f"
      },
      "source": [
        "x_t = torch.tensor(range(10))\n",
        "print(x_t)"
      ],
      "execution_count": null,
      "outputs": [
        {
          "output_type": "stream",
          "name": "stdout",
          "text": [
            "tensor([0, 1, 2, 3, 4, 5, 6, 7, 8, 9])\n"
          ]
        }
      ]
    },
    {
      "cell_type": "code",
      "metadata": {
        "id": "8xldxF5BA41o",
        "colab": {
          "base_uri": "https://localhost:8080/"
        },
        "outputId": "29c0bba4-163d-4012-d5eb-d2f3209f29e0"
      },
      "source": [
        "x_t.sum()"
      ],
      "execution_count": null,
      "outputs": [
        {
          "output_type": "execute_result",
          "data": {
            "text/plain": [
              "tensor(45)"
            ]
          },
          "metadata": {},
          "execution_count": 12
        }
      ]
    },
    {
      "cell_type": "code",
      "source": [
        "x"
      ],
      "metadata": {
        "id": "FPGXntDc168_"
      },
      "execution_count": null,
      "outputs": []
    },
    {
      "cell_type": "code",
      "metadata": {
        "id": "vhk55DgtBDrO"
      },
      "source": [
        "x = torch.tensor(x)"
      ],
      "execution_count": null,
      "outputs": []
    },
    {
      "cell_type": "code",
      "metadata": {
        "id": "bW6_0NGdBLDs"
      },
      "source": [
        "x_np = x_t.numpy()\n",
        "print(type(x_np))"
      ],
      "execution_count": null,
      "outputs": []
    },
    {
      "cell_type": "code",
      "source": [
        "type(x)\n",
        "print(x)"
      ],
      "metadata": {
        "id": "osC7_4Ya2CWg"
      },
      "execution_count": null,
      "outputs": []
    },
    {
      "cell_type": "code",
      "metadata": {
        "id": "JlDt66IDBX6F",
        "colab": {
          "base_uri": "https://localhost:8080/"
        },
        "outputId": "5833fc1b-b959-45a0-e096-bc05348b3268"
      },
      "source": [
        "# relu\n",
        "x.clip(min=0)"
      ],
      "execution_count": null,
      "outputs": [
        {
          "output_type": "execute_result",
          "data": {
            "text/plain": [
              "array([0, 1, 2, 3, 4, 5, 6, 7, 8, 9])"
            ]
          },
          "metadata": {},
          "execution_count": 13
        }
      ]
    },
    {
      "cell_type": "code",
      "metadata": {
        "id": "X4g4P8fpBnvB",
        "colab": {
          "base_uri": "https://localhost:8080/"
        },
        "outputId": "dc3965d1-2030-4ac0-dfa3-6eda067dad7f"
      },
      "source": [
        "np.array([-0.3, -0.1, 2, 4]).clip(min=0)"
      ],
      "execution_count": null,
      "outputs": [
        {
          "output_type": "execute_result",
          "data": {
            "text/plain": [
              "array([0., 0., 2., 4.])"
            ]
          },
          "metadata": {},
          "execution_count": 14
        }
      ]
    },
    {
      "cell_type": "code",
      "metadata": {
        "id": "o4nE4cIEBw1E",
        "colab": {
          "base_uri": "https://localhost:8080/"
        },
        "outputId": "6d6aba8a-dd19-4352-a73e-355e6046ec38"
      },
      "source": [
        "x_t = torch.Tensor([-0.3, -0.1, 2, 4])\n",
        "x_t.clamp(min=0)"
      ],
      "execution_count": null,
      "outputs": [
        {
          "output_type": "execute_result",
          "data": {
            "text/plain": [
              "tensor([0., 0., 2., 4.])"
            ]
          },
          "metadata": {},
          "execution_count": 16
        }
      ]
    },
    {
      "cell_type": "code",
      "metadata": {
        "id": "mb9xkx8KCN_h",
        "colab": {
          "base_uri": "https://localhost:8080/"
        },
        "outputId": "9083b501-7200-4b02-bd0a-3a640c8f73f2"
      },
      "source": [
        "print(x_t.add(1))\n",
        "print(x_t)"
      ],
      "execution_count": null,
      "outputs": [
        {
          "output_type": "stream",
          "name": "stdout",
          "text": [
            "tensor([0.7000, 0.9000, 3.0000, 5.0000])\n",
            "tensor([-0.3000, -0.1000,  2.0000,  4.0000])\n"
          ]
        }
      ]
    },
    {
      "cell_type": "code",
      "metadata": {
        "id": "u7Hd93_3B78X",
        "colab": {
          "base_uri": "https://localhost:8080/"
        },
        "outputId": "f3237ce8-46ce-4bda-ffe2-c51703cbf2dd"
      },
      "source": [
        "x_t.add(-3).clamp(min=0)"
      ],
      "execution_count": null,
      "outputs": [
        {
          "output_type": "execute_result",
          "data": {
            "text/plain": [
              "tensor([0., 0., 0., 1.])"
            ]
          },
          "metadata": {},
          "execution_count": 19
        }
      ]
    },
    {
      "cell_type": "code",
      "metadata": {
        "id": "IaTnURZ7CzA4",
        "colab": {
          "base_uri": "https://localhost:8080/"
        },
        "outputId": "820ac0ea-9118-433d-fbb5-8bb3fe2dfc46"
      },
      "source": [
        "x_t.add_(1) # in-place operations"
      ],
      "execution_count": null,
      "outputs": [
        {
          "output_type": "execute_result",
          "data": {
            "text/plain": [
              "tensor([0.7000, 0.9000, 3.0000, 5.0000])"
            ]
          },
          "metadata": {},
          "execution_count": 20
        }
      ]
    },
    {
      "cell_type": "code",
      "metadata": {
        "id": "9F-VL0g4C4kl",
        "colab": {
          "base_uri": "https://localhost:8080/"
        },
        "outputId": "e1e8934d-c387-43c3-c810-7932b64b53eb"
      },
      "source": [
        "print(x_t) # similar to matlab disp"
      ],
      "execution_count": null,
      "outputs": [
        {
          "output_type": "stream",
          "name": "stdout",
          "text": [
            "tensor([0.7000, 0.9000, 3.0000, 5.0000])\n"
          ]
        }
      ]
    },
    {
      "cell_type": "code",
      "source": [
        "x_t.__repr__"
      ],
      "metadata": {
        "colab": {
          "base_uri": "https://localhost:8080/"
        },
        "id": "v3KbZvp-HyN6",
        "outputId": "bc271c68-ee07-4793-ec9f-8f44f9baf7f6"
      },
      "execution_count": null,
      "outputs": [
        {
          "output_type": "execute_result",
          "data": {
            "text/plain": [
              "<bound method Tensor.__repr__ of tensor([0.7000, 0.9000, 3.0000, 5.0000])>"
            ]
          },
          "metadata": {},
          "execution_count": 23
        }
      ]
    },
    {
      "cell_type": "markdown",
      "source": [
        "The function `torch.Tensor` allocates memory for the desired tensor, but reuses any values that have already been in the memory. To directly assign values to the tensor during initialization, there are many alternatives including:\n",
        "\n",
        "* `torch.zeros`: Creates a tensor filled with zeros\n",
        "* `torch.ones`: Creates a tensor filled with ones\n",
        "* `torch.rand`: Creates a tensor with random values uniformly sampled between 0 and 1\n",
        "* `torch.randn`: Creates a tensor with random values sampled from a normal distribution with mean 0 and variance 1\n",
        "* `torch.arange`: Creates a tensor containing the values $N,N+k,N+2k,...,\\min\\{M, N+mk\\}$ for $m=\\lfloor (M-N)/k\\rfloor$.\n",
        "* `torch.Tensor` (input list): Creates a tensor from the list elements you provide"
      ],
      "metadata": {
        "id": "lRWKoSSk5idB"
      }
    },
    {
      "cell_type": "markdown",
      "metadata": {
        "id": "CodTGYNBxgPD"
      },
      "source": [
        "\n",
        "## Linear algebra: Numpy vs PyTorch\n",
        "\n",
        "### Operations needed to implement or modify base code of others for optimization algorithms for neural networks\n",
        "- Inner product\n",
        "- Matrix-vector multiplication\n",
        "- Element-wise operation\n",
        "- (Advanced) Einstein summation\n",
        "\n",
        "\n",
        "Most operations that exist in numpy, also exist in PyTorch. A full list of operations can be found in the [PyTorch documentation](https://pytorch.org/docs/stable/tensors.html#), but we will review the most important ones here.\n",
        "\n",
        "- `add` and `add_`\n",
        "- `mm`\n",
        "- `argmax`\n",
        "- `bincount` (`accumarray` in MATLAB)\n",
        "- many others.\n",
        "\n"
      ]
    },
    {
      "cell_type": "code",
      "metadata": {
        "id": "Jj9LxVPZrJYj",
        "colab": {
          "base_uri": "https://localhost:8080/"
        },
        "outputId": "715460cd-ffc4-46ce-a6eb-e75a66523f4f"
      },
      "source": [
        "# recall numpy's various operations\n",
        "a = np.array([[1,0], [2,3]])\n",
        "print(a)"
      ],
      "execution_count": null,
      "outputs": [
        {
          "output_type": "stream",
          "name": "stdout",
          "text": [
            "[[1 0]\n",
            " [2 3]]\n"
          ]
        }
      ]
    },
    {
      "cell_type": "code",
      "metadata": {
        "id": "Etu5SaUoFV6z",
        "colab": {
          "base_uri": "https://localhost:8080/"
        },
        "outputId": "7533f18e-50c5-416d-8676-f00caa68cbcc"
      },
      "source": [
        "x = np.array([2,-1])\n",
        "print(x)"
      ],
      "execution_count": null,
      "outputs": [
        {
          "output_type": "stream",
          "name": "stdout",
          "text": [
            "[ 2 -1]\n"
          ]
        }
      ]
    },
    {
      "cell_type": "code",
      "metadata": {
        "id": "OBbRkjglFgep",
        "colab": {
          "base_uri": "https://localhost:8080/"
        },
        "outputId": "aff0c83e-c349-4bdc-9acb-08a82e7f0807"
      },
      "source": [
        "# a*x is not the correct way to implement matrix-vector multiplication\n",
        "a.dot(x) # a times x"
      ],
      "execution_count": null,
      "outputs": [
        {
          "output_type": "execute_result",
          "data": {
            "text/plain": [
              "array([2, 1])"
            ]
          },
          "metadata": {},
          "execution_count": 26
        }
      ]
    },
    {
      "cell_type": "code",
      "metadata": {
        "id": "W1ncWu-Y1hoZ",
        "colab": {
          "base_uri": "https://localhost:8080/"
        },
        "outputId": "e0e859e1-e213-4ea4-aa89-9f9cc71c859f"
      },
      "source": [
        "# pytorch's counterparts\n",
        "a_t = torch.tensor(a)\n",
        "x_t = torch.tensor(x)\n",
        "print(a_t,'\\n', x_t)"
      ],
      "execution_count": null,
      "outputs": [
        {
          "output_type": "stream",
          "name": "stdout",
          "text": [
            "tensor([[1, 0],\n",
            "        [2, 3]]) \n",
            " tensor([ 2, -1])\n"
          ]
        }
      ]
    },
    {
      "cell_type": "code",
      "metadata": {
        "id": "sc6pRlChGEPw",
        "colab": {
          "base_uri": "https://localhost:8080/",
          "height": 176
        },
        "outputId": "76aa70d2-fcf9-4c45-9c9c-61a3cd55a62b"
      },
      "source": [
        "a_t.mm(x_t) # a time s x"
      ],
      "execution_count": null,
      "outputs": [
        {
          "output_type": "error",
          "ename": "RuntimeError",
          "evalue": "ignored",
          "traceback": [
            "\u001b[0;31m---------------------------------------------------------------------------\u001b[0m",
            "\u001b[0;31mRuntimeError\u001b[0m                              Traceback (most recent call last)",
            "\u001b[0;32m<ipython-input-28-5823093bd5e5>\u001b[0m in \u001b[0;36m<cell line: 1>\u001b[0;34m()\u001b[0m\n\u001b[0;32m----> 1\u001b[0;31m \u001b[0ma_t\u001b[0m\u001b[0;34m.\u001b[0m\u001b[0mmm\u001b[0m\u001b[0;34m(\u001b[0m\u001b[0mx_t\u001b[0m\u001b[0;34m)\u001b[0m \u001b[0;31m# a time s x\u001b[0m\u001b[0;34m\u001b[0m\u001b[0;34m\u001b[0m\u001b[0m\n\u001b[0m",
            "\u001b[0;31mRuntimeError\u001b[0m: mat2 must be a matrix"
          ]
        }
      ]
    },
    {
      "cell_type": "code",
      "metadata": {
        "id": "W7cv3A-3GguA",
        "colab": {
          "base_uri": "https://localhost:8080/"
        },
        "outputId": "cd99d161-328c-40cc-d09e-7f73b2c59a84"
      },
      "source": [
        "x_t.reshape(-1,1)\n",
        "print(x_t.shape)\n",
        "print(x_t.reshape(-1,1).shape)\n",
        "# .reshape(-1,1) makes x_t a matrix\n",
        "# -1 means that we do not specify that dimension"
      ],
      "execution_count": null,
      "outputs": [
        {
          "output_type": "stream",
          "name": "stdout",
          "text": [
            "torch.Size([2])\n",
            "torch.Size([2, 1])\n"
          ]
        }
      ]
    },
    {
      "cell_type": "code",
      "metadata": {
        "id": "BPfwJTldGW3P",
        "colab": {
          "base_uri": "https://localhost:8080/"
        },
        "outputId": "3f070b80-5db4-4433-f2b3-2264eecf69bb"
      },
      "source": [
        "# x_t has to be a tensor of Size(2,1)\n",
        "a_t.mm(x_t.reshape(-1,1))"
      ],
      "execution_count": null,
      "outputs": [
        {
          "output_type": "execute_result",
          "data": {
            "text/plain": [
              "tensor([[2],\n",
              "        [1]])"
            ]
          },
          "metadata": {},
          "execution_count": 31
        }
      ]
    },
    {
      "cell_type": "code",
      "metadata": {
        "id": "Llbhv8FGGyjG",
        "colab": {
          "base_uri": "https://localhost:8080/"
        },
        "outputId": "a9ffbfda-c575-470b-d199-c6ebc74cafd1"
      },
      "source": [
        "# relu\n",
        "y_t = torch.randn((2,5)) # random matrix of size (2, 5) standard normal\n",
        "print(y_t)"
      ],
      "execution_count": null,
      "outputs": [
        {
          "output_type": "stream",
          "name": "stdout",
          "text": [
            "tensor([[-0.4088, -0.2307, -0.6435,  0.2234,  0.4697],\n",
            "        [-0.2065, -0.3559,  0.3202,  1.0066,  0.0781]])\n"
          ]
        }
      ]
    },
    {
      "cell_type": "code",
      "metadata": {
        "id": "UFPLplUkHDEE",
        "colab": {
          "base_uri": "https://localhost:8080/"
        },
        "outputId": "b92ee41c-d751-400e-de5a-55e8b06eb6ef"
      },
      "source": [
        "y_t.clamp(min=0)"
      ],
      "execution_count": null,
      "outputs": [
        {
          "output_type": "execute_result",
          "data": {
            "text/plain": [
              "tensor([[0.0000, 0.0000, 0.0000, 0.2234, 0.4697],\n",
              "        [0.0000, 0.0000, 0.3202, 1.0066, 0.0781]])"
            ]
          },
          "metadata": {},
          "execution_count": 33
        }
      ]
    },
    {
      "cell_type": "code",
      "metadata": {
        "id": "FdXnWMlMHOJO",
        "colab": {
          "base_uri": "https://localhost:8080/"
        },
        "outputId": "aa3f79ba-daa7-4bec-ea6f-b339cc17282e"
      },
      "source": [
        "# boolean array\n",
        "y_t > 0"
      ],
      "execution_count": null,
      "outputs": [
        {
          "output_type": "execute_result",
          "data": {
            "text/plain": [
              "tensor([[False, False, False,  True,  True],\n",
              "        [False, False,  True,  True,  True]])"
            ]
          },
          "metadata": {},
          "execution_count": 34
        }
      ]
    },
    {
      "cell_type": "code",
      "source": [
        "y_t[y_t<=0]"
      ],
      "metadata": {
        "colab": {
          "base_uri": "https://localhost:8080/"
        },
        "id": "NZMlRGn2Jj2H",
        "outputId": "a2827129-d721-483e-fbc6-4b4bf767b76a"
      },
      "execution_count": null,
      "outputs": [
        {
          "output_type": "execute_result",
          "data": {
            "text/plain": [
              "tensor([-0.4088, -0.2307, -0.6435, -0.2065, -0.3559])"
            ]
          },
          "metadata": {},
          "execution_count": 35
        }
      ]
    },
    {
      "cell_type": "code",
      "metadata": {
        "id": "XuCvSHapHaRO",
        "colab": {
          "base_uri": "https://localhost:8080/"
        },
        "outputId": "33fb4f0d-2c4b-4f73-ea5f-061b604cce20"
      },
      "source": [
        "# boolean array as indices\n",
        "y_t[y_t<=0] = 0 # first y<=0 is getting indices of y such that its entry is <= 0\n",
        "# then we set these entries to be 0\n",
        "print(y_t)"
      ],
      "execution_count": null,
      "outputs": [
        {
          "output_type": "stream",
          "name": "stdout",
          "text": [
            "tensor([[0.0000, 0.0000, 0.0000, 0.2234, 0.4697],\n",
            "        [0.0000, 0.0000, 0.3202, 1.0066, 0.0781]])\n"
          ]
        }
      ]
    }
  ]
}