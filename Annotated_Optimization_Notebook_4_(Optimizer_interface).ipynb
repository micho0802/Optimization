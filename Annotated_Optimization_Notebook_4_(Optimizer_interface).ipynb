{
  "cells": [
    {
      "cell_type": "markdown",
      "metadata": {
        "id": "PJZ07UQUTOCO"
      },
      "source": [
        "# Coding lecture 4\n",
        "\n",
        "## Review\n",
        "\n",
        "- MNIST dataset\n",
        "- `iter()`, `next()`\n",
        "- Matrix-vector multiplications and \"broadcastability\".\n",
        "- `loss.backward()` vs hand computation.\n",
        "- Using `with torch.no_grad():` is necessary in manual gradient descent computation.\n",
        "- Gradient descent explicit implementation.\n",
        "\n",
        "## In this lecture\n",
        "- Generator, iterator, `enumerate()`.\n",
        "- `class` and object-oriented programming. `constructor`, inheritance, the usage of `super`.\n",
        "- Build simple neural network using `nn.Module` class.\n",
        "- `try: except:` flow control.\n",
        "- PyTorch training pipeline template.\n",
        "- Torch `DataLoader` interface for (mini-batch) GD.\n",
        "- A new variable type: dictionary `dict`."
      ]
    },
    {
      "cell_type": "code",
      "source": [
        "import torch"
      ],
      "metadata": {
        "id": "3Ts6G-rjT5Wk"
      },
      "execution_count": 13,
      "outputs": []
    },
    {
      "cell_type": "markdown",
      "metadata": {
        "id": "5tIsEJCpXTMf"
      },
      "source": [
        "### Generator and iterator"
      ]
    },
    {
      "cell_type": "code",
      "execution_count": 14,
      "metadata": {
        "id": "ALNe5eP5XTMf",
        "colab": {
          "base_uri": "https://localhost:8080/"
        },
        "outputId": "5c6ad168-9176-4628-e469-d053be613807"
      },
      "outputs": [
        {
          "output_type": "stream",
          "name": "stdout",
          "text": [
            "0\n",
            "1\n",
            "2\n",
            "3\n",
            "4\n"
          ]
        }
      ],
      "source": [
        "# give several examples of iter and next\n",
        "# Iterator\n",
        "\n",
        "for i in range(5):\n",
        "  print(i)"
      ]
    },
    {
      "cell_type": "code",
      "source": [
        "lst1 = ['apple', 'pear', 'kiwi'] # iterable\n",
        "\n",
        "for i in range(len(lst1)):\n",
        "  print(lst1[i])"
      ],
      "metadata": {
        "id": "rNDbs2NbJThO",
        "colab": {
          "base_uri": "https://localhost:8080/"
        },
        "outputId": "fa32628f-5c54-41ef-8654-6fa4224b34b4"
      },
      "execution_count": 15,
      "outputs": [
        {
          "output_type": "stream",
          "name": "stdout",
          "text": [
            "apple\n",
            "pear\n",
            "kiwi\n"
          ]
        }
      ]
    },
    {
      "cell_type": "code",
      "source": [
        "print(lst1)\n",
        "# all the items of this list is loaded into the memory\n",
        "print(type(lst1), '\\n')\n",
        "\n",
        "for u in lst1:\n",
        "  print(u)"
      ],
      "metadata": {
        "colab": {
          "base_uri": "https://localhost:8080/"
        },
        "id": "I_Gn5-okOSD5",
        "outputId": "9d074120-b66b-4d57-b05f-7fd512f2ade4"
      },
      "execution_count": 16,
      "outputs": [
        {
          "output_type": "stream",
          "name": "stdout",
          "text": [
            "['apple', 'pear', 'kiwi']\n",
            "<class 'list'> \n",
            "\n",
            "apple\n",
            "pear\n",
            "kiwi\n"
          ]
        }
      ]
    },
    {
      "cell_type": "code",
      "source": [
        "# Iterator\n",
        "lst2 = iter(lst1)\n",
        "print(type(lst2))\n",
        "print(lst2) # an Iterator is a Generator\n",
        "# it does NOT load all the items to the memory"
      ],
      "metadata": {
        "colab": {
          "base_uri": "https://localhost:8080/"
        },
        "id": "uO7WD-upOWVh",
        "outputId": "def54a1c-ad99-43a9-9e22-fbc567880544"
      },
      "execution_count": 17,
      "outputs": [
        {
          "output_type": "stream",
          "name": "stdout",
          "text": [
            "<class 'list_iterator'>\n",
            "<list_iterator object at 0x7ae0221cfeb0>\n"
          ]
        }
      ]
    },
    {
      "cell_type": "code",
      "source": [
        "f = next(lst2)\n",
        "print(f)"
      ],
      "metadata": {
        "colab": {
          "base_uri": "https://localhost:8080/"
        },
        "id": "_cvNM6T3Peak",
        "outputId": "2a041396-9d45-4971-cc10-4ba695e63f68"
      },
      "execution_count": 18,
      "outputs": [
        {
          "output_type": "stream",
          "name": "stdout",
          "text": [
            "apple\n"
          ]
        }
      ]
    },
    {
      "cell_type": "code",
      "source": [
        "for v in lst2:\n",
        "  # for an iterator,\n",
        "  # the item is loaded into memory one at a time\n",
        "  print(v)"
      ],
      "metadata": {
        "colab": {
          "base_uri": "https://localhost:8080/"
        },
        "id": "Ixa7S99PPTPE",
        "outputId": "daccb255-c52e-495b-cfcb-ee05e6c2a889"
      },
      "execution_count": 19,
      "outputs": [
        {
          "output_type": "stream",
          "name": "stdout",
          "text": [
            "pear\n",
            "kiwi\n"
          ]
        }
      ]
    },
    {
      "cell_type": "markdown",
      "metadata": {
        "id": "0NO4vosUXTMj"
      },
      "source": [
        "### Object-oriented programming"
      ]
    },
    {
      "cell_type": "code",
      "source": [
        "def func(x, y):\n",
        "    x = x+y\n",
        "    return x**2\n",
        "\n",
        "print(func(3.14, 1))"
      ],
      "metadata": {
        "colab": {
          "base_uri": "https://localhost:8080/"
        },
        "id": "hwxI8bwFPzP_",
        "outputId": "1ee5b4d8-dbcc-4446-d57d-9b1c1d27472d"
      },
      "execution_count": 20,
      "outputs": [
        {
          "output_type": "stream",
          "name": "stdout",
          "text": [
            "17.139600000000005\n"
          ]
        }
      ]
    },
    {
      "cell_type": "code",
      "source": [
        "class CS:\n",
        "  name = 'CS5590'\n",
        "  alt_name = 'Math5555'\n",
        "  time = '8:30'\n",
        "  import time"
      ],
      "metadata": {
        "id": "FdD4NbgIP-BW"
      },
      "execution_count": 21,
      "outputs": []
    },
    {
      "cell_type": "code",
      "source": [
        "c = CS\n",
        "print(type(c))"
      ],
      "metadata": {
        "colab": {
          "base_uri": "https://localhost:8080/"
        },
        "id": "t6tw7Bc2QWE9",
        "outputId": "d0fbbad1-914e-4e89-cd1b-3d2664e3b93e"
      },
      "execution_count": 22,
      "outputs": [
        {
          "output_type": "stream",
          "name": "stdout",
          "text": [
            "<class 'type'>\n"
          ]
        }
      ]
    },
    {
      "cell_type": "code",
      "source": [
        "c.name # how to access to attributes"
      ],
      "metadata": {
        "colab": {
          "base_uri": "https://localhost:8080/",
          "height": 42
        },
        "id": "rI9XDI7SQceS",
        "outputId": "e3c9f77c-26eb-405a-fcb6-ab5e09ff0b69"
      },
      "execution_count": 23,
      "outputs": [
        {
          "output_type": "execute_result",
          "data": {
            "text/plain": [
              "'CS5590'"
            ],
            "application/vnd.google.colaboratory.intrinsic+json": {
              "type": "string"
            }
          },
          "metadata": {},
          "execution_count": 23
        }
      ]
    },
    {
      "cell_type": "code",
      "execution_count": 24,
      "metadata": {
        "id": "dSb9teZwXTMj"
      },
      "outputs": [],
      "source": [
        "class Vector:\n",
        "  # or\n",
        "  # class Vector(object):\n",
        "  # __function__: Python tradition of built-in\n",
        "  # function name\n",
        "  # __init__ function is a constructor\n",
        "  def __init__(self, # self refers to the class itself\n",
        "               x_coords, # custom input to initialize a class\n",
        "               y_coords,\n",
        "               ):\n",
        "    self.x = x_coords # attribute x\n",
        "    self.y = y_coords # attribute y\n",
        "\n",
        "  def add(self, vec): # a method in this class\n",
        "    sum_vec = [self.x, self.y]\n",
        "    sum_vec[0] = self.x + vec.x\n",
        "    sum_vec[1] = self.y + vec.y\n",
        "    return sum_vec\n"
      ]
    },
    {
      "cell_type": "code",
      "source": [
        "v = Vector()"
      ],
      "metadata": {
        "colab": {
          "base_uri": "https://localhost:8080/",
          "height": 231
        },
        "id": "j79Cla3BRwCR",
        "outputId": "c89e1a38-8608-4913-94b6-967bc9f715fd"
      },
      "execution_count": 25,
      "outputs": [
        {
          "output_type": "error",
          "ename": "TypeError",
          "evalue": "ignored",
          "traceback": [
            "\u001b[0;31m---------------------------------------------------------------------------\u001b[0m",
            "\u001b[0;31mTypeError\u001b[0m                                 Traceback (most recent call last)",
            "\u001b[0;32m<ipython-input-25-4f971672a557>\u001b[0m in \u001b[0;36m<cell line: 1>\u001b[0;34m()\u001b[0m\n\u001b[0;32m----> 1\u001b[0;31m \u001b[0mv\u001b[0m \u001b[0;34m=\u001b[0m \u001b[0mVector\u001b[0m\u001b[0;34m(\u001b[0m\u001b[0;34m)\u001b[0m\u001b[0;34m\u001b[0m\u001b[0;34m\u001b[0m\u001b[0m\n\u001b[0m",
            "\u001b[0;31mTypeError\u001b[0m: Vector.__init__() missing 2 required positional arguments: 'x_coords' and 'y_coords'"
          ]
        }
      ]
    },
    {
      "cell_type": "code",
      "source": [
        "v = Vector(1.5, 6) # __init__ function has been run\n",
        "print(v.x, v.y)"
      ],
      "metadata": {
        "colab": {
          "base_uri": "https://localhost:8080/"
        },
        "id": "QN00P6RDSB18",
        "outputId": "1a3c2086-6c47-41fa-e691-b44137f36b55"
      },
      "execution_count": 26,
      "outputs": [
        {
          "output_type": "stream",
          "name": "stdout",
          "text": [
            "1.5 6\n"
          ]
        }
      ]
    },
    {
      "cell_type": "code",
      "source": [
        "u = Vector(2, 1)\n",
        "print(u.x, u.y)"
      ],
      "metadata": {
        "colab": {
          "base_uri": "https://localhost:8080/"
        },
        "id": "qbPVGTZGSyyb",
        "outputId": "86f748c4-815a-4a7b-8703-ee6a786f8fcd"
      },
      "execution_count": 27,
      "outputs": [
        {
          "output_type": "stream",
          "name": "stdout",
          "text": [
            "2 1\n"
          ]
        }
      ]
    },
    {
      "cell_type": "code",
      "source": [
        "u + v # operand + is not defined for Vector"
      ],
      "metadata": {
        "colab": {
          "base_uri": "https://localhost:8080/",
          "height": 231
        },
        "id": "KG2gi7FQS8_U",
        "outputId": "45558e17-ca3c-438f-b9e7-87b0445b4bbd"
      },
      "execution_count": 28,
      "outputs": [
        {
          "output_type": "error",
          "ename": "TypeError",
          "evalue": "ignored",
          "traceback": [
            "\u001b[0;31m---------------------------------------------------------------------------\u001b[0m",
            "\u001b[0;31mTypeError\u001b[0m                                 Traceback (most recent call last)",
            "\u001b[0;32m<ipython-input-28-122c5875cedf>\u001b[0m in \u001b[0;36m<cell line: 1>\u001b[0;34m()\u001b[0m\n\u001b[0;32m----> 1\u001b[0;31m \u001b[0mu\u001b[0m \u001b[0;34m+\u001b[0m \u001b[0mv\u001b[0m \u001b[0;31m# operand + is not defined for Vector\u001b[0m\u001b[0;34m\u001b[0m\u001b[0;34m\u001b[0m\u001b[0m\n\u001b[0m",
            "\u001b[0;31mTypeError\u001b[0m: unsupported operand type(s) for +: 'Vector' and 'Vector'"
          ]
        }
      ]
    },
    {
      "cell_type": "code",
      "source": [
        "u.add(v)"
      ],
      "metadata": {
        "colab": {
          "base_uri": "https://localhost:8080/"
        },
        "id": "NBXpHQQaULSL",
        "outputId": "840b5746-99ad-4c61-e023-574fa234949e"
      },
      "execution_count": 29,
      "outputs": [
        {
          "output_type": "execute_result",
          "data": {
            "text/plain": [
              "[3.5, 7]"
            ]
          },
          "metadata": {},
          "execution_count": 29
        }
      ]
    },
    {
      "cell_type": "code",
      "source": [
        "v.add(u)"
      ],
      "metadata": {
        "colab": {
          "base_uri": "https://localhost:8080/"
        },
        "id": "4Yct38MCUdJa",
        "outputId": "6eea87e7-9dde-4778-a12a-ba24fdb00b0d"
      },
      "execution_count": 30,
      "outputs": [
        {
          "output_type": "execute_result",
          "data": {
            "text/plain": [
              "[3.5, 7]"
            ]
          },
          "metadata": {},
          "execution_count": 30
        }
      ]
    },
    {
      "cell_type": "code",
      "source": [
        "# + is defined by user\n",
        "# different for different obj\n",
        "lst1 = [1, 2]\n",
        "lst2 = [53, 100]\n",
        "print(lst1 + lst2)\n",
        "\n",
        "arr1 = torch.Tensor(lst1)\n",
        "arr2 = torch.tensor(lst2)\n",
        "print(arr1 + arr2)"
      ],
      "metadata": {
        "colab": {
          "base_uri": "https://localhost:8080/"
        },
        "id": "xq_SIipgTbQ3",
        "outputId": "09da44ff-fe80-4b52-ee10-02ccc56811cd"
      },
      "execution_count": 31,
      "outputs": [
        {
          "output_type": "stream",
          "name": "stdout",
          "text": [
            "[1, 2, 53, 100]\n",
            "tensor([ 54., 102.])\n"
          ]
        }
      ]
    },
    {
      "cell_type": "code",
      "source": [
        "class VectorNew:\n",
        "  def __init__(self, # self refers to the class itself\n",
        "               x_coords, # custom input to initialize a class\n",
        "               y_coords,\n",
        "               ):\n",
        "    self.x = x_coords # attribute x\n",
        "    self.y = y_coords # attribute y\n",
        "\n",
        "  def __add__(self, vec):\n",
        "    # define + behavior for this class\n",
        "    return [self.x+vec.x, self.y+vec.y]"
      ],
      "metadata": {
        "id": "xuvp0HWjUlBH"
      },
      "execution_count": 32,
      "outputs": []
    },
    {
      "cell_type": "code",
      "source": [
        "u = VectorNew(1.5, 2)\n",
        "v = VectorNew(3, 5)\n",
        "print(u + v)"
      ],
      "metadata": {
        "colab": {
          "base_uri": "https://localhost:8080/"
        },
        "id": "KofNqSOZU5Rr",
        "outputId": "2a0be9d2-2fbb-4d4b-b439-310bca42581c"
      },
      "execution_count": 33,
      "outputs": [
        {
          "output_type": "stream",
          "name": "stdout",
          "text": [
            "[4.5, 7]\n"
          ]
        }
      ]
    },
    {
      "cell_type": "code",
      "source": [
        "print(u)"
      ],
      "metadata": {
        "colab": {
          "base_uri": "https://localhost:8080/"
        },
        "id": "sul5REFaVDU8",
        "outputId": "5a9b415b-eaaa-4243-e79a-2269b88b08a8"
      },
      "execution_count": 34,
      "outputs": [
        {
          "output_type": "stream",
          "name": "stdout",
          "text": [
            "<__main__.VectorNew object at 0x7ae0221ce620>\n"
          ]
        }
      ]
    },
    {
      "cell_type": "code",
      "source": [
        "class VectorNewNew:\n",
        "  def __init__(self, # self refers to the class itself\n",
        "               x_coords, # custom input to initialize a class\n",
        "               y_coords,\n",
        "               ):\n",
        "    self.x = x_coords # attribute x\n",
        "    self.y = y_coords # attribute y\n",
        "\n",
        "  def __add__(self, vec):\n",
        "    # define + behavior for this class\n",
        "    return [self.x+vec.x, self.y+vec.y]\n",
        "\n",
        "  def __repr__(self):\n",
        "     return f\"<{self.x}, {self.y}>\""
      ],
      "metadata": {
        "id": "pTvcpzszVMTW"
      },
      "execution_count": 35,
      "outputs": []
    },
    {
      "cell_type": "code",
      "source": [
        "u = VectorNewNew(1.5, 2)\n",
        "print(u)"
      ],
      "metadata": {
        "colab": {
          "base_uri": "https://localhost:8080/"
        },
        "id": "bykEXxrDVlRW",
        "outputId": "e8cd8c5c-6367-4da1-b873-b300285d2add"
      },
      "execution_count": 36,
      "outputs": [
        {
          "output_type": "stream",
          "name": "stdout",
          "text": [
            "<1.5, 2>\n"
          ]
        }
      ]
    },
    {
      "cell_type": "markdown",
      "metadata": {
        "id": "k8gjAVrkYH8O"
      },
      "source": [
        "# A complete pipeline\n",
        "\n",
        "- Data preparation\n",
        "- Train-Validation (Train-Test) split (for our final project, will be covered later)\n",
        "- Model\n",
        "- Choose an optimizer or write one on our own.\n",
        "- Choose an scheduler or write one on our own (optional, will be covered later).\n",
        "- Choose the proper loss function.\n",
        "- Train! (and validate at the same time)\n",
        "- Inference (for our final project, will be covered later)."
      ]
    },
    {
      "cell_type": "code",
      "execution_count": 52,
      "metadata": {
        "id": "1b7eqCbVTMPz"
      },
      "outputs": [],
      "source": [
        "import torch\n",
        "import torch.nn as nn\n",
        "import numpy as np\n",
        "\n",
        "from torchvision import datasets, transforms\n",
        "from torch.utils.data import DataLoader\n",
        "\n",
        "import matplotlib.pyplot as plt\n",
        "import seaborn as sns\n",
        "sns.set()\n",
        "\n",
        "from tqdm.auto import tqdm"
      ]
    },
    {
      "cell_type": "code",
      "execution_count": 38,
      "metadata": {
        "id": "YaYq1GNd7Vn1",
        "colab": {
          "base_uri": "https://localhost:8080/"
        },
        "outputId": "38888242-8885-4c91-b3d3-0ecf5a0ade6c"
      },
      "outputs": [
        {
          "output_type": "stream",
          "name": "stdout",
          "text": [
            "Downloading http://yann.lecun.com/exdb/mnist/train-images-idx3-ubyte.gz\n",
            "Downloading http://yann.lecun.com/exdb/mnist/train-images-idx3-ubyte.gz to ./MNIST/raw/train-images-idx3-ubyte.gz\n"
          ]
        },
        {
          "output_type": "stream",
          "name": "stderr",
          "text": [
            "100%|██████████| 9912422/9912422 [00:00<00:00, 145760011.94it/s]\n"
          ]
        },
        {
          "output_type": "stream",
          "name": "stdout",
          "text": [
            "Extracting ./MNIST/raw/train-images-idx3-ubyte.gz to ./MNIST/raw\n",
            "\n",
            "Downloading http://yann.lecun.com/exdb/mnist/train-labels-idx1-ubyte.gz\n",
            "Downloading http://yann.lecun.com/exdb/mnist/train-labels-idx1-ubyte.gz to ./MNIST/raw/train-labels-idx1-ubyte.gz\n"
          ]
        },
        {
          "output_type": "stream",
          "name": "stderr",
          "text": [
            "100%|██████████| 28881/28881 [00:00<00:00, 64640178.13it/s]\n"
          ]
        },
        {
          "output_type": "stream",
          "name": "stdout",
          "text": [
            "Extracting ./MNIST/raw/train-labels-idx1-ubyte.gz to ./MNIST/raw\n",
            "\n",
            "Downloading http://yann.lecun.com/exdb/mnist/t10k-images-idx3-ubyte.gz\n",
            "Downloading http://yann.lecun.com/exdb/mnist/t10k-images-idx3-ubyte.gz to ./MNIST/raw/t10k-images-idx3-ubyte.gz\n"
          ]
        },
        {
          "output_type": "stream",
          "name": "stderr",
          "text": [
            "100%|██████████| 1648877/1648877 [00:00<00:00, 32737947.44it/s]\n"
          ]
        },
        {
          "output_type": "stream",
          "name": "stdout",
          "text": [
            "Extracting ./MNIST/raw/t10k-images-idx3-ubyte.gz to ./MNIST/raw\n",
            "\n",
            "Downloading http://yann.lecun.com/exdb/mnist/t10k-labels-idx1-ubyte.gz\n",
            "Downloading http://yann.lecun.com/exdb/mnist/t10k-labels-idx1-ubyte.gz to ./MNIST/raw/t10k-labels-idx1-ubyte.gz\n"
          ]
        },
        {
          "output_type": "stream",
          "name": "stderr",
          "text": [
            "100%|██████████| 4542/4542 [00:00<00:00, 11701799.00it/s]\n"
          ]
        },
        {
          "output_type": "stream",
          "name": "stdout",
          "text": [
            "Extracting ./MNIST/raw/t10k-labels-idx1-ubyte.gz to ./MNIST/raw\n",
            "\n"
          ]
        }
      ],
      "source": [
        "train = datasets.MNIST(root='./',\n",
        "                       train=True,\n",
        "                       download=True,\n",
        "                       transform = transforms.ToTensor());"
      ]
    },
    {
      "cell_type": "code",
      "source": [
        "print(train, '\\n')\n",
        "print(type(train))"
      ],
      "metadata": {
        "colab": {
          "base_uri": "https://localhost:8080/"
        },
        "id": "ZcT3kG7pWUI_",
        "outputId": "9a0e8065-4ce7-449a-b361-5fc8c52f6953"
      },
      "execution_count": 39,
      "outputs": [
        {
          "output_type": "stream",
          "name": "stdout",
          "text": [
            "Dataset MNIST\n",
            "    Number of datapoints: 60000\n",
            "    Root location: ./\n",
            "    Split: Train\n",
            "    StandardTransform\n",
            "Transform: ToTensor() \n",
            "\n",
            "<class 'torchvision.datasets.mnist.MNIST'>\n"
          ]
        }
      ]
    },
    {
      "cell_type": "code",
      "source": [
        "dir(train)"
      ],
      "metadata": {
        "colab": {
          "base_uri": "https://localhost:8080/"
        },
        "id": "NLPWrAiNWfrS",
        "outputId": "840e42e1-4387-4450-aa9d-ffba190eefe4"
      },
      "execution_count": 40,
      "outputs": [
        {
          "output_type": "execute_result",
          "data": {
            "text/plain": [
              "['__add__',\n",
              " '__annotations__',\n",
              " '__class__',\n",
              " '__class_getitem__',\n",
              " '__delattr__',\n",
              " '__dict__',\n",
              " '__dir__',\n",
              " '__doc__',\n",
              " '__eq__',\n",
              " '__format__',\n",
              " '__ge__',\n",
              " '__getattribute__',\n",
              " '__getitem__',\n",
              " '__gt__',\n",
              " '__hash__',\n",
              " '__init__',\n",
              " '__init_subclass__',\n",
              " '__le__',\n",
              " '__len__',\n",
              " '__lt__',\n",
              " '__module__',\n",
              " '__ne__',\n",
              " '__new__',\n",
              " '__orig_bases__',\n",
              " '__parameters__',\n",
              " '__reduce__',\n",
              " '__reduce_ex__',\n",
              " '__repr__',\n",
              " '__setattr__',\n",
              " '__sizeof__',\n",
              " '__slots__',\n",
              " '__str__',\n",
              " '__subclasshook__',\n",
              " '__weakref__',\n",
              " '_check_exists',\n",
              " '_check_legacy_exist',\n",
              " '_format_transform_repr',\n",
              " '_is_protocol',\n",
              " '_load_data',\n",
              " '_load_legacy_data',\n",
              " '_repr_indent',\n",
              " 'class_to_idx',\n",
              " 'classes',\n",
              " 'data',\n",
              " 'download',\n",
              " 'extra_repr',\n",
              " 'mirrors',\n",
              " 'processed_folder',\n",
              " 'raw_folder',\n",
              " 'resources',\n",
              " 'root',\n",
              " 'target_transform',\n",
              " 'targets',\n",
              " 'test_data',\n",
              " 'test_file',\n",
              " 'test_labels',\n",
              " 'train',\n",
              " 'train_data',\n",
              " 'train_labels',\n",
              " 'training_file',\n",
              " 'transform',\n",
              " 'transforms']"
            ]
          },
          "metadata": {},
          "execution_count": 40
        }
      ]
    },
    {
      "cell_type": "code",
      "execution_count": 41,
      "metadata": {
        "id": "mkqKRzDi7Y26"
      },
      "outputs": [],
      "source": [
        "train_loader = DataLoader(train, batch_size=64)"
      ]
    },
    {
      "cell_type": "code",
      "source": [
        "print(type(train_loader))"
      ],
      "metadata": {
        "colab": {
          "base_uri": "https://localhost:8080/"
        },
        "id": "d6pmLml3W88x",
        "outputId": "20073f81-75b1-47b7-aa0e-c74d2094d9df"
      },
      "execution_count": 42,
      "outputs": [
        {
          "output_type": "stream",
          "name": "stdout",
          "text": [
            "<class 'torch.utils.data.dataloader.DataLoader'>\n"
          ]
        }
      ]
    },
    {
      "cell_type": "code",
      "execution_count": 43,
      "metadata": {
        "id": "07gNPjxzKAZj"
      },
      "outputs": [],
      "source": [
        "sample = next(iter(train_loader))\n",
        "# sample is a list [X, y]\n",
        "# X: data\n",
        "# y: label"
      ]
    },
    {
      "cell_type": "code",
      "source": [
        "print(type(sample))"
      ],
      "metadata": {
        "colab": {
          "base_uri": "https://localhost:8080/"
        },
        "id": "cSugaNRG87g0",
        "outputId": "d64fe0b8-b43f-49a4-ba45-9d90bc633eec"
      },
      "execution_count": 46,
      "outputs": [
        {
          "output_type": "stream",
          "name": "stdout",
          "text": [
            "<class 'list'>\n"
          ]
        }
      ]
    },
    {
      "cell_type": "code",
      "execution_count": 44,
      "metadata": {
        "id": "Cgg3wOswKEkT",
        "colab": {
          "base_uri": "https://localhost:8080/"
        },
        "outputId": "e1c59682-3fc6-4d9e-cc80-c11aada880bf"
      },
      "outputs": [
        {
          "output_type": "stream",
          "name": "stdout",
          "text": [
            "torch.Size([64, 1, 28, 28])\n"
          ]
        }
      ],
      "source": [
        "print(sample[0].size())\n",
        "#\n",
        "# (n_batch, n_channel, height, width)\n",
        "# N_C in PyTorch official docs\n",
        "# how many color channels we have, 3 means RGB"
      ]
    },
    {
      "cell_type": "code",
      "execution_count": 45,
      "metadata": {
        "id": "W8407X-5Kjve",
        "colab": {
          "base_uri": "https://localhost:8080/"
        },
        "outputId": "61dfa853-b0b7-40cf-9c9a-4520a5a5230a"
      },
      "outputs": [
        {
          "output_type": "stream",
          "name": "stdout",
          "text": [
            "torch.Size([64])\n"
          ]
        }
      ],
      "source": [
        "print(sample[1].size())"
      ]
    },
    {
      "cell_type": "code",
      "source": [
        "print(sample[1][:10])"
      ],
      "metadata": {
        "colab": {
          "base_uri": "https://localhost:8080/"
        },
        "id": "6e5ebgLeXs8I",
        "outputId": "aa6dfcd8-4851-42ae-e43e-f0b45c260968"
      },
      "execution_count": null,
      "outputs": [
        {
          "output_type": "stream",
          "name": "stdout",
          "text": [
            "tensor([5, 0, 4, 1, 9, 2, 1, 3, 1, 4])\n"
          ]
        }
      ]
    },
    {
      "cell_type": "code",
      "source": [
        "plt.imshow(sample[0][4].squeeze())\n",
        "# sample[0] gives the tensor of a batch of images\n",
        "# sample[0][0] returns the first image"
      ],
      "metadata": {
        "colab": {
          "base_uri": "https://localhost:8080/",
          "height": 459
        },
        "id": "YxsIhh-K9H1K",
        "outputId": "4776b19a-0e88-4954-dd0b-76a227d74c77"
      },
      "execution_count": 54,
      "outputs": [
        {
          "output_type": "execute_result",
          "data": {
            "text/plain": [
              "<matplotlib.image.AxesImage at 0x7ae00e7a0340>"
            ]
          },
          "metadata": {},
          "execution_count": 54
        },
        {
          "output_type": "display_data",
          "data": {
            "text/plain": [
              "<Figure size 640x480 with 1 Axes>"
            ],
            "image/png": "[encoded data removed]"
          },
          "metadata": {}
        }
      ]
    },
    {
      "cell_type": "code",
      "execution_count": 56,
      "metadata": {
        "id": "cJpd2ka3ABzX"
      },
      "outputs": [],
      "source": [
        "class MLP(nn.Module):\n",
        "    # subclass of nn.Module\n",
        "    # inheriting every method of nn.Module\n",
        "    # after calling the super() function\n",
        "    def __init__(self, input_size):\n",
        "        '''\n",
        "        __init__: initialize\n",
        "        the first variable has to be self\n",
        "        afterward, constructors\n",
        "        '''\n",
        "        super().__init__()\n",
        "        self.linear0 = nn.Linear(input_size, 256)\n",
        "        # nn.Linear(input_dim, output_dim)\n",
        "        self.activation = nn.ReLU()\n",
        "        self.linear1 = nn.Linear(256, 10)\n",
        "        # this function does not have any return value\n",
        "\n",
        "    def forward(self, x):\n",
        "      # forward is a \"fixed\" method from nn.Module\n",
        "      # this is different from @staticmethod\n",
        "      # the behavior of model(x)\n",
        "\n",
        "        x = x.view(x.size(0), -1) # getting rid of color channel\n",
        "        x1 = self.linear0(x)\n",
        "        a1 = self.activation(x1)\n",
        "        output = self.linear1(a1)\n",
        "\n",
        "        return output"
      ]
    },
    {
      "cell_type": "code",
      "execution_count": 58,
      "metadata": {
        "id": "XmLhBr1-MJZW",
        "colab": {
          "base_uri": "https://localhost:8080/"
        },
        "outputId": "b7110851-2fee-4c2e-c616-0ad72f36bdd7"
      },
      "outputs": [
        {
          "output_type": "stream",
          "name": "stdout",
          "text": [
            "input data:  torch.Size([64, 1, 28, 28])\n"
          ]
        }
      ],
      "source": [
        "# explicit forward\n",
        "# you can use TensorBoard as well\n",
        "x = sample[0] # data fed into the model\n",
        "print(\"input data: \", x.size())"
      ]
    },
    {
      "cell_type": "code",
      "source": [
        "x = x.view(x.size(0), -1)\n",
        "print(\"reshape to remove channels and flatten: \", x.size())\n",
        "# the shape becomes (batch_size, input_dim)"
      ],
      "metadata": {
        "colab": {
          "base_uri": "https://localhost:8080/"
        },
        "id": "EBgLNjZCA-0G",
        "outputId": "2dd88316-4205-44ac-e671-fe75317f58ae"
      },
      "execution_count": 59,
      "outputs": [
        {
          "output_type": "stream",
          "name": "stdout",
          "text": [
            "reshape to remove channels and flatten:  torch.Size([64, 784])\n"
          ]
        }
      ]
    },
    {
      "cell_type": "code",
      "source": [
        "arr = torch.arange(9).view(3,3)\n",
        "print(arr)\n",
        "print(arr.view(1, -1))\n",
        "print(arr.flatten())"
      ],
      "metadata": {
        "colab": {
          "base_uri": "https://localhost:8080/"
        },
        "id": "gnf69-aQBkEJ",
        "outputId": "4068d88c-dc26-41f2-f7ab-da3ed58bd8b6"
      },
      "execution_count": 62,
      "outputs": [
        {
          "output_type": "stream",
          "name": "stdout",
          "text": [
            "tensor([[0, 1, 2],\n",
            "        [3, 4, 5],\n",
            "        [6, 7, 8]])\n",
            "tensor([[0, 1, 2, 3, 4, 5, 6, 7, 8]])\n",
            "tensor([0, 1, 2, 3, 4, 5, 6, 7, 8])\n"
          ]
        }
      ]
    },
    {
      "cell_type": "code",
      "source": [
        "input_size = x.size(-1)\n",
        "print(\"x's last dim size: \", input_size)\n",
        "# this is also the input dimension of an NN"
      ],
      "metadata": {
        "colab": {
          "base_uri": "https://localhost:8080/"
        },
        "id": "LIJiPMo5BLFG",
        "outputId": "00125c53-42f6-4713-bf09-1bce60c3de7d"
      },
      "execution_count": 63,
      "outputs": [
        {
          "output_type": "stream",
          "name": "stdout",
          "text": [
            "x's last dim size:  784\n"
          ]
        }
      ]
    },
    {
      "cell_type": "code",
      "source": [
        "linear0 = nn.Linear(input_size, 256)\n",
        "x1 = linear0(x)\n",
        "print(\"after layer 1: \", x1.size())\n",
        "# batch_size: dim 0 should not change in forward pass"
      ],
      "metadata": {
        "colab": {
          "base_uri": "https://localhost:8080/"
        },
        "id": "SyNMS4zoB9b0",
        "outputId": "bfb40caa-afe6-4db7-8146-6e0e9f1ea280"
      },
      "execution_count": 64,
      "outputs": [
        {
          "output_type": "stream",
          "name": "stdout",
          "text": [
            "after layer 1:  torch.Size([64, 256])\n"
          ]
        }
      ]
    },
    {
      "cell_type": "code",
      "source": [
        "activation = nn.ReLU()\n",
        "a1 = activation(x1) # activation does not change the shape\n",
        "print(a1.size())\n",
        "print(x1.min(), a1.min())"
      ],
      "metadata": {
        "colab": {
          "base_uri": "https://localhost:8080/"
        },
        "id": "4ht3z7ZKDUQm",
        "outputId": "be5e560c-c037-4c25-b3df-645370c65c71"
      },
      "execution_count": 65,
      "outputs": [
        {
          "output_type": "stream",
          "name": "stdout",
          "text": [
            "torch.Size([64, 256])\n",
            "tensor(-0.7905, grad_fn=<MinBackward1>) tensor(0., grad_fn=<MinBackward1>)\n"
          ]
        }
      ]
    },
    {
      "cell_type": "code",
      "source": [
        "linear1 = nn.Linear(256, 10)\n",
        "# 10 means the number of classes\n",
        "# 10 digits, from 0 to 9\n",
        "output = linear1(a1)\n",
        "print(\"output size: \", output.size())"
      ],
      "metadata": {
        "colab": {
          "base_uri": "https://localhost:8080/"
        },
        "id": "kUgVdl9XDtV9",
        "outputId": "665c70d1-7799-496e-e544-d5929ad8c209"
      },
      "execution_count": 66,
      "outputs": [
        {
          "output_type": "stream",
          "name": "stdout",
          "text": [
            "output size:  torch.Size([64, 10])\n"
          ]
        }
      ]
    },
    {
      "cell_type": "code",
      "source": [
        "# softmax does not need to be implemented if using\n",
        "# nn.CrossEntropyLoss\n",
        "softmax = nn.Softmax(dim=-1)\n",
        "output_prob = softmax(output)"
      ],
      "metadata": {
        "id": "DT-O-KL4EJa6"
      },
      "execution_count": 67,
      "outputs": []
    },
    {
      "cell_type": "code",
      "source": [
        "output_prob[:3]"
      ],
      "metadata": {
        "colab": {
          "base_uri": "https://localhost:8080/"
        },
        "id": "0po03Gg2E-0c",
        "outputId": "097b6017-89eb-43b1-ab11-c9976c14f8fc"
      },
      "execution_count": 68,
      "outputs": [
        {
          "output_type": "execute_result",
          "data": {
            "text/plain": [
              "tensor([[0.0924, 0.1101, 0.1052, 0.1063, 0.1010, 0.1163, 0.0822, 0.0893, 0.1015,\n",
              "         0.0957],\n",
              "        [0.0912, 0.1040, 0.1077, 0.1036, 0.1039, 0.1151, 0.0830, 0.0929, 0.1046,\n",
              "         0.0941],\n",
              "        [0.0958, 0.1032, 0.1059, 0.0967, 0.0990, 0.1200, 0.0950, 0.0901, 0.1025,\n",
              "         0.0917]], grad_fn=<SliceBackward0>)"
            ]
          },
          "metadata": {},
          "execution_count": 68
        }
      ]
    },
    {
      "cell_type": "code",
      "source": [
        "output[:2]"
      ],
      "metadata": {
        "colab": {
          "base_uri": "https://localhost:8080/"
        },
        "id": "rK4r0PVDFM5q",
        "outputId": "27d466b3-c861-4336-8476-0d6133dfca08"
      },
      "execution_count": 69,
      "outputs": [
        {
          "output_type": "execute_result",
          "data": {
            "text/plain": [
              "tensor([[-0.0045,  0.1699,  0.1251,  0.1348,  0.0836,  0.2251, -0.1215, -0.0391,\n",
              "          0.0892,  0.0299],\n",
              "        [-0.0508,  0.0806,  0.1156,  0.0768,  0.0797,  0.1827, -0.1449, -0.0315,\n",
              "          0.0866, -0.0196]], grad_fn=<SliceBackward0>)"
            ]
          },
          "metadata": {},
          "execution_count": 69
        }
      ]
    },
    {
      "cell_type": "code",
      "execution_count": 70,
      "metadata": {
        "id": "qza2owV2OEgg",
        "colab": {
          "base_uri": "https://localhost:8080/"
        },
        "outputId": "e145f87c-bf4f-4689-8a82-9abc0082da78"
      },
      "outputs": [
        {
          "output_type": "execute_result",
          "data": {
            "text/plain": [
              "tensor([[-0.0045,  0.1699,  0.1251,  0.1348,  0.0836,  0.2251, -0.1215, -0.0391,\n",
              "          0.0892,  0.0299],\n",
              "        [-0.0508,  0.0806,  0.1156,  0.0768,  0.0797,  0.1827, -0.1449, -0.0315,\n",
              "          0.0866, -0.0196]])"
            ]
          },
          "metadata": {},
          "execution_count": 70
        }
      ],
      "source": [
        "output[:2].detach()"
      ]
    },
    {
      "cell_type": "code",
      "execution_count": 71,
      "metadata": {
        "id": "TA_n7rMFOMBG",
        "colab": {
          "base_uri": "https://localhost:8080/"
        },
        "outputId": "71f45425-5710-424c-ed2e-396a8c2e557e"
      },
      "outputs": [
        {
          "output_type": "execute_result",
          "data": {
            "text/plain": [
              "tensor([[0.0924, 0.1101, 0.1052, 0.1063, 0.1010, 0.1163, 0.0822, 0.0893, 0.1015,\n",
              "         0.0957],\n",
              "        [0.0912, 0.1040, 0.1077, 0.1036, 0.1039, 0.1151, 0.0830, 0.0929, 0.1046,\n",
              "         0.0941]])"
            ]
          },
          "metadata": {},
          "execution_count": 71
        }
      ],
      "source": [
        "output_prob[:2].detach()"
      ]
    },
    {
      "cell_type": "code",
      "execution_count": 72,
      "metadata": {
        "id": "jlL90yAcAUAG"
      },
      "outputs": [],
      "source": [
        "model = MLP(input_size=28*28)"
      ]
    },
    {
      "cell_type": "code",
      "execution_count": 73,
      "metadata": {
        "id": "Hx_iRvpBLg3y",
        "colab": {
          "base_uri": "https://localhost:8080/"
        },
        "outputId": "3f20b786-4291-441a-947b-a7849a395a6b"
      },
      "outputs": [
        {
          "output_type": "stream",
          "name": "stdout",
          "text": [
            "torch.Size([64, 10])\n"
          ]
        }
      ],
      "source": [
        "y = model(sample[0]) # (64, 1, 28, 28)\n",
        "print(y.size()) # (64, 10)"
      ]
    },
    {
      "cell_type": "markdown",
      "metadata": {
        "id": "tBIRXf7nAssJ"
      },
      "source": [
        "# Optimizer\n",
        "\n",
        "In this class we will learn how to write an optimizer. In the following cells, we use the `torch.optim`` interface to build our own optimizer. The following code is simplified from http://pytorch.org/docs/master/_modules/torch/optim/sgd.html#SGD"
      ]
    },
    {
      "cell_type": "code",
      "execution_count": null,
      "metadata": {
        "id": "oDycf51BAja_"
      },
      "outputs": [],
      "source": [
        "from torch.optim import Optimizer"
      ]
    },
    {
      "cell_type": "code",
      "execution_count": 87,
      "metadata": {
        "id": "r5riw-HrA_9Q"
      },
      "outputs": [],
      "source": [
        "class GD(Optimizer): # subclass of Optimizer\n",
        "    \"\"\"\n",
        "    Implements the vanilla GD simplified\n",
        "\n",
        "    Args:\n",
        "        params (iterable): iterable of parameters to optimize or dicts defining\n",
        "            parameter groups\n",
        "        lr (float): learning rate\n",
        "\n",
        "    Example:\n",
        "        >>> optimizer = GD(model.parameters(), lr=1e-2)\n",
        "        >>> optimizer.zero_grad()\n",
        "        >>> loss_fn(model(input), target).backward()\n",
        "        >>> optimizer.step()\n",
        "    \"\"\"\n",
        "\n",
        "    def __init__(self, params, # params: model.parameters()\n",
        "                       lr = 1e-2, # default value = 1e-2\n",
        "                       name_input = 'GradientDescent'\n",
        "                 ):\n",
        "        # constructor\n",
        "        defaults = dict(lr=lr, name=name_input)\n",
        "        # add a default attribute that can be accessed\n",
        "        super().__init__(params, defaults)\n",
        "\n",
        "    def step(self, closure=None):\n",
        "      # similar to the forward() in nn.Module\n",
        "      # we have to implement step for Optimizer\n",
        "      # we can ignore closure for now, useful in quasi-Newton\n",
        "      loss = None\n",
        "      if closure is not None:\n",
        "          with torch.enable_grad():\n",
        "            loss = closure()\n",
        "\n",
        "      for group in self.param_groups: # fixed in template\n",
        "\n",
        "          for param in group['params']:\n",
        "              if param.grad is None:\n",
        "                  continue\n",
        "\n",
        "              \"\"\"\n",
        "              below is what we can change in this template\n",
        "              \"\"\"\n",
        "              grad_param = param.grad.data\n",
        "              # retrieving the gradient\n",
        "\n",
        "              param.data -= group['lr']*grad_param\n",
        "              # theta = theta - alpha*grad(F(theta))\n",
        "\n",
        "      return loss"
      ]
    },
    {
      "cell_type": "code",
      "execution_count": 90,
      "metadata": {
        "id": "JeDmHQN3P9lB"
      },
      "outputs": [],
      "source": [
        "optimizer = GD(model.parameters(), lr=1e-3)"
      ]
    },
    {
      "cell_type": "code",
      "execution_count": 91,
      "metadata": {
        "id": "eQbNwtfRQAIL",
        "colab": {
          "base_uri": "https://localhost:8080/"
        },
        "outputId": "063dc742-9135-41d9-8b69-dbd821446178"
      },
      "outputs": [
        {
          "output_type": "execute_result",
          "data": {
            "text/plain": [
              "{'lr': 0.001, 'name': 'GradientDescent'}"
            ]
          },
          "metadata": {},
          "execution_count": 91
        }
      ],
      "source": [
        "optimizer.defaults"
      ]
    },
    {
      "cell_type": "code",
      "source": [
        "for group in optimizer.param_groups:\n",
        "  print(type(group))"
      ],
      "metadata": {
        "colab": {
          "base_uri": "https://localhost:8080/"
        },
        "id": "zYx61IotGazo",
        "outputId": "a4f1952c-ffb9-4bb3-aa81-59727f481200"
      },
      "execution_count": 80,
      "outputs": [
        {
          "output_type": "stream",
          "name": "stdout",
          "text": [
            "<class 'dict'>\n"
          ]
        }
      ]
    },
    {
      "cell_type": "markdown",
      "metadata": {
        "id": "-dRmHOKkB-37"
      },
      "source": [
        "# What is a dictionary?\n",
        "\n",
        "- key, value, item.\n",
        "- Two ways of initialization\n",
        "- Every class in PyTorch uses `dict` to store and pass hyperparameters.\n",
        "\n",
        "```python\n",
        "{key1: value1, key2: value2}\n",
        "```"
      ]
    },
    {
      "cell_type": "code",
      "execution_count": 83,
      "metadata": {
        "id": "xwlJns-TQHhY"
      },
      "outputs": [],
      "source": [
        "dict1 = {'lr': 0.001,  # key: value\n",
        "         'name': 'SGD',\n",
        "         'method': 'CG',\n",
        "         0: 2}"
      ]
    },
    {
      "cell_type": "code",
      "source": [
        "dict1.keys()"
      ],
      "metadata": {
        "colab": {
          "base_uri": "https://localhost:8080/"
        },
        "id": "C0aNcKLoG8qY",
        "outputId": "d8e97212-ac64-4a20-ee90-1c901e0ac40a"
      },
      "execution_count": 84,
      "outputs": [
        {
          "output_type": "execute_result",
          "data": {
            "text/plain": [
              "dict_keys(['lr', 'name', 'method', 0])"
            ]
          },
          "metadata": {},
          "execution_count": 84
        }
      ]
    },
    {
      "cell_type": "code",
      "source": [
        "dict1['lr']"
      ],
      "metadata": {
        "colab": {
          "base_uri": "https://localhost:8080/"
        },
        "id": "xbGmfQpXHCKq",
        "outputId": "c2d800ae-0756-4112-ad2c-3ed033951dc0"
      },
      "execution_count": 86,
      "outputs": [
        {
          "output_type": "execute_result",
          "data": {
            "text/plain": [
              "0.001"
            ]
          },
          "metadata": {},
          "execution_count": 86
        }
      ]
    },
    {
      "cell_type": "code",
      "execution_count": 92,
      "metadata": {
        "id": "8PGciaDuAb3e"
      },
      "outputs": [],
      "source": [
        "loss_func = nn.CrossEntropyLoss()\n",
        "epochs = 5\n",
        "learning_rate = 1e-3"
      ]
    },
    {
      "cell_type": "code",
      "execution_count": 96,
      "metadata": {
        "id": "hL9WbE3mCK24"
      },
      "outputs": [],
      "source": [
        "torch.cuda.empty_cache()\n",
        "model = MLP(input_size=28*28)\n",
        "optimizer = GD(model.parameters(), lr=learning_rate)\n",
        "# the first input of optimizer is unchanged"
      ]
    },
    {
      "cell_type": "code",
      "execution_count": 97,
      "metadata": {
        "id": "K7oA-76xCjKs",
        "colab": {
          "base_uri": "https://localhost:8080/",
          "height": 593,
          "referenced_widgets": [
            "fea75782f4fb4900b53301eb206ee78c",
            "303a5d19a21f4c5188c3315f17d1c3cf",
            "489d27d3e0f444559e61b71f9082a5a3",
            "f198abcc067a4107b24b0dc5be69bbd6",
            "fac230ccc3ce4cfa881326c2cadd1baf",
            "dc0ebf48c18747759aff36d515fa3051",
            "6b8a58a13b5144f0bac813b4557a8223",
            "aaed280a05874d128ee1d3b75430d259",
            "90fdbe7b0a4347b69b7c44f430b069c8",
            "b725eaec7c594977b1354cb29fdf18a8",
            "efc82cec0d8841cd9214c092d7fb51c5",
            "0da8e7aa671e42779798dae5ba46109f",
            "9076656dd7764a8da3fec9086297fc50",
            "d5e7330e86f447fd9071578600a04e5f",
            "74c1c23841f043918ab89014c0933e8e",
            "7e3574695d024e419f1b6c09fcfb0628",
            "f3996f9d82664eba8ba53e6e9af143d8",
            "8945aa7889b741c093f2a4865548854a",
            "6e8be03de4404cd3a71411418485c023",
            "0d6e4c007828486fb059deb4e9030ae5",
            "84adbc505f2e4f7499812fdc90e9b736",
            "c0a6e6ab88ef47bcb315c2a969a39537"
          ]
        },
        "outputId": "59012233-1749-409a-868e-bb79ad8182e5"
      },
      "outputs": [
        {
          "output_type": "display_data",
          "data": {
            "text/plain": [
              "  0%|          | 0/938 [00:00<?, ?it/s]"
            ],
            "application/vnd.jupyter.widget-view+json": {
              "version_major": 2,
              "version_minor": 0,
              "model_id": "fea75782f4fb4900b53301eb206ee78c"
            }
          },
          "metadata": {}
        },
        {
          "output_type": "display_data",
          "data": {
            "text/plain": [
              "  0%|          | 0/938 [00:00<?, ?it/s]"
            ],
            "application/vnd.jupyter.widget-view+json": {
              "version_major": 2,
              "version_minor": 0,
              "model_id": "0da8e7aa671e42779798dae5ba46109f"
            }
          },
          "metadata": {}
        },
        {
          "output_type": "error",
          "ename": "KeyboardInterrupt",
          "evalue": "ignored",
          "traceback": [
            "\u001b[0;31m---------------------------------------------------------------------------\u001b[0m",
            "\u001b[0;31mKeyboardInterrupt\u001b[0m                         Traceback (most recent call last)",
            "\u001b[0;32m<ipython-input-97-c0cc2d0f2e05>\u001b[0m in \u001b[0;36m<cell line: 1>\u001b[0;34m()\u001b[0m\n\u001b[1;32m      6\u001b[0m \u001b[0;34m\u001b[0m\u001b[0m\n\u001b[1;32m      7\u001b[0m     \u001b[0;32mwith\u001b[0m \u001b[0mtqdm\u001b[0m\u001b[0;34m(\u001b[0m\u001b[0mtotal\u001b[0m\u001b[0;34m=\u001b[0m\u001b[0mlen\u001b[0m\u001b[0;34m(\u001b[0m\u001b[0mtrain_loader\u001b[0m\u001b[0;34m)\u001b[0m\u001b[0;34m)\u001b[0m \u001b[0;32mas\u001b[0m \u001b[0mpbar\u001b[0m\u001b[0;34m:\u001b[0m\u001b[0;34m\u001b[0m\u001b[0;34m\u001b[0m\u001b[0m\n\u001b[0;32m----> 8\u001b[0;31m       \u001b[0;32mfor\u001b[0m \u001b[0mx\u001b[0m\u001b[0;34m,\u001b[0m \u001b[0mtargets\u001b[0m \u001b[0;32min\u001b[0m \u001b[0mtrain_loader\u001b[0m\u001b[0;34m:\u001b[0m\u001b[0;34m\u001b[0m\u001b[0;34m\u001b[0m\u001b[0m\n\u001b[0m\u001b[1;32m      9\u001b[0m         \u001b[0;31m# each iter in train_loader give a list\u001b[0m\u001b[0;34m\u001b[0m\u001b[0;34m\u001b[0m\u001b[0m\n\u001b[1;32m     10\u001b[0m         \u001b[0;31m# of (X, y) where X is (64, 1, 28, 28) sized tensor\u001b[0m\u001b[0;34m\u001b[0m\u001b[0;34m\u001b[0m\u001b[0m\n",
            "\u001b[0;32m/usr/local/lib/python3.10/dist-packages/torch/utils/data/dataloader.py\u001b[0m in \u001b[0;36m__next__\u001b[0;34m(self)\u001b[0m\n\u001b[1;32m    624\u001b[0m \u001b[0;34m\u001b[0m\u001b[0m\n\u001b[1;32m    625\u001b[0m     \u001b[0;32mdef\u001b[0m \u001b[0m__next__\u001b[0m\u001b[0;34m(\u001b[0m\u001b[0mself\u001b[0m\u001b[0;34m)\u001b[0m \u001b[0;34m->\u001b[0m \u001b[0mAny\u001b[0m\u001b[0;34m:\u001b[0m\u001b[0;34m\u001b[0m\u001b[0;34m\u001b[0m\u001b[0m\n\u001b[0;32m--> 626\u001b[0;31m         \u001b[0;32mwith\u001b[0m \u001b[0mtorch\u001b[0m\u001b[0;34m.\u001b[0m\u001b[0mautograd\u001b[0m\u001b[0;34m.\u001b[0m\u001b[0mprofiler\u001b[0m\u001b[0;34m.\u001b[0m\u001b[0mrecord_function\u001b[0m\u001b[0;34m(\u001b[0m\u001b[0mself\u001b[0m\u001b[0;34m.\u001b[0m\u001b[0m_profile_name\u001b[0m\u001b[0;34m)\u001b[0m\u001b[0;34m:\u001b[0m\u001b[0;34m\u001b[0m\u001b[0;34m\u001b[0m\u001b[0m\n\u001b[0m\u001b[1;32m    627\u001b[0m             \u001b[0;32mif\u001b[0m \u001b[0mself\u001b[0m\u001b[0;34m.\u001b[0m\u001b[0m_sampler_iter\u001b[0m \u001b[0;32mis\u001b[0m \u001b[0;32mNone\u001b[0m\u001b[0;34m:\u001b[0m\u001b[0;34m\u001b[0m\u001b[0;34m\u001b[0m\u001b[0m\n\u001b[1;32m    628\u001b[0m                 \u001b[0;31m# TODO(https://github.com/pytorch/pytorch/issues/76750)\u001b[0m\u001b[0;34m\u001b[0m\u001b[0;34m\u001b[0m\u001b[0m\n",
            "\u001b[0;32m/usr/local/lib/python3.10/dist-packages/torch/autograd/profiler.py\u001b[0m in \u001b[0;36m__exit__\u001b[0;34m(self, exc_type, exc_value, traceback)\u001b[0m\n\u001b[1;32m    646\u001b[0m         \u001b[0;32mif\u001b[0m \u001b[0;32mnot\u001b[0m \u001b[0mtorch\u001b[0m\u001b[0;34m.\u001b[0m\u001b[0mjit\u001b[0m\u001b[0;34m.\u001b[0m\u001b[0mis_scripting\u001b[0m\u001b[0;34m(\u001b[0m\u001b[0;34m)\u001b[0m\u001b[0;34m:\u001b[0m\u001b[0;34m\u001b[0m\u001b[0;34m\u001b[0m\u001b[0m\n\u001b[1;32m    647\u001b[0m             \u001b[0;32mwith\u001b[0m \u001b[0mtorch\u001b[0m\u001b[0;34m.\u001b[0m\u001b[0m_C\u001b[0m\u001b[0;34m.\u001b[0m\u001b[0mDisableTorchFunctionSubclass\u001b[0m\u001b[0;34m(\u001b[0m\u001b[0;34m)\u001b[0m\u001b[0;34m:\u001b[0m\u001b[0;34m\u001b[0m\u001b[0;34m\u001b[0m\u001b[0m\n\u001b[0;32m--> 648\u001b[0;31m                 \u001b[0mtorch\u001b[0m\u001b[0;34m.\u001b[0m\u001b[0mops\u001b[0m\u001b[0;34m.\u001b[0m\u001b[0mprofiler\u001b[0m\u001b[0;34m.\u001b[0m\u001b[0m_record_function_exit\u001b[0m\u001b[0;34m.\u001b[0m\u001b[0m_RecordFunction\u001b[0m\u001b[0;34m(\u001b[0m\u001b[0mrecord\u001b[0m\u001b[0;34m)\u001b[0m\u001b[0;34m\u001b[0m\u001b[0;34m\u001b[0m\u001b[0m\n\u001b[0m\u001b[1;32m    649\u001b[0m         \u001b[0;32melse\u001b[0m\u001b[0;34m:\u001b[0m\u001b[0;34m\u001b[0m\u001b[0;34m\u001b[0m\u001b[0m\n\u001b[1;32m    650\u001b[0m             \u001b[0mtorch\u001b[0m\u001b[0;34m.\u001b[0m\u001b[0mops\u001b[0m\u001b[0;34m.\u001b[0m\u001b[0mprofiler\u001b[0m\u001b[0;34m.\u001b[0m\u001b[0m_record_function_exit\u001b[0m\u001b[0;34m(\u001b[0m\u001b[0mrecord\u001b[0m\u001b[0;34m)\u001b[0m\u001b[0;34m\u001b[0m\u001b[0;34m\u001b[0m\u001b[0m\n",
            "\u001b[0;32m/usr/local/lib/python3.10/dist-packages/torch/_ops.py\u001b[0m in \u001b[0;36m__call__\u001b[0;34m(self, *args, **kwargs)\u001b[0m\n\u001b[1;32m    446\u001b[0m \u001b[0;34m\u001b[0m\u001b[0m\n\u001b[1;32m    447\u001b[0m     \u001b[0;32mdef\u001b[0m \u001b[0m__call__\u001b[0m\u001b[0;34m(\u001b[0m\u001b[0mself\u001b[0m\u001b[0;34m,\u001b[0m \u001b[0;34m*\u001b[0m\u001b[0margs\u001b[0m\u001b[0;34m,\u001b[0m \u001b[0;34m**\u001b[0m\u001b[0mkwargs\u001b[0m\u001b[0;34m)\u001b[0m\u001b[0;34m:\u001b[0m\u001b[0;34m\u001b[0m\u001b[0;34m\u001b[0m\u001b[0m\n\u001b[0;32m--> 448\u001b[0;31m         \u001b[0;32mreturn\u001b[0m \u001b[0mself\u001b[0m\u001b[0;34m.\u001b[0m\u001b[0m_op\u001b[0m\u001b[0;34m(\u001b[0m\u001b[0;34m*\u001b[0m\u001b[0margs\u001b[0m\u001b[0;34m,\u001b[0m \u001b[0;34m**\u001b[0m\u001b[0mkwargs\u001b[0m \u001b[0;32mor\u001b[0m \u001b[0;34m{\u001b[0m\u001b[0;34m}\u001b[0m\u001b[0;34m)\u001b[0m\u001b[0;34m\u001b[0m\u001b[0;34m\u001b[0m\u001b[0m\n\u001b[0m\u001b[1;32m    449\u001b[0m \u001b[0;34m\u001b[0m\u001b[0m\n\u001b[1;32m    450\u001b[0m     \u001b[0;32mdef\u001b[0m \u001b[0m__hash__\u001b[0m\u001b[0;34m(\u001b[0m\u001b[0mself\u001b[0m\u001b[0;34m)\u001b[0m\u001b[0;34m:\u001b[0m\u001b[0;34m\u001b[0m\u001b[0;34m\u001b[0m\u001b[0m\n",
            "\u001b[0;31mKeyboardInterrupt\u001b[0m: "
          ]
        }
      ],
      "source": [
        "for epoch in range(epochs):\n",
        "\n",
        "    model.train()\n",
        "\n",
        "    loss_vals = []\n",
        "\n",
        "    with tqdm(total=len(train_loader)) as pbar:\n",
        "      for x, targets in train_loader:\n",
        "        # each iter in train_loader give a list\n",
        "        # of (X, y) where X is (64, 1, 28, 28) sized tensor\n",
        "        # y is (64) tensor\n",
        "\n",
        "        # forward pass\n",
        "        # outputs is the model's prediction\n",
        "        outputs = model(x)\n",
        "\n",
        "        # loss function\n",
        "        loss = loss_func(outputs, targets)\n",
        "\n",
        "        # record loss function values\n",
        "        # optional\n",
        "        loss_vals.append(loss.item())\n",
        "\n",
        "        # clean the gradient from last iteration\n",
        "        optimizer.zero_grad()\n",
        "\n",
        "        # backprop: chain rule to compute gradient\n",
        "        loss.backward()\n",
        "\n",
        "        # gradient descent\n",
        "        optimizer.step()\n",
        "\n",
        "        # check accuracy\n",
        "        # optional\n",
        "        # acc = (outputs.detach().argmax(dim=-1) == targets).mean()\n",
        "\n",
        "        # tqdm template\n",
        "        # optional\n",
        "        desc = f\"epoch: [{epoch+1}/{epochs}] loss: {np.mean(loss_vals):.4f}\"\n",
        "        pbar.set_description(desc)\n",
        "        pbar.update()"
      ]
    },
    {
      "cell_type": "code",
      "execution_count": null,
      "metadata": {
        "id": "tCoVZDNMCv9C"
      },
      "outputs": [],
      "source": []
    }
  ],
  "metadata": {
    "colab": {
      "provenance": []
    },
    "kernelspec": {
      "display_name": "Python 3",
      "name": "python3"
    },
    "language_info": {
      "name": "python"
    },
    "widgets": {
      "application/vnd.jupyter.widget-state+json": {
        "fea75782f4fb4900b53301eb206ee78c": {
          "model_module": "@jupyter-widgets/controls",
          "model_name": "HBoxModel",
          "model_module_version": "1.5.0",
          "state": {
            "_dom_classes": [],
            "_model_module": "@jupyter-widgets/controls",
            "_model_module_version": "1.5.0",
            "_model_name": "HBoxModel",
            "_view_count": null,
            "_view_module": "@jupyter-widgets/controls",
            "_view_module_version": "1.5.0",
            "_view_name": "HBoxView",
            "box_style": "",
            "children": [
              "IPY_MODEL_303a5d19a21f4c5188c3315f17d1c3cf",
              "IPY_MODEL_489d27d3e0f444559e61b71f9082a5a3",
              "IPY_MODEL_f198abcc067a4107b24b0dc5be69bbd6"
            ],
            "layout": "IPY_MODEL_fac230ccc3ce4cfa881326c2cadd1baf"
          }
        },
        "303a5d19a21f4c5188c3315f17d1c3cf": {
          "model_module": "@jupyter-widgets/controls",
          "model_name": "HTMLModel",
          "model_module_version": "1.5.0",
          "state": {
            "_dom_classes": [],
            "_model_module": "@jupyter-widgets/controls",
            "_model_module_version": "1.5.0",
            "_model_name": "HTMLModel",
            "_view_count": null,
            "_view_module": "@jupyter-widgets/controls",
            "_view_module_version": "1.5.0",
            "_view_name": "HTMLView",
            "description": "",
            "description_tooltip": null,
            "layout": "IPY_MODEL_dc0ebf48c18747759aff36d515fa3051",
            "placeholder": "​",
            "style": "IPY_MODEL_6b8a58a13b5144f0bac813b4557a8223",
            "value": "epoch: [1/5] loss: 2.2114: 100%"
          }
        },
        "489d27d3e0f444559e61b71f9082a5a3": {
          "model_module": "@jupyter-widgets/controls",
          "model_name": "FloatProgressModel",
          "model_module_version": "1.5.0",
          "state": {
            "_dom_classes": [],
            "_model_module": "@jupyter-widgets/controls",
            "_model_module_version": "1.5.0",
            "_model_name": "FloatProgressModel",
            "_view_count": null,
            "_view_module": "@jupyter-widgets/controls",
            "_view_module_version": "1.5.0",
            "_view_name": "ProgressView",
            "bar_style": "success",
            "description": "",
            "description_tooltip": null,
            "layout": "IPY_MODEL_aaed280a05874d128ee1d3b75430d259",
            "max": 938,
            "min": 0,
            "orientation": "horizontal",
            "style": "IPY_MODEL_90fdbe7b0a4347b69b7c44f430b069c8",
            "value": 938
          }
        },
        "f198abcc067a4107b24b0dc5be69bbd6": {
          "model_module": "@jupyter-widgets/controls",
          "model_name": "HTMLModel",
          "model_module_version": "1.5.0",
          "state": {
            "_dom_classes": [],
            "_model_module": "@jupyter-widgets/controls",
            "_model_module_version": "1.5.0",
            "_model_name": "HTMLModel",
            "_view_count": null,
            "_view_module": "@jupyter-widgets/controls",
            "_view_module_version": "1.5.0",
            "_view_name": "HTMLView",
            "description": "",
            "description_tooltip": null,
            "layout": "IPY_MODEL_b725eaec7c594977b1354cb29fdf18a8",
            "placeholder": "​",
            "style": "IPY_MODEL_efc82cec0d8841cd9214c092d7fb51c5",
            "value": " 938/938 [00:19&lt;00:00, 50.82it/s]"
          }
        },
        "fac230ccc3ce4cfa881326c2cadd1baf": {
          "model_module": "@jupyter-widgets/base",
          "model_name": "LayoutModel",
          "model_module_version": "1.2.0",
          "state": {
            "_model_module": "@jupyter-widgets/base",
            "_model_module_version": "1.2.0",
            "_model_name": "LayoutModel",
            "_view_count": null,
            "_view_module": "@jupyter-widgets/base",
            "_view_module_version": "1.2.0",
            "_view_name": "LayoutView",
            "align_content": null,
            "align_items": null,
            "align_self": null,
            "border": null,
            "bottom": null,
            "display": null,
            "flex": null,
            "flex_flow": null,
            "grid_area": null,
            "grid_auto_columns": null,
            "grid_auto_flow": null,
            "grid_auto_rows": null,
            "grid_column": null,
            "grid_gap": null,
            "grid_row": null,
            "grid_template_areas": null,
            "grid_template_columns": null,
            "grid_template_rows": null,
            "height": null,
            "justify_content": null,
            "justify_items": null,
            "left": null,
            "margin": null,
            "max_height": null,
            "max_width": null,
            "min_height": null,
            "min_width": null,
            "object_fit": null,
            "object_position": null,
            "order": null,
            "overflow": null,
            "overflow_x": null,
            "overflow_y": null,
            "padding": null,
            "right": null,
            "top": null,
            "visibility": null,
            "width": null
          }
        },
        "dc0ebf48c18747759aff36d515fa3051": {
          "model_module": "@jupyter-widgets/base",
          "model_name": "LayoutModel",
          "model_module_version": "1.2.0",
          "state": {
            "_model_module": "@jupyter-widgets/base",
            "_model_module_version": "1.2.0",
            "_model_name": "LayoutModel",
            "_view_count": null,
            "_view_module": "@jupyter-widgets/base",
            "_view_module_version": "1.2.0",
            "_view_name": "LayoutView",
            "align_content": null,
            "align_items": null,
            "align_self": null,
            "border": null,
            "bottom": null,
            "display": null,
            "flex": null,
            "flex_flow": null,
            "grid_area": null,
            "grid_auto_columns": null,
            "grid_auto_flow": null,
            "grid_auto_rows": null,
            "grid_column": null,
            "grid_gap": null,
            "grid_row": null,
            "grid_template_areas": null,
            "grid_template_columns": null,
            "grid_template_rows": null,
            "height": null,
            "justify_content": null,
            "justify_items": null,
            "left": null,
            "margin": null,
            "max_height": null,
            "max_width": null,
            "min_height": null,
            "min_width": null,
            "object_fit": null,
            "object_position": null,
            "order": null,
            "overflow": null,
            "overflow_x": null,
            "overflow_y": null,
            "padding": null,
            "right": null,
            "top": null,
            "visibility": null,
            "width": null
          }
        },
        "6b8a58a13b5144f0bac813b4557a8223": {
          "model_module": "@jupyter-widgets/controls",
          "model_name": "DescriptionStyleModel",
          "model_module_version": "1.5.0",
          "state": {
            "_model_module": "@jupyter-widgets/controls",
            "_model_module_version": "1.5.0",
            "_model_name": "DescriptionStyleModel",
            "_view_count": null,
            "_view_module": "@jupyter-widgets/base",
            "_view_module_version": "1.2.0",
            "_view_name": "StyleView",
            "description_width": ""
          }
        },
        "aaed280a05874d128ee1d3b75430d259": {
          "model_module": "@jupyter-widgets/base",
          "model_name": "LayoutModel",
          "model_module_version": "1.2.0",
          "state": {
            "_model_module": "@jupyter-widgets/base",
            "_model_module_version": "1.2.0",
            "_model_name": "LayoutModel",
            "_view_count": null,
            "_view_module": "@jupyter-widgets/base",
            "_view_module_version": "1.2.0",
            "_view_name": "LayoutView",
            "align_content": null,
            "align_items": null,
            "align_self": null,
            "border": null,
            "bottom": null,
            "display": null,
            "flex": null,
            "flex_flow": null,
            "grid_area": null,
            "grid_auto_columns": null,
            "grid_auto_flow": null,
            "grid_auto_rows": null,
            "grid_column": null,
            "grid_gap": null,
            "grid_row": null,
            "grid_template_areas": null,
            "grid_template_columns": null,
            "grid_template_rows": null,
            "height": null,
            "justify_content": null,
            "justify_items": null,
            "left": null,
            "margin": null,
            "max_height": null,
            "max_width": null,
            "min_height": null,
            "min_width": null,
            "object_fit": null,
            "object_position": null,
            "order": null,
            "overflow": null,
            "overflow_x": null,
            "overflow_y": null,
            "padding": null,
            "right": null,
            "top": null,
            "visibility": null,
            "width": null
          }
        },
        "90fdbe7b0a4347b69b7c44f430b069c8": {
          "model_module": "@jupyter-widgets/controls",
          "model_name": "ProgressStyleModel",
          "model_module_version": "1.5.0",
          "state": {
            "_model_module": "@jupyter-widgets/controls",
            "_model_module_version": "1.5.0",
            "_model_name": "ProgressStyleModel",
            "_view_count": null,
            "_view_module": "@jupyter-widgets/base",
            "_view_module_version": "1.2.0",
            "_view_name": "StyleView",
            "bar_color": null,
            "description_width": ""
          }
        },
        "b725eaec7c594977b1354cb29fdf18a8": {
          "model_module": "@jupyter-widgets/base",
          "model_name": "LayoutModel",
          "model_module_version": "1.2.0",
          "state": {
            "_model_module": "@jupyter-widgets/base",
            "_model_module_version": "1.2.0",
            "_model_name": "LayoutModel",
            "_view_count": null,
            "_view_module": "@jupyter-widgets/base",
            "_view_module_version": "1.2.0",
            "_view_name": "LayoutView",
            "align_content": null,
            "align_items": null,
            "align_self": null,
            "border": null,
            "bottom": null,
            "display": null,
            "flex": null,
            "flex_flow": null,
            "grid_area": null,
            "grid_auto_columns": null,
            "grid_auto_flow": null,
            "grid_auto_rows": null,
            "grid_column": null,
            "grid_gap": null,
            "grid_row": null,
            "grid_template_areas": null,
            "grid_template_columns": null,
            "grid_template_rows": null,
            "height": null,
            "justify_content": null,
            "justify_items": null,
            "left": null,
            "margin": null,
            "max_height": null,
            "max_width": null,
            "min_height": null,
            "min_width": null,
            "object_fit": null,
            "object_position": null,
            "order": null,
            "overflow": null,
            "overflow_x": null,
            "overflow_y": null,
            "padding": null,
            "right": null,
            "top": null,
            "visibility": null,
            "width": null
          }
        },
        "efc82cec0d8841cd9214c092d7fb51c5": {
          "model_module": "@jupyter-widgets/controls",
          "model_name": "DescriptionStyleModel",
          "model_module_version": "1.5.0",
          "state": {
            "_model_module": "@jupyter-widgets/controls",
            "_model_module_version": "1.5.0",
            "_model_name": "DescriptionStyleModel",
            "_view_count": null,
            "_view_module": "@jupyter-widgets/base",
            "_view_module_version": "1.2.0",
            "_view_name": "StyleView",
            "description_width": ""
          }
        },
        "0da8e7aa671e42779798dae5ba46109f": {
          "model_module": "@jupyter-widgets/controls",
          "model_name": "HBoxModel",
          "model_module_version": "1.5.0",
          "state": {
            "_dom_classes": [],
            "_model_module": "@jupyter-widgets/controls",
            "_model_module_version": "1.5.0",
            "_model_name": "HBoxModel",
            "_view_count": null,
            "_view_module": "@jupyter-widgets/controls",
            "_view_module_version": "1.5.0",
            "_view_name": "HBoxView",
            "box_style": "",
            "children": [
              "IPY_MODEL_9076656dd7764a8da3fec9086297fc50",
              "IPY_MODEL_d5e7330e86f447fd9071578600a04e5f",
              "IPY_MODEL_74c1c23841f043918ab89014c0933e8e"
            ],
            "layout": "IPY_MODEL_7e3574695d024e419f1b6c09fcfb0628"
          }
        },
        "9076656dd7764a8da3fec9086297fc50": {
          "model_module": "@jupyter-widgets/controls",
          "model_name": "HTMLModel",
          "model_module_version": "1.5.0",
          "state": {
            "_dom_classes": [],
            "_model_module": "@jupyter-widgets/controls",
            "_model_module_version": "1.5.0",
            "_model_name": "HTMLModel",
            "_view_count": null,
            "_view_module": "@jupyter-widgets/controls",
            "_view_module_version": "1.5.0",
            "_view_name": "HTMLView",
            "description": "",
            "description_tooltip": null,
            "layout": "IPY_MODEL_f3996f9d82664eba8ba53e6e9af143d8",
            "placeholder": "​",
            "style": "IPY_MODEL_8945aa7889b741c093f2a4865548854a",
            "value": "epoch: [2/5] loss: 1.9984:  89%"
          }
        },
        "d5e7330e86f447fd9071578600a04e5f": {
          "model_module": "@jupyter-widgets/controls",
          "model_name": "FloatProgressModel",
          "model_module_version": "1.5.0",
          "state": {
            "_dom_classes": [],
            "_model_module": "@jupyter-widgets/controls",
            "_model_module_version": "1.5.0",
            "_model_name": "FloatProgressModel",
            "_view_count": null,
            "_view_module": "@jupyter-widgets/controls",
            "_view_module_version": "1.5.0",
            "_view_name": "ProgressView",
            "bar_style": "danger",
            "description": "",
            "description_tooltip": null,
            "layout": "IPY_MODEL_6e8be03de4404cd3a71411418485c023",
            "max": 938,
            "min": 0,
            "orientation": "horizontal",
            "style": "IPY_MODEL_0d6e4c007828486fb059deb4e9030ae5",
            "value": 833
          }
        },
        "74c1c23841f043918ab89014c0933e8e": {
          "model_module": "@jupyter-widgets/controls",
          "model_name": "HTMLModel",
          "model_module_version": "1.5.0",
          "state": {
            "_dom_classes": [],
            "_model_module": "@jupyter-widgets/controls",
            "_model_module_version": "1.5.0",
            "_model_name": "HTMLModel",
            "_view_count": null,
            "_view_module": "@jupyter-widgets/controls",
            "_view_module_version": "1.5.0",
            "_view_name": "HTMLView",
            "description": "",
            "description_tooltip": null,
            "layout": "IPY_MODEL_84adbc505f2e4f7499812fdc90e9b736",
            "placeholder": "​",
            "style": "IPY_MODEL_c0a6e6ab88ef47bcb315c2a969a39537",
            "value": " 833/938 [00:16&lt;00:01, 54.02it/s]"
          }
        },
        "7e3574695d024e419f1b6c09fcfb0628": {
          "model_module": "@jupyter-widgets/base",
          "model_name": "LayoutModel",
          "model_module_version": "1.2.0",
          "state": {
            "_model_module": "@jupyter-widgets/base",
            "_model_module_version": "1.2.0",
            "_model_name": "LayoutModel",
            "_view_count": null,
            "_view_module": "@jupyter-widgets/base",
            "_view_module_version": "1.2.0",
            "_view_name": "LayoutView",
            "align_content": null,
            "align_items": null,
            "align_self": null,
            "border": null,
            "bottom": null,
            "display": null,
            "flex": null,
            "flex_flow": null,
            "grid_area": null,
            "grid_auto_columns": null,
            "grid_auto_flow": null,
            "grid_auto_rows": null,
            "grid_column": null,
            "grid_gap": null,
            "grid_row": null,
            "grid_template_areas": null,
            "grid_template_columns": null,
            "grid_template_rows": null,
            "height": null,
            "justify_content": null,
            "justify_items": null,
            "left": null,
            "margin": null,
            "max_height": null,
            "max_width": null,
            "min_height": null,
            "min_width": null,
            "object_fit": null,
            "object_position": null,
            "order": null,
            "overflow": null,
            "overflow_x": null,
            "overflow_y": null,
            "padding": null,
            "right": null,
            "top": null,
            "visibility": null,
            "width": null
          }
        },
        "f3996f9d82664eba8ba53e6e9af143d8": {
          "model_module": "@jupyter-widgets/base",
          "model_name": "LayoutModel",
          "model_module_version": "1.2.0",
          "state": {
            "_model_module": "@jupyter-widgets/base",
            "_model_module_version": "1.2.0",
            "_model_name": "LayoutModel",
            "_view_count": null,
            "_view_module": "@jupyter-widgets/base",
            "_view_module_version": "1.2.0",
            "_view_name": "LayoutView",
            "align_content": null,
            "align_items": null,
            "align_self": null,
            "border": null,
            "bottom": null,
            "display": null,
            "flex": null,
            "flex_flow": null,
            "grid_area": null,
            "grid_auto_columns": null,
            "grid_auto_flow": null,
            "grid_auto_rows": null,
            "grid_column": null,
            "grid_gap": null,
            "grid_row": null,
            "grid_template_areas": null,
            "grid_template_columns": null,
            "grid_template_rows": null,
            "height": null,
            "justify_content": null,
            "justify_items": null,
            "left": null,
            "margin": null,
            "max_height": null,
            "max_width": null,
            "min_height": null,
            "min_width": null,
            "object_fit": null,
            "object_position": null,
            "order": null,
            "overflow": null,
            "overflow_x": null,
            "overflow_y": null,
            "padding": null,
            "right": null,
            "top": null,
            "visibility": null,
            "width": null
          }
        },
        "8945aa7889b741c093f2a4865548854a": {
          "model_module": "@jupyter-widgets/controls",
          "model_name": "DescriptionStyleModel",
          "model_module_version": "1.5.0",
          "state": {
            "_model_module": "@jupyter-widgets/controls",
            "_model_module_version": "1.5.0",
            "_model_name": "DescriptionStyleModel",
            "_view_count": null,
            "_view_module": "@jupyter-widgets/base",
            "_view_module_version": "1.2.0",
            "_view_name": "StyleView",
            "description_width": ""
          }
        },
        "6e8be03de4404cd3a71411418485c023": {
          "model_module": "@jupyter-widgets/base",
          "model_name": "LayoutModel",
          "model_module_version": "1.2.0",
          "state": {
            "_model_module": "@jupyter-widgets/base",
            "_model_module_version": "1.2.0",
            "_model_name": "LayoutModel",
            "_view_count": null,
            "_view_module": "@jupyter-widgets/base",
            "_view_module_version": "1.2.0",
            "_view_name": "LayoutView",
            "align_content": null,
            "align_items": null,
            "align_self": null,
            "border": null,
            "bottom": null,
            "display": null,
            "flex": null,
            "flex_flow": null,
            "grid_area": null,
            "grid_auto_columns": null,
            "grid_auto_flow": null,
            "grid_auto_rows": null,
            "grid_column": null,
            "grid_gap": null,
            "grid_row": null,
            "grid_template_areas": null,
            "grid_template_columns": null,
            "grid_template_rows": null,
            "height": null,
            "justify_content": null,
            "justify_items": null,
            "left": null,
            "margin": null,
            "max_height": null,
            "max_width": null,
            "min_height": null,
            "min_width": null,
            "object_fit": null,
            "object_position": null,
            "order": null,
            "overflow": null,
            "overflow_x": null,
            "overflow_y": null,
            "padding": null,
            "right": null,
            "top": null,
            "visibility": null,
            "width": null
          }
        },
        "0d6e4c007828486fb059deb4e9030ae5": {
          "model_module": "@jupyter-widgets/controls",
          "model_name": "ProgressStyleModel",
          "model_module_version": "1.5.0",
          "state": {
            "_model_module": "@jupyter-widgets/controls",
            "_model_module_version": "1.5.0",
            "_model_name": "ProgressStyleModel",
            "_view_count": null,
            "_view_module": "@jupyter-widgets/base",
            "_view_module_version": "1.2.0",
            "_view_name": "StyleView",
            "bar_color": null,
            "description_width": ""
          }
        },
        "84adbc505f2e4f7499812fdc90e9b736": {
          "model_module": "@jupyter-widgets/base",
          "model_name": "LayoutModel",
          "model_module_version": "1.2.0",
          "state": {
            "_model_module": "@jupyter-widgets/base",
            "_model_module_version": "1.2.0",
            "_model_name": "LayoutModel",
            "_view_count": null,
            "_view_module": "@jupyter-widgets/base",
            "_view_module_version": "1.2.0",
            "_view_name": "LayoutView",
            "align_content": null,
            "align_items": null,
            "align_self": null,
            "border": null,
            "bottom": null,
            "display": null,
            "flex": null,
            "flex_flow": null,
            "grid_area": null,
            "grid_auto_columns": null,
            "grid_auto_flow": null,
            "grid_auto_rows": null,
            "grid_column": null,
            "grid_gap": null,
            "grid_row": null,
            "grid_template_areas": null,
            "grid_template_columns": null,
            "grid_template_rows": null,
            "height": null,
            "justify_content": null,
            "justify_items": null,
            "left": null,
            "margin": null,
            "max_height": null,
            "max_width": null,
            "min_height": null,
            "min_width": null,
            "object_fit": null,
            "object_position": null,
            "order": null,
            "overflow": null,
            "overflow_x": null,
            "overflow_y": null,
            "padding": null,
            "right": null,
            "top": null,
            "visibility": null,
            "width": null
          }
        },
        "c0a6e6ab88ef47bcb315c2a969a39537": {
          "model_module": "@jupyter-widgets/controls",
          "model_name": "DescriptionStyleModel",
          "model_module_version": "1.5.0",
          "state": {
            "_model_module": "@jupyter-widgets/controls",
            "_model_module_version": "1.5.0",
            "_model_name": "DescriptionStyleModel",
            "_view_count": null,
            "_view_module": "@jupyter-widgets/base",
            "_view_module_version": "1.2.0",
            "_view_name": "StyleView",
            "description_width": ""
          }
        }
      }
    }
  },
  "nbformat": 4,
  "nbformat_minor": 0
}