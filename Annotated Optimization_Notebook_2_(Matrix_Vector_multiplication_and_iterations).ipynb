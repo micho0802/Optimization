{
  "cells": [
    {
      "cell_type": "markdown",
      "metadata": {
        "id": "view-in-github"
      },
      "source": [
        "<a href=\"https://colab.research.google.com/github/scaomath/wustl-math450/blob/main/Lectures/Math_450_Notebook_3_(Matrix_Vector_multiplication).ipynb\" target=\"_parent\"><img src=\"https://colab.research.google.com/assets/colab-badge.svg\" alt=\"Open In Colab\"/></a>"
      ]
    },
    {
      "cell_type": "markdown",
      "metadata": {
        "id": "7LzKCusA5bZE"
      },
      "source": [
        "# Coding Lecture 2\n",
        "\n",
        "Overall goal of the our class:\n",
        "- learn how to check and profile the machine learning code written in PyTorch.\n",
        "  - Write torch-like code from scratch.\n",
        "  - Write our own optimizer.\n",
        "  - (advanced) config a debugger in VsCode to monitor the performance.\n",
        "\n",
        "Today's goal:\n",
        "- Use matrix vector multiplication in `torch`.\n",
        "- Iterations to prepare the implementation of a simple gradient descent algorithm.\n",
        "\n",
        "This is a worksheet version of the notebook. We can follow along during the coding lecture and then download the annotated version on the Canvas.\n",
        "\n",
        "Reference:\n",
        "- Numpy's neural network implementation from scratch: https://www.kaggle.com/scaomath/simple-mnist-numpy-from-scratch"
      ]
    },
    {
      "cell_type": "code",
      "execution_count": 1,
      "metadata": {
        "id": "soVvKDHb51Fk"
      },
      "outputs": [],
      "source": [
        "import numpy as np\n",
        "import torch"
      ]
    },
    {
      "cell_type": "code",
      "execution_count": 9,
      "metadata": {
        "colab": {
          "base_uri": "https://localhost:8080/"
        },
        "id": "gtaYGVRtINLV",
        "outputId": "1d138d14-b533-4182-c5bd-a4ac52fa34fd"
      },
      "outputs": [
        {
          "output_type": "stream",
          "name": "stdout",
          "text": [
            "0.5\n",
            "tensor([0, 1, 2, 3, 4, 5, 6, 7])\n",
            "tensor([[1., 0., 0.],\n",
            "        [0., 1., 0.],\n",
            "        [0., 0., 1.]])\n",
            "tensor([[-1.7303,  0.2998],\n",
            "        [-1.4725, -0.6713],\n",
            "        [-0.6057,  0.0626]])\n"
          ]
        }
      ],
      "source": [
        "# build a tensor\n",
        "x = torch.Tensor([0.5, 0.8])\n",
        "print(x[0].item())\n",
        "x = torch.arange(8)\n",
        "print(x)\n",
        "A = torch.eye(3)\n",
        "print(A)\n",
        "x = torch.randn((3, 2))\n",
        "print(x)"
      ]
    },
    {
      "cell_type": "code",
      "execution_count": 10,
      "metadata": {
        "colab": {
          "base_uri": "https://localhost:8080/"
        },
        "id": "RRD8qUt-INLV",
        "outputId": "5e793e4b-7afc-457d-a27d-f7b5af1b9ea1"
      },
      "outputs": [
        {
          "output_type": "execute_result",
          "data": {
            "text/plain": [
              "4"
            ]
          },
          "metadata": {},
          "execution_count": 10
        }
      ],
      "source": [
        "# polymorphism in Python is inherited in PyTorch\n",
        "sum([0, 1, 3])"
      ]
    },
    {
      "cell_type": "code",
      "source": [
        "np.sum(torch.arange(8))"
      ],
      "metadata": {
        "colab": {
          "base_uri": "https://localhost:8080/",
          "height": 426
        },
        "id": "7BBiOgL6JacN",
        "outputId": "889acb52-11b2-441d-9444-6f704b7c73aa"
      },
      "execution_count": 12,
      "outputs": [
        {
          "output_type": "error",
          "ename": "TypeError",
          "evalue": "ignored",
          "traceback": [
            "\u001b[0;31m---------------------------------------------------------------------------\u001b[0m",
            "\u001b[0;31mTypeError\u001b[0m                                 Traceback (most recent call last)",
            "\u001b[0;32m<ipython-input-12-448c832c53c8>\u001b[0m in \u001b[0;36m<cell line: 1>\u001b[0;34m()\u001b[0m\n\u001b[0;32m----> 1\u001b[0;31m \u001b[0mnp\u001b[0m\u001b[0;34m.\u001b[0m\u001b[0msum\u001b[0m\u001b[0;34m(\u001b[0m\u001b[0mtorch\u001b[0m\u001b[0;34m.\u001b[0m\u001b[0marange\u001b[0m\u001b[0;34m(\u001b[0m\u001b[0;36m8\u001b[0m\u001b[0;34m)\u001b[0m\u001b[0;34m)\u001b[0m\u001b[0;34m\u001b[0m\u001b[0;34m\u001b[0m\u001b[0m\n\u001b[0m",
            "\u001b[0;32m/usr/local/lib/python3.10/dist-packages/numpy/core/overrides.py\u001b[0m in \u001b[0;36msum\u001b[0;34m(*args, **kwargs)\u001b[0m\n",
            "\u001b[0;32m/usr/local/lib/python3.10/dist-packages/numpy/core/fromnumeric.py\u001b[0m in \u001b[0;36msum\u001b[0;34m(a, axis, dtype, out, keepdims, initial, where)\u001b[0m\n\u001b[1;32m   2296\u001b[0m         \u001b[0;32mreturn\u001b[0m \u001b[0mres\u001b[0m\u001b[0;34m\u001b[0m\u001b[0;34m\u001b[0m\u001b[0m\n\u001b[1;32m   2297\u001b[0m \u001b[0;34m\u001b[0m\u001b[0m\n\u001b[0;32m-> 2298\u001b[0;31m     return _wrapreduction(a, np.add, 'sum', axis, dtype, out, keepdims=keepdims,\n\u001b[0m\u001b[1;32m   2299\u001b[0m                           initial=initial, where=where)\n\u001b[1;32m   2300\u001b[0m \u001b[0;34m\u001b[0m\u001b[0m\n",
            "\u001b[0;32m/usr/local/lib/python3.10/dist-packages/numpy/core/fromnumeric.py\u001b[0m in \u001b[0;36m_wrapreduction\u001b[0;34m(obj, ufunc, method, axis, dtype, out, **kwargs)\u001b[0m\n\u001b[1;32m     82\u001b[0m                 \u001b[0;32mreturn\u001b[0m \u001b[0mreduction\u001b[0m\u001b[0;34m(\u001b[0m\u001b[0maxis\u001b[0m\u001b[0;34m=\u001b[0m\u001b[0maxis\u001b[0m\u001b[0;34m,\u001b[0m \u001b[0mdtype\u001b[0m\u001b[0;34m=\u001b[0m\u001b[0mdtype\u001b[0m\u001b[0;34m,\u001b[0m \u001b[0mout\u001b[0m\u001b[0;34m=\u001b[0m\u001b[0mout\u001b[0m\u001b[0;34m,\u001b[0m \u001b[0;34m**\u001b[0m\u001b[0mpasskwargs\u001b[0m\u001b[0;34m)\u001b[0m\u001b[0;34m\u001b[0m\u001b[0;34m\u001b[0m\u001b[0m\n\u001b[1;32m     83\u001b[0m             \u001b[0;32melse\u001b[0m\u001b[0;34m:\u001b[0m\u001b[0;34m\u001b[0m\u001b[0;34m\u001b[0m\u001b[0m\n\u001b[0;32m---> 84\u001b[0;31m                 \u001b[0;32mreturn\u001b[0m \u001b[0mreduction\u001b[0m\u001b[0;34m(\u001b[0m\u001b[0maxis\u001b[0m\u001b[0;34m=\u001b[0m\u001b[0maxis\u001b[0m\u001b[0;34m,\u001b[0m \u001b[0mout\u001b[0m\u001b[0;34m=\u001b[0m\u001b[0mout\u001b[0m\u001b[0;34m,\u001b[0m \u001b[0;34m**\u001b[0m\u001b[0mpasskwargs\u001b[0m\u001b[0;34m)\u001b[0m\u001b[0;34m\u001b[0m\u001b[0;34m\u001b[0m\u001b[0m\n\u001b[0m\u001b[1;32m     85\u001b[0m \u001b[0;34m\u001b[0m\u001b[0m\n\u001b[1;32m     86\u001b[0m     \u001b[0;32mreturn\u001b[0m \u001b[0mufunc\u001b[0m\u001b[0;34m.\u001b[0m\u001b[0mreduce\u001b[0m\u001b[0;34m(\u001b[0m\u001b[0mobj\u001b[0m\u001b[0;34m,\u001b[0m \u001b[0maxis\u001b[0m\u001b[0;34m,\u001b[0m \u001b[0mdtype\u001b[0m\u001b[0;34m,\u001b[0m \u001b[0mout\u001b[0m\u001b[0;34m,\u001b[0m \u001b[0;34m**\u001b[0m\u001b[0mpasskwargs\u001b[0m\u001b[0;34m)\u001b[0m\u001b[0;34m\u001b[0m\u001b[0;34m\u001b[0m\u001b[0m\n",
            "\u001b[0;31mTypeError\u001b[0m: sum() received an invalid combination of arguments - got (out=NoneType, axis=NoneType, ), but expected one of:\n * (*, torch.dtype dtype)\n      didn't match because some of the keywords were incorrect: out, axis\n * (tuple of ints dim, bool keepdim, *, torch.dtype dtype)\n * (tuple of names dim, bool keepdim, *, torch.dtype dtype)\n"
          ]
        }
      ]
    },
    {
      "cell_type": "code",
      "source": [
        "x = torch.arange(8)\n",
        "print(x.sum())\n",
        "y = np.arange(8)\n",
        "print(y.sum())"
      ],
      "metadata": {
        "colab": {
          "base_uri": "https://localhost:8080/"
        },
        "id": "4GUa8QOwJnlE",
        "outputId": "50dc96e9-9381-4143-831a-c55104eb4b1d"
      },
      "execution_count": 14,
      "outputs": [
        {
          "output_type": "stream",
          "name": "stdout",
          "text": [
            "tensor(28)\n",
            "28\n"
          ]
        }
      ]
    },
    {
      "cell_type": "markdown",
      "metadata": {
        "id": "2UxhYCt2INLW"
      },
      "source": [
        "### Matrix vector multiplication\n",
        "- `dot` and `mm` in `torch`\n",
        "- `*` is something different (elementwise multiplication)"
      ]
    },
    {
      "cell_type": "code",
      "execution_count": 15,
      "metadata": {
        "id": "WOd4TXXNINLW"
      },
      "outputs": [],
      "source": [
        "# example\n",
        "?torch.matmul"
      ]
    },
    {
      "cell_type": "code",
      "source": [
        "A = torch.randn(2, 20)\n",
        "x = torch.randn(20)\n",
        "print(torch.matmul(A, x))"
      ],
      "metadata": {
        "colab": {
          "base_uri": "https://localhost:8080/"
        },
        "id": "HjeaMccfJ_DJ",
        "outputId": "622c6ac2-1663-43e3-c084-8300d5b26368"
      },
      "execution_count": 16,
      "outputs": [
        {
          "output_type": "stream",
          "name": "stdout",
          "text": [
            "tensor([-3.8048,  3.8471])\n"
          ]
        }
      ]
    },
    {
      "cell_type": "code",
      "source": [
        "print(A.mm(x))"
      ],
      "metadata": {
        "colab": {
          "base_uri": "https://localhost:8080/",
          "height": 176
        },
        "id": "GLwPVLDRKNK_",
        "outputId": "1c7fb4eb-d3a9-40d8-eccb-a4860fbf4414"
      },
      "execution_count": 18,
      "outputs": [
        {
          "output_type": "error",
          "ename": "RuntimeError",
          "evalue": "ignored",
          "traceback": [
            "\u001b[0;31m---------------------------------------------------------------------------\u001b[0m",
            "\u001b[0;31mRuntimeError\u001b[0m                              Traceback (most recent call last)",
            "\u001b[0;32m<ipython-input-18-cda21a0d1923>\u001b[0m in \u001b[0;36m<cell line: 1>\u001b[0;34m()\u001b[0m\n\u001b[0;32m----> 1\u001b[0;31m \u001b[0mprint\u001b[0m\u001b[0;34m(\u001b[0m\u001b[0mA\u001b[0m\u001b[0;34m.\u001b[0m\u001b[0mmm\u001b[0m\u001b[0;34m(\u001b[0m\u001b[0mx\u001b[0m\u001b[0;34m)\u001b[0m\u001b[0;34m)\u001b[0m\u001b[0;34m\u001b[0m\u001b[0;34m\u001b[0m\u001b[0m\n\u001b[0m",
            "\u001b[0;31mRuntimeError\u001b[0m: mat2 must be a matrix"
          ]
        }
      ]
    },
    {
      "cell_type": "code",
      "source": [
        "a = torch.arange(8)\n",
        "print(a*a) # same behavior with .* in MATLAB"
      ],
      "metadata": {
        "colab": {
          "base_uri": "https://localhost:8080/"
        },
        "id": "EjDJr-FTNMnz",
        "outputId": "f1dae0e4-fe02-4c0b-ad9d-9807ca0afc3e"
      },
      "execution_count": 51,
      "outputs": [
        {
          "output_type": "stream",
          "name": "stdout",
          "text": [
            "tensor([ 0,  1,  4,  9, 16, 25, 36, 49])\n"
          ]
        }
      ]
    },
    {
      "cell_type": "markdown",
      "metadata": {
        "id": "hUKU-M_oINLW"
      },
      "source": [
        "### Manipulating the axis\n",
        "\n",
        "- `None`\n",
        "- `size()` and `shape`\n",
        "- `squeeze` and `unsqueeze()`"
      ]
    },
    {
      "cell_type": "code",
      "execution_count": 22,
      "metadata": {
        "colab": {
          "base_uri": "https://localhost:8080/"
        },
        "id": "uMNL7S29INLX",
        "outputId": "c935e7a8-e3fa-4beb-d311-a7114be654db"
      },
      "outputs": [
        {
          "output_type": "stream",
          "name": "stdout",
          "text": [
            "tensor([1., 2., 3.])\n",
            "torch.Size([3])\n",
            "tensor([[1.],\n",
            "        [2.],\n",
            "        [3.]])\n",
            "torch.Size([3, 1])\n"
          ]
        }
      ],
      "source": [
        "t = torch.Tensor([1,2,3])\n",
        "print(t)\n",
        "print(t.shape)\n",
        "print(t[:, None])\n",
        "print(t[:, None].shape)\n"
      ]
    },
    {
      "cell_type": "code",
      "source": [
        "A.mm(x[:, None])"
      ],
      "metadata": {
        "colab": {
          "base_uri": "https://localhost:8080/"
        },
        "id": "k6_DjappK6XY",
        "outputId": "853ee6f9-9d0b-410c-b917-e94bf4b73c71"
      },
      "execution_count": 24,
      "outputs": [
        {
          "output_type": "execute_result",
          "data": {
            "text/plain": [
              "tensor([[-3.8048],\n",
              "        [ 3.8471]])"
            ]
          },
          "metadata": {},
          "execution_count": 24
        }
      ]
    },
    {
      "cell_type": "code",
      "source": [
        "print(x)\n",
        "print(x.shape)"
      ],
      "metadata": {
        "colab": {
          "base_uri": "https://localhost:8080/"
        },
        "id": "Eg9g8UGwLKe1",
        "outputId": "a697966f-2d56-4bf7-cc62-43bd4ad61ef1"
      },
      "execution_count": 26,
      "outputs": [
        {
          "output_type": "stream",
          "name": "stdout",
          "text": [
            "tensor([ 0.5016,  0.6650, -0.6638, -0.3924, -1.2450, -0.9226, -0.8810, -0.4183,\n",
            "        -0.1716, -0.3601, -1.0147,  0.6471,  0.2267,  0.1683,  0.5801, -0.4954,\n",
            "        -1.2984, -1.7405,  1.1541, -0.5423])\n",
            "torch.Size([20])\n"
          ]
        }
      ]
    },
    {
      "cell_type": "code",
      "source": [
        "print(x.unsqueeze(dim=0))\n",
        "print(x.unsqueeze(0).shape)\n",
        "print(x.unsqueeze(-1).shape)"
      ],
      "metadata": {
        "colab": {
          "base_uri": "https://localhost:8080/"
        },
        "id": "tNImha4DLCi_",
        "outputId": "41234eca-c155-4647-82cc-9abb24b1b27c"
      },
      "execution_count": 28,
      "outputs": [
        {
          "output_type": "stream",
          "name": "stdout",
          "text": [
            "tensor([[ 0.5016,  0.6650, -0.6638, -0.3924, -1.2450, -0.9226, -0.8810, -0.4183,\n",
            "         -0.1716, -0.3601, -1.0147,  0.6471,  0.2267,  0.1683,  0.5801, -0.4954,\n",
            "         -1.2984, -1.7405,  1.1541, -0.5423]])\n",
            "torch.Size([1, 20])\n",
            "torch.Size([20, 1])\n"
          ]
        }
      ]
    },
    {
      "cell_type": "markdown",
      "metadata": {
        "id": "-gw2771-D5jl"
      },
      "source": [
        "## Reproducibility\n",
        "Fixing the random number generation seed."
      ]
    },
    {
      "cell_type": "code",
      "execution_count": 29,
      "metadata": {
        "id": "wy3ITSYm9iJF"
      },
      "outputs": [],
      "source": [
        "torch.manual_seed(42)\n",
        "torch.cuda.manual_seed(42)"
      ]
    },
    {
      "cell_type": "code",
      "execution_count": 37,
      "metadata": {
        "colab": {
          "base_uri": "https://localhost:8080/"
        },
        "id": "ox2iJGEbEBnh",
        "outputId": "2d7e2465-7df6-4532-a75e-7bbe61e719d7"
      },
      "outputs": [
        {
          "output_type": "execute_result",
          "data": {
            "text/plain": [
              "tensor([ 0.3923, -0.2236, -0.3195, -1.2050,  1.0445])"
            ]
          },
          "metadata": {},
          "execution_count": 37
        }
      ],
      "source": [
        "torch.manual_seed(2)\n",
        "# in cell mode (not a single .py file), we have to put\n",
        "# torch.manual_seed(SEED) in each cell we want reproducibility\n",
        "torch.randn((5,))"
      ]
    },
    {
      "cell_type": "code",
      "execution_count": 38,
      "metadata": {
        "id": "usumPTS06NWl"
      },
      "outputs": [],
      "source": [
        "dtype = torch.float # single-precision float number\n",
        "device = torch.device(\"cpu\")\n",
        "\n",
        "# if GPU is to be used\n",
        "# first go to Runtime->Runtime type->Select GPU as accelerator\n",
        "# then uncomment this to run on GPU\n",
        "# device = torch.device(\"cuda:0\")"
      ]
    },
    {
      "cell_type": "code",
      "execution_count": 39,
      "metadata": {
        "id": "o6wKnuuJ9UM1"
      },
      "outputs": [],
      "source": [
        "# N is the sample size (or current mini-batch size);\n",
        "# D_in is input dimension;\n",
        "# N_H is hidden dimension\n",
        "N, D_in, N_H = 1, 10, 5"
      ]
    },
    {
      "cell_type": "code",
      "execution_count": 40,
      "metadata": {
        "colab": {
          "base_uri": "https://localhost:8080/"
        },
        "id": "Tgebif2c9Vbk",
        "outputId": "e15f4891-9437-4620-bf44-6706a2c26974"
      },
      "outputs": [
        {
          "output_type": "stream",
          "name": "stdout",
          "text": [
            "tensor([[ 0.3367,  0.1288,  0.2345,  0.2303, -1.1229, -0.1863,  2.2082, -0.6380,\n",
            "          0.4617,  0.2674]])\n"
          ]
        }
      ],
      "source": [
        "# Create random Tensors to hold input and outputs.\n",
        "# Setting requires_grad=False indicates that we do not need to compute gradients\n",
        "# with respect to these Tensors during the backward pass.\n",
        "# x: sample, is a row vector, each row represents a sample\n",
        "torch.manual_seed(42)\n",
        "x = torch.randn(N, D_in, device=device, dtype=dtype)\n",
        "print(x)"
      ]
    },
    {
      "cell_type": "code",
      "execution_count": 41,
      "metadata": {
        "colab": {
          "base_uri": "https://localhost:8080/"
        },
        "id": "E9Sz54FPFoy7",
        "outputId": "bf2a9916-d3e4-47d2-e5d9-57ba6874d257"
      },
      "outputs": [
        {
          "output_type": "stream",
          "name": "stdout",
          "text": [
            "tensor([[-0.7581,  1.0783,  0.8008,  1.6806,  0.3559, -0.6866, -0.4934],\n",
            "        [ 0.2415, -0.2316,  0.0418, -0.2516,  0.8599, -0.3097, -0.3957],\n",
            "        [ 0.8034, -0.6216,  0.3189, -0.4245,  0.3057, -0.7360, -0.8371],\n",
            "        [-0.9224,  1.8113,  0.1606,  0.3672,  0.1754,  1.3852,  1.3835],\n",
            "        [-1.2024,  0.7078, -1.0759,  0.5357,  1.1754,  0.5612, -0.4527]])\n"
          ]
        }
      ],
      "source": [
        "# why using row as sample?\n",
        "X = torch.randn((5, 7)) # 5 samples, 7 features (input_dim)\n",
        "print(X)"
      ]
    },
    {
      "cell_type": "code",
      "execution_count": 45,
      "metadata": {
        "colab": {
          "base_uri": "https://localhost:8080/"
        },
        "id": "pCgu_de2F5Uw",
        "outputId": "d904789b-335f-4e78-fd4d-089b13b3fdb6"
      },
      "outputs": [
        {
          "output_type": "stream",
          "name": "stdout",
          "text": [
            "tensor([-0.9224,  1.8113,  0.1606,  0.3672,  0.1754,  1.3852,  1.3835])\n",
            "tensor([-0.9224,  1.8113,  0.1606,  0.3672,  0.1754,  1.3852,  1.3835])\n",
            "tensor([ 1.0783, -0.2316, -0.6216,  1.8113,  0.7078])\n",
            "tensor([ 1.0783, -0.2316, -0.6216,  1.8113,  0.7078])\n"
          ]
        }
      ],
      "source": [
        "# row corresponds to axis 0\n",
        "print(X[3]) # returns row 3 (the 4th row), single index, handy\n",
        "print(X[3, :])\n",
        "print(X[:, 1]) # column 1 (not convenient to track column vectors)\n",
        "print(X[..., 1]) # columns 1"
      ]
    },
    {
      "cell_type": "code",
      "execution_count": 46,
      "metadata": {
        "id": "Uysr0EEs9Wrv"
      },
      "outputs": [],
      "source": [
        "# Create random Tensors for weights.\n",
        "# Setting requires_grad=True indicates that we want to compute gradients with\n",
        "# respect to these Tensors during the backward pass.\n",
        "# because our data/target has zero mean, there is no need to include bias\n",
        "torch.manual_seed(42)\n",
        "w1 = torch.randn(D_in, N_H,\n",
        "                 device=device,\n",
        "                 dtype=dtype,\n",
        "                 requires_grad=True)"
      ]
    },
    {
      "cell_type": "markdown",
      "metadata": {
        "id": "p-ZnXIjJ-b0b"
      },
      "source": [
        "## Matrix multiplication\n",
        "\n",
        "$$\\begin{aligned}\n",
        "\\mathbf{z}^{(2)} &= W^{(1)} \\mathbf{x} + \\mathbf{b}^{(1)} \\\\\n",
        "\\mathbf{a}^{(2)} &= f(\\mathbf{z}^{(2)}) \\\\\n",
        "\\end{aligned}\n",
        "$$\n",
        "where $f$ is the ReLU function that equals $\\max\\{0, x \\}$. $\\mathbf{b}^{(1)}$ is a zero vector in our example."
      ]
    },
    {
      "cell_type": "code",
      "source": [
        "print(x.shape)\n",
        "print(w1.shape)"
      ],
      "metadata": {
        "colab": {
          "base_uri": "https://localhost:8080/"
        },
        "id": "V2Kf0hKVMrcJ",
        "outputId": "601664aa-24af-48af-bf1c-63490238edf5"
      },
      "execution_count": 47,
      "outputs": [
        {
          "output_type": "stream",
          "name": "stdout",
          "text": [
            "torch.Size([1, 10])\n",
            "torch.Size([10, 5])\n"
          ]
        }
      ]
    },
    {
      "cell_type": "code",
      "execution_count": 48,
      "metadata": {
        "colab": {
          "base_uri": "https://localhost:8080/"
        },
        "id": "U9d3rwy3-Y9v",
        "outputId": "e2a54362-ba6d-496c-faa7-ef1cb8678a18"
      },
      "outputs": [
        {
          "output_type": "stream",
          "name": "stdout",
          "text": [
            "tensor([[ 0.3988,  0.6874, -4.7359, -4.3096, -0.2963]], grad_fn=<MmBackward0>)\n"
          ]
        }
      ],
      "source": [
        "# code here\n",
        "z2 = x.mm(w1) # z2 is a row vector (1, 5) = (1, 10)*(10, 5)\n",
        "print(z2)"
      ]
    },
    {
      "cell_type": "code",
      "execution_count": 49,
      "metadata": {
        "colab": {
          "base_uri": "https://localhost:8080/"
        },
        "id": "jj5JBEL-IAmc",
        "outputId": "119be6cf-c3aa-4e54-c7f9-f1e059522e2c"
      },
      "outputs": [
        {
          "output_type": "stream",
          "name": "stdout",
          "text": [
            "tensor([[0.3988, 0.6874, 0.0000, 0.0000, 0.0000]], grad_fn=<ClampBackward1>)\n"
          ]
        }
      ],
      "source": [
        "# relu activation\n",
        "a2 = z2.clamp(min=0)\n",
        "print(a2)"
      ]
    },
    {
      "cell_type": "code",
      "source": [
        "# mm is different from *\n",
        "x*w1"
      ],
      "metadata": {
        "colab": {
          "base_uri": "https://localhost:8080/",
          "height": 211
        },
        "id": "qlKEvm-xM8uV",
        "outputId": "bb943021-4454-4ed5-d820-407bb00eae9a"
      },
      "execution_count": 50,
      "outputs": [
        {
          "output_type": "error",
          "ename": "RuntimeError",
          "evalue": "ignored",
          "traceback": [
            "\u001b[0;31m---------------------------------------------------------------------------\u001b[0m",
            "\u001b[0;31mRuntimeError\u001b[0m                              Traceback (most recent call last)",
            "\u001b[0;32m<ipython-input-50-b516b0cd2c4f>\u001b[0m in \u001b[0;36m<cell line: 2>\u001b[0;34m()\u001b[0m\n\u001b[1;32m      1\u001b[0m \u001b[0;31m# mm is different from *\u001b[0m\u001b[0;34m\u001b[0m\u001b[0;34m\u001b[0m\u001b[0m\n\u001b[0;32m----> 2\u001b[0;31m \u001b[0mx\u001b[0m\u001b[0;34m*\u001b[0m\u001b[0mw1\u001b[0m\u001b[0;34m\u001b[0m\u001b[0;34m\u001b[0m\u001b[0m\n\u001b[0m",
            "\u001b[0;31mRuntimeError\u001b[0m: The size of tensor a (10) must match the size of tensor b (5) at non-singleton dimension 1"
          ]
        }
      ]
    },
    {
      "cell_type": "markdown",
      "metadata": {
        "id": "hI3Ui9NX-vfu"
      },
      "source": [
        "## Actual data in batch\n",
        "\n",
        "In the actual implementation, the data normaly comes in batch, i.e., a matrix. For example, input is a matrix $X \\in \\mathbb{R}^{N \\times d}$, $N$ is a number of samples in a batch, each row represents a sample $\\mathbf{x} \\in \\mathbb{R}^{1\\times d}$. The weight matrix $W$ is actually formulated as:\n",
        "$$\n",
        "W = \\left(\n",
        "\\begin{array}{cccc}| & | & | & | \\\\\n",
        "\\mathbf{w}_1 & \\mathbf{w}_2 & \\cdots & \\mathbf{w}_m \\\\\n",
        "| & | & | & |\n",
        "\\end{array}\\right),\n",
        "$$\n",
        "if the output dimension of the layer of interest is $m$. The vectorized formulation is, for example, from the input (layer 0, dimension $d$) to layer 1 (dimension $m$)\n",
        "$$\n",
        "A^{(1)} = X (W^{(0)})^{\\top} + B\n",
        "$$\n",
        "where $X \\in \\mathbb{R}^{N \\times d}$, $W^{(0)} \\in \\mathbb{R}^{m\\times d}$ (input from $d$ perceptrons, output from $m$ perceptrons), $B$ is a matrix with each row being the same $\\mathbf{b} \\in \\mathbb{R}^{1\\times m}$ (layer 1 has $m$ perceptrons and has $m$ biases if applicable).\n",
        "\n"
      ]
    },
    {
      "cell_type": "code",
      "execution_count": 52,
      "metadata": {
        "colab": {
          "base_uri": "https://localhost:8080/"
        },
        "id": "KjznPWjfJIIJ",
        "outputId": "81bcf775-e4b2-4b32-b9ad-892e8ecceceb"
      },
      "outputs": [
        {
          "output_type": "stream",
          "name": "stdout",
          "text": [
            "torch.Size([8, 10])\n"
          ]
        }
      ],
      "source": [
        "N = 8 # 8 samples in a batch\n",
        "torch.manual_seed(42)\n",
        "X = torch.randn(N, D_in, dtype=torch.float, device=device)\n",
        "print(X.shape)"
      ]
    },
    {
      "cell_type": "code",
      "execution_count": 53,
      "metadata": {
        "colab": {
          "base_uri": "https://localhost:8080/"
        },
        "id": "ZlFtGEQkJv-M",
        "outputId": "1525f34c-afd5-4302-e8f5-12f60763828a"
      },
      "outputs": [
        {
          "output_type": "stream",
          "name": "stdout",
          "text": [
            "tensor([[ 0.6411, -2.4556, -1.5984, -4.3532,  5.3757],\n",
            "        [ 3.1372,  0.6441,  1.0954, -1.0668, -2.6129],\n",
            "        [-0.2949,  2.6706,  0.3077, -0.4743,  2.1944],\n",
            "        [-1.2595,  2.0259, -0.3845,  1.5235,  1.4738],\n",
            "        [-1.0205, -1.3909, -0.1755,  2.3356, -0.6578],\n",
            "        [ 1.9354, -0.5580,  0.6821, -1.7389,  1.0952],\n",
            "        [-1.8684,  7.3570, -2.8494, -0.8635,  5.9925],\n",
            "        [-2.6531,  3.5318, -4.8040,  0.5250,  2.0460]], grad_fn=<MmBackward0>)\n"
          ]
        }
      ],
      "source": [
        "# Z2 is W1 multiplied with every x in this 8 sample batch\n",
        "Z2 = X.mm(w1)\n",
        "print(Z2)"
      ]
    },
    {
      "cell_type": "code",
      "execution_count": 54,
      "metadata": {
        "colab": {
          "base_uri": "https://localhost:8080/"
        },
        "id": "8EkxlMWHKKqt",
        "outputId": "a1b00288-e909-4b3e-bfe2-27c669141f64"
      },
      "outputs": [
        {
          "output_type": "stream",
          "name": "stdout",
          "text": [
            "tensor([[0.6411, 0.0000, 0.0000, 0.0000, 5.3757],\n",
            "        [3.1372, 0.6441, 1.0954, 0.0000, 0.0000],\n",
            "        [0.0000, 2.6706, 0.3077, 0.0000, 2.1944],\n",
            "        [0.0000, 2.0259, 0.0000, 1.5235, 1.4738],\n",
            "        [0.0000, 0.0000, 0.0000, 2.3356, 0.0000],\n",
            "        [1.9354, 0.0000, 0.6821, 0.0000, 1.0952],\n",
            "        [0.0000, 7.3570, 0.0000, 0.0000, 5.9925],\n",
            "        [0.0000, 3.5318, 0.0000, 0.5250, 2.0460]], grad_fn=<ClampBackward1>)\n"
          ]
        }
      ],
      "source": [
        "A2 = Z2.clamp(min=0)\n",
        "print(A2)"
      ]
    },
    {
      "cell_type": "markdown",
      "metadata": {
        "id": "TktdIThoJG6s"
      },
      "source": [
        "## Torch's nn module\n",
        "\n",
        "We will demo this batch-based operation using `torch`'s neural network module `nn`. In this module, `nn.Linear` applies an (affine) linear transformation to the incoming data:\n",
        "$$\n",
        "Y = X W^{\\top} + \\mathbf{b}\n",
        "$$\n",
        "\n",
        "Reference: https://pytorch.org/docs/stable/nn.html"
      ]
    },
    {
      "cell_type": "code",
      "execution_count": 55,
      "metadata": {
        "id": "5DIgmIGc_Rno"
      },
      "outputs": [],
      "source": [
        "import torch.nn as nn"
      ]
    },
    {
      "cell_type": "code",
      "execution_count": 56,
      "metadata": {
        "id": "71raJ2Fu_PGF"
      },
      "outputs": [],
      "source": [
        "layer1 = nn.Linear(10, 5)\n",
        "# Wx+b transforms (10,1) vector to (5,1) vector\n",
        "# or xW^T transforms (1,10) vector to (1,5) vector\n",
        "layer2 = nn.Linear(5,3)\n",
        "activation = nn.ReLU()"
      ]
    },
    {
      "cell_type": "code",
      "execution_count": 57,
      "metadata": {
        "colab": {
          "base_uri": "https://localhost:8080/"
        },
        "id": "Np4MVu5J_QCi",
        "outputId": "5541f846-c82c-490a-9d73-77b2fbe2873a"
      },
      "outputs": [
        {
          "output_type": "stream",
          "name": "stdout",
          "text": [
            "tensor([[ 0.9453, -0.3840,  0.3853,  1.8493,  0.3539],\n",
            "        [ 0.8414,  0.3894, -0.6829,  0.2946, -0.0576],\n",
            "        [ 0.0547,  0.0085, -1.0756, -1.0937, -1.5723],\n",
            "        [-0.1264, -0.3343, -0.2094,  0.4172, -0.0386],\n",
            "        [-0.1839, -0.4487,  0.6013,  0.2425, -0.1181],\n",
            "        [-0.3766, -0.0734, -0.0888, -0.0762,  0.0027],\n",
            "        [-0.0737,  0.1494, -1.2892, -0.6615, -1.3127],\n",
            "        [ 0.5932,  0.6322,  0.5388,  0.3837, -0.8777]],\n",
            "       grad_fn=<AddmmBackward0>)\n"
          ]
        }
      ],
      "source": [
        "Z2 = layer1(X)\n",
        "print(Z2)"
      ]
    },
    {
      "cell_type": "code",
      "execution_count": 58,
      "metadata": {
        "colab": {
          "base_uri": "https://localhost:8080/"
        },
        "id": "qvNxvLBeLcjf",
        "outputId": "3a45f9ce-a0e1-490f-e58b-36a05e4c9575"
      },
      "outputs": [
        {
          "output_type": "stream",
          "name": "stdout",
          "text": [
            "tensor([[0.9453, 0.0000, 0.3853, 1.8493, 0.3539],\n",
            "        [0.8414, 0.3894, 0.0000, 0.2946, 0.0000],\n",
            "        [0.0547, 0.0085, 0.0000, 0.0000, 0.0000],\n",
            "        [0.0000, 0.0000, 0.0000, 0.4172, 0.0000],\n",
            "        [0.0000, 0.0000, 0.6013, 0.2425, 0.0000],\n",
            "        [0.0000, 0.0000, 0.0000, 0.0000, 0.0027],\n",
            "        [0.0000, 0.1494, 0.0000, 0.0000, 0.0000],\n",
            "        [0.5932, 0.6322, 0.5388, 0.3837, 0.0000]], grad_fn=<ReluBackward0>)\n"
          ]
        }
      ],
      "source": [
        "A2 = activation(Z2)\n",
        "print(A2)"
      ]
    },
    {
      "cell_type": "markdown",
      "metadata": {
        "id": "hkFMOc5FAMiW"
      },
      "source": [
        "## Gradient in Torch: autograd"
      ]
    },
    {
      "cell_type": "code",
      "execution_count": null,
      "metadata": {
        "id": "sFwWAu0kAL_3"
      },
      "outputs": [],
      "source": [
        "a = torch.tensor([2., 3.], requires_grad=True)\n",
        "b = torch.tensor([6., 4.], requires_grad=True)"
      ]
    },
    {
      "cell_type": "code",
      "execution_count": null,
      "metadata": {
        "id": "b7dd9vTSNUdd"
      },
      "outputs": [],
      "source": [
        "print(a)"
      ]
    },
    {
      "cell_type": "code",
      "execution_count": null,
      "metadata": {
        "id": "ieBVxA66Aehx"
      },
      "outputs": [],
      "source": [
        "Q = 3*a**3 - b**2"
      ]
    },
    {
      "cell_type": "code",
      "execution_count": null,
      "metadata": {
        "id": "NyE_aIRbMfFP"
      },
      "outputs": [],
      "source": [
        "print(Q)"
      ]
    },
    {
      "cell_type": "code",
      "execution_count": null,
      "metadata": {
        "id": "uzfJ0ypFApvm"
      },
      "outputs": [],
      "source": [
        "L = Q.sum()\n",
        "print(L)"
      ]
    },
    {
      "cell_type": "code",
      "execution_count": null,
      "metadata": {
        "id": "oucQIwEXAqRA"
      },
      "outputs": [],
      "source": [
        "L.backward() # backprop in a simple command"
      ]
    },
    {
      "cell_type": "markdown",
      "metadata": {
        "id": "C5IleofsNG6w"
      },
      "source": [
        "$\\frac{\\partial L}{\\partial \\mathbf{a}}$ should be the same shape with $\\mathbf{a}$"
      ]
    },
    {
      "cell_type": "code",
      "execution_count": null,
      "metadata": {
        "id": "YLFIjKn4BCPj"
      },
      "outputs": [],
      "source": [
        "a.grad"
      ]
    },
    {
      "cell_type": "code",
      "execution_count": null,
      "metadata": {
        "id": "D0olov7nNgPc"
      },
      "outputs": [],
      "source": [
        "(9*a**2).detach() # detach means we do not track the gradient"
      ]
    },
    {
      "cell_type": "code",
      "execution_count": null,
      "metadata": {
        "id": "1RCbt3bENs8K"
      },
      "outputs": [],
      "source": [
        "b.grad"
      ]
    },
    {
      "cell_type": "code",
      "execution_count": null,
      "metadata": {
        "id": "Bw3ADv1QNtkI"
      },
      "outputs": [],
      "source": [
        "(-2*b).detach()"
      ]
    },
    {
      "cell_type": "markdown",
      "metadata": {
        "id": "nymgmhnGINLj"
      },
      "source": [
        "## Essential components of gradient descent\n",
        "\n",
        "Example: linear regression. Use a cubic polynomial to fit a $f(x) :=\\sin(x)$ function on $D = (-\\pi, \\pi)$. That is:\n",
        "\n",
        "$$\\min_{p\\in \\mathbb{P}^3} \\|p - f\\|^2_{L^2(D)} $$\n",
        "\n",
        "Equivalently, this is approximated as\n",
        "\n",
        "$$\\min_{(a,b,c,d)\\in \\mathbb{R}^4 } \\sum_{x\\in D_h} \\Delta x|a+bx+cx^2+dx^3 - f(x)|^2 $$"
      ]
    },
    {
      "cell_type": "code",
      "execution_count": 59,
      "metadata": {
        "id": "EaxuzRCvINLk"
      },
      "outputs": [],
      "source": [
        "import math"
      ]
    },
    {
      "cell_type": "code",
      "source": [
        "torch.linspace(0, 1, 6)"
      ],
      "metadata": {
        "colab": {
          "base_uri": "https://localhost:8080/"
        },
        "id": "bCCA5QcJOdKO",
        "outputId": "1358c1bd-b0a7-4992-d69b-41c7b06fa910"
      },
      "execution_count": 60,
      "outputs": [
        {
          "output_type": "execute_result",
          "data": {
            "text/plain": [
              "tensor([0.0000, 0.2000, 0.4000, 0.6000, 0.8000, 1.0000])"
            ]
          },
          "metadata": {},
          "execution_count": 60
        }
      ]
    },
    {
      "cell_type": "code",
      "source": [
        "a = 5\n",
        "a -= 2 # inplace version of a = a-2\n",
        "print(a)"
      ],
      "metadata": {
        "colab": {
          "base_uri": "https://localhost:8080/"
        },
        "id": "vvwUid7WO0VW",
        "outputId": "4cff49a8-b6d4-43f4-8e99-f12b96770914"
      },
      "execution_count": 61,
      "outputs": [
        {
          "output_type": "stream",
          "name": "stdout",
          "text": [
            "3\n"
          ]
        }
      ]
    },
    {
      "cell_type": "code",
      "execution_count": 63,
      "metadata": {
        "id": "_nTs27dyNxep",
        "colab": {
          "base_uri": "https://localhost:8080/"
        },
        "outputId": "fbba17af-5d7d-402b-f710-fc0c0d13fe89"
      },
      "outputs": [
        {
          "output_type": "stream",
          "name": "stdout",
          "text": [
            "torch.Size([2000])\n",
            "torch.Size([2000])\n",
            "99 8.206731796264648\n",
            "199 5.518150329589844\n",
            "299 3.716336727142334\n",
            "399 2.5079097747802734\n",
            "499 1.6968238353729248\n",
            "599 1.1519922018051147\n",
            "699 0.7857058048248291\n",
            "799 0.5392415523529053\n",
            "899 0.37325432896614075\n",
            "999 0.26136302947998047\n",
            "1099 0.1858660876750946\n",
            "1199 0.13487625122070312\n",
            "1299 0.10040336847305298\n",
            "1399 0.07707368582487106\n",
            "1499 0.06126857548952103\n",
            "1599 0.05054961144924164\n",
            "1699 0.0432722344994545\n",
            "1799 0.03832609951496124\n",
            "1899 0.034960586577653885\n",
            "1999 0.03266789764165878\n",
            "Result: y approx = 0.030 + 0.829 x + -0.005 x^2 + -0.089 x^3\n"
          ]
        }
      ],
      "source": [
        "# Create input and output data\n",
        "x = torch.linspace(-math.pi, math.pi, 2000,\n",
        "                   device=device, dtype=dtype)\n",
        "print(x.shape)\n",
        "delta_x = x[1] - x[0]\n",
        "y = torch.sin(x)\n",
        "print(y.shape)\n",
        "\n",
        "# Randomly initialize weights\n",
        "a = torch.randn((), device=device, dtype=dtype)\n",
        "b = torch.randn((), device=device, dtype=dtype)\n",
        "c = torch.randn((), device=device, dtype=dtype)\n",
        "d = torch.randn((), device=device, dtype=dtype)\n",
        "\n",
        "learning_rate = 1e-6\n",
        "for t in range(2000):\n",
        "    # Forward pass: compute predicted y\n",
        "    y_pred = a + b * x + c * x ** 2 + d * x ** 3\n",
        "\n",
        "    # Compute and print loss\n",
        "    loss = (delta_x*(y_pred - y).pow(2).sum()).item()\n",
        "    if t % 100 == 99:\n",
        "        print(t, loss)\n",
        "\n",
        "    # Backprop to compute gradients of a, b, c, d with respect to loss\n",
        "    grad_y_pred = 2.0 * (y_pred - y)\n",
        "    grad_a = grad_y_pred.sum()\n",
        "    grad_b = (grad_y_pred * x).sum()\n",
        "    grad_c = (grad_y_pred * x ** 2).sum()\n",
        "    grad_d = (grad_y_pred * x ** 3).sum()\n",
        "\n",
        "    # Update weights using gradient descent\n",
        "    a -= learning_rate * grad_a\n",
        "    b -= learning_rate * grad_b\n",
        "    c -= learning_rate * grad_c\n",
        "    d -= learning_rate * grad_d\n",
        "\n",
        "\n",
        "print(f'Result: y approx = {a.item():.3f} + {b.item():.3f} x + {c.item():.3f} x^2 + {d.item():.3f} x^3')"
      ]
    },
    {
      "cell_type": "code",
      "execution_count": 64,
      "metadata": {
        "id": "0pzrpgyeINLk"
      },
      "outputs": [],
      "source": [
        "import matplotlib.pyplot as plt"
      ]
    },
    {
      "cell_type": "code",
      "execution_count": 65,
      "metadata": {
        "colab": {
          "base_uri": "https://localhost:8080/",
          "height": 486
        },
        "id": "tYm-3FhoINLk",
        "outputId": "e69d0a8e-a66b-4047-a34c-26d9a4492043"
      },
      "outputs": [
        {
          "output_type": "execute_result",
          "data": {
            "text/plain": [
              "<matplotlib.legend.Legend at 0x7bad9bf3c640>"
            ]
          },
          "metadata": {},
          "execution_count": 65
        },
        {
          "output_type": "display_data",
          "data": {
            "text/plain": [
              "<Figure size 1200x800 with 1 Axes>"
            ],
            "image/png": "[encoded data removed]"
          },
          "metadata": {}
        }
      ],
      "source": [
        "plt.subplots(figsize=(12,8))\n",
        "plt.plot(x.cpu(), y.cpu(), label='ground truth y=sin(x)')\n",
        "plt.plot(x.cpu(), y_pred.detach().cpu(), label='cubic polynomial line fitting')\n",
        "plt.legend(fontsize=15)\n"
      ]
    },
    {
      "cell_type": "code",
      "execution_count": null,
      "metadata": {
        "id": "oouRfGTiINLl"
      },
      "outputs": [],
      "source": []
    }
  ],
  "metadata": {
    "colab": {
      "provenance": []
    },
    "kernelspec": {
      "display_name": "Python 3",
      "name": "python3"
    },
    "language_info": {
      "codemirror_mode": {
        "name": "ipython",
        "version": 3
      },
      "file_extension": ".py",
      "mimetype": "text/x-python",
      "name": "python",
      "nbconvert_exporter": "python",
      "pygments_lexer": "ipython3",
      "version": "3.8.10"
    }
  },
  "nbformat": 4,
  "nbformat_minor": 0
}