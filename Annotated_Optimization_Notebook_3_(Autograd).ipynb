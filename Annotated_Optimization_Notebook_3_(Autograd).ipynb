{
  "cells": [
    {
      "cell_type": "markdown",
      "metadata": {
        "id": "nPUuTy3nvvZ_"
      },
      "source": [
        "# Coding Lecture 3\n",
        "\n",
        "Today's goal:\n",
        "- (Review) Iterations to prepare the implementation of a simple gradient descent algorithm.\n",
        "- `PyTorch` autograd."
      ]
    },
    {
      "cell_type": "code",
      "execution_count": 1,
      "metadata": {
        "id": "3QgG9MHCvvaB"
      },
      "outputs": [],
      "source": [
        "import torch\n",
        "import math\n",
        "import time\n",
        "from tqdm.auto import tqdm\n",
        "\n",
        "torch.cuda.manual_seed(42)"
      ]
    },
    {
      "cell_type": "markdown",
      "metadata": {
        "id": "JMM_F7BfvvaC"
      },
      "source": [
        "## Essential components of gradient descent\n",
        "\n",
        "Example: linear regression. Use a cubic polynomial to fit a $f(x) :=\\sin(x)$ function on $D = (-\\pi, \\pi)$. That is:\n",
        "\n",
        "$$\\min_{p\\in \\mathbb{P}^3} \\|p - f\\|^2_{L^2(D)} $$\n",
        "\n",
        "Equivalently, this is approximated as\n",
        "\n",
        "$$\\min_{(a,b,c,d)\\in \\mathbb{R}^4 } \\sum_{x\\in D_h} \\Delta x\\, |a+bx+cx^2+dx^3 - f(x)|^2 $$"
      ]
    },
    {
      "cell_type": "code",
      "source": [
        "print(torch.linspace(0, 1, 11))"
      ],
      "metadata": {
        "colab": {
          "base_uri": "https://localhost:8080/"
        },
        "id": "3F_mNZkDyDW5",
        "outputId": "be1f2874-5b9b-4c57-aadd-43536c415b49"
      },
      "execution_count": 2,
      "outputs": [
        {
          "output_type": "stream",
          "name": "stdout",
          "text": [
            "tensor([0.0000, 0.1000, 0.2000, 0.3000, 0.4000, 0.5000, 0.6000, 0.7000, 0.8000,\n",
            "        0.9000, 1.0000])\n"
          ]
        }
      ]
    },
    {
      "cell_type": "code",
      "source": [
        "u = torch.arange(5, dtype=torch.float)\n",
        "print(u)\n",
        "print(u.pow(2))\n",
        "print(u**2)\n",
        "print(u.pow(2).sum())"
      ],
      "metadata": {
        "colab": {
          "base_uri": "https://localhost:8080/"
        },
        "id": "4KLxM38qy-jN",
        "outputId": "9c8ca34d-a8a5-46eb-d5b0-02e7d6381b07"
      },
      "execution_count": 3,
      "outputs": [
        {
          "output_type": "stream",
          "name": "stdout",
          "text": [
            "tensor([0., 1., 2., 3., 4.])\n",
            "tensor([ 0.,  1.,  4.,  9., 16.])\n",
            "tensor([ 0.,  1.,  4.,  9., 16.])\n",
            "tensor(30.)\n"
          ]
        }
      ]
    },
    {
      "cell_type": "code",
      "source": [
        "# in-place operation\n",
        "v = torch.arange(10).float()\n",
        "print(v)\n",
        "v += 2 #in-place op v = v+2\n",
        "print(v)\n",
        "v /= 2 # in-place op v = v/2\n",
        "print(v)"
      ],
      "metadata": {
        "colab": {
          "base_uri": "https://localhost:8080/"
        },
        "id": "PMuPqouk0xwl",
        "outputId": "6554b04a-6cce-4342-85a8-93da7c8dfaa1"
      },
      "execution_count": 4,
      "outputs": [
        {
          "output_type": "stream",
          "name": "stdout",
          "text": [
            "tensor([0., 1., 2., 3., 4., 5., 6., 7., 8., 9.])\n",
            "tensor([ 2.,  3.,  4.,  5.,  6.,  7.,  8.,  9., 10., 11.])\n",
            "tensor([1.0000, 1.5000, 2.0000, 2.5000, 3.0000, 3.5000, 4.0000, 4.5000, 5.0000,\n",
            "        5.5000])\n"
          ]
        }
      ]
    },
    {
      "cell_type": "code",
      "source": [
        "for i in tqdm(range(1000)):\n",
        "  time.sleep(0.002)"
      ],
      "metadata": {
        "colab": {
          "base_uri": "https://localhost:8080/",
          "height": 49,
          "referenced_widgets": [
            "c5fd63f03bef4061a708facd828c775c",
            "8ec71df60f1f4011b01dd7c3fdc83284",
            "a3e18abf941a44b6b7c1afa2c627ce8a",
            "56cd641019ab429b94e6277cc12e2dc0",
            "c3b890df26c1445fb2c8385aa814ca03",
            "38656fd44e554a6f877c9b83e6540931",
            "20002f91080b49c8bfd63dde9b8e6ecc",
            "b06a126c807546b1a4d27b138ffd6c3f",
            "5bf0570d94b343628faf0186e3d16f1a",
            "9738795e213e4e90bf945e829dc00f56",
            "ee1b66ddad894f9fb6bc5214de6b8246"
          ]
        },
        "id": "VpUtJhQF2EjA",
        "outputId": "6035244e-3fd4-428c-92f3-4c402e3454e0"
      },
      "execution_count": 5,
      "outputs": [
        {
          "output_type": "display_data",
          "data": {
            "text/plain": [
              "  0%|          | 0/1000 [00:00<?, ?it/s]"
            ],
            "application/vnd.jupyter.widget-view+json": {
              "version_major": 2,
              "version_minor": 0,
              "model_id": "c5fd63f03bef4061a708facd828c775c"
            }
          },
          "metadata": {}
        }
      ]
    },
    {
      "cell_type": "code",
      "source": [
        "with tqdm(total=1000) as pbar:\n",
        "  for i in range(1000):\n",
        "    time.sleep(0.006)\n",
        "    if i % 100 == 0:\n",
        "      pbar.update(100)\n",
        "      pbar.set_description(f\"{i}-th iteration\")"
      ],
      "metadata": {
        "colab": {
          "base_uri": "https://localhost:8080/",
          "height": 49,
          "referenced_widgets": [
            "dee33bb50b634cc38a3be438683edb16",
            "38586c57d6cb4081b96e76a365326e71",
            "99996385ee1148e596735c8340e7cdf7",
            "405402dd98c84f9488043e93c99f93af",
            "bd16d871ef024f5daa55eedb6183bf10",
            "34634cff250c4c28ab66f17324a747cc",
            "78f687d53d414b6c9da666b28f15708d",
            "13f7bd0e516f4ce9b830fab068918119",
            "6eed0965e3554c268db3675a1db59770",
            "8d87190cea914ce3989269266f3823d7",
            "f8af184c7170412892e26ce642b09d77"
          ]
        },
        "id": "-Py2JgSn2l5W",
        "outputId": "1ea60028-1945-4314-e8bc-b865697ed93e"
      },
      "execution_count": 6,
      "outputs": [
        {
          "output_type": "display_data",
          "data": {
            "text/plain": [
              "  0%|          | 0/1000 [00:00<?, ?it/s]"
            ],
            "application/vnd.jupyter.widget-view+json": {
              "version_major": 2,
              "version_minor": 0,
              "model_id": "dee33bb50b634cc38a3be438683edb16"
            }
          },
          "metadata": {}
        }
      ]
    },
    {
      "cell_type": "code",
      "source": [
        "# f-string\n",
        "pi = math.pi\n",
        "print(\"Pi is approx. 3.14\")\n",
        "print(f\"Pi is approx. {pi}\")\n",
        "print(f\"Pi is approx. {100*pi:2.5f}\")"
      ],
      "metadata": {
        "colab": {
          "base_uri": "https://localhost:8080/"
        },
        "id": "jiZbbZCe3Zxk",
        "outputId": "a5171841-9a58-4db9-ed2d-08bb35177bd4"
      },
      "execution_count": 7,
      "outputs": [
        {
          "output_type": "stream",
          "name": "stdout",
          "text": [
            "Pi is approx. 3.14\n",
            "Pi is approx. 3.141592653589793\n",
            "Pi is approx. 314.15927\n"
          ]
        }
      ]
    },
    {
      "cell_type": "code",
      "source": [
        "z = 0.0\n",
        "for _ in range(5): # _ means None\n",
        "  z += 1\n",
        "print(z)"
      ],
      "metadata": {
        "colab": {
          "base_uri": "https://localhost:8080/"
        },
        "id": "LEEkz0b24EmY",
        "outputId": "f2287dd9-1803-47df-f582-b6b965ab26dc"
      },
      "execution_count": 8,
      "outputs": [
        {
          "output_type": "stream",
          "name": "stdout",
          "text": [
            "5.0\n"
          ]
        }
      ]
    },
    {
      "cell_type": "code",
      "source": [
        "z = [1 for _ in range(5)]\n",
        "print(z)\n",
        "z = [\"hello\" for i in range(5)]\n",
        "print(z)"
      ],
      "metadata": {
        "colab": {
          "base_uri": "https://localhost:8080/"
        },
        "id": "AAnlWWBL4XOZ",
        "outputId": "6e070fb6-f1af-4642-b1e0-745d152adbf9"
      },
      "execution_count": 9,
      "outputs": [
        {
          "output_type": "stream",
          "name": "stdout",
          "text": [
            "[1, 1, 1, 1, 1]\n",
            "['hello', 'hello', 'hello', 'hello', 'hello']\n"
          ]
        }
      ]
    },
    {
      "cell_type": "code",
      "execution_count": 10,
      "metadata": {
        "colab": {
          "base_uri": "https://localhost:8080/",
          "height": 66,
          "referenced_widgets": [
            "610b8ea0aef549189635345b313c43bd",
            "3e3ac1c5d4cf4a6ea4397734042f9cd5",
            "e11d85d83a0a448b9b73f94bdf28a31c",
            "c4261df3d58c4f5a99fb172e459b5d68",
            "66ff9f860c3b430298c19765b4cfe7b2",
            "cc8a99ab0f77488aaa4eb9269831b240",
            "a463cdc581684808868505c0b93983d4",
            "4641b5abd1194282b544e5a5d0e6c31c",
            "e2fa5d014693412d9214b4f91c936629",
            "287e122276274468bf61e1023b5c056c",
            "dd7eb2d8b80b4bbdba0580b1b35d0d34"
          ]
        },
        "id": "FcIb1CoOvvaC",
        "outputId": "f4999bce-8d2d-4a95-de74-26c0ec898245"
      },
      "outputs": [
        {
          "output_type": "display_data",
          "data": {
            "text/plain": [
              "  0%|          | 0/2000 [00:00<?, ?it/s]"
            ],
            "application/vnd.jupyter.widget-view+json": {
              "version_major": 2,
              "version_minor": 0,
              "model_id": "610b8ea0aef549189635345b313c43bd"
            }
          },
          "metadata": {}
        },
        {
          "output_type": "stream",
          "name": "stdout",
          "text": [
            "Result: y approx = -0.000 + 0.857 x + 0.000 x^2 + -0.093 x^3\n"
          ]
        }
      ],
      "source": [
        "dtype = torch.float # single-precision float number\n",
        "device = torch.device(\"cpu\")\n",
        "\n",
        "# Create input and output data\n",
        "x = torch.linspace(-math.pi, math.pi, 2000, device=device, dtype=dtype)\n",
        "delta_x = x[1] - x[0] # (end - start)/(2000-1)\n",
        "y = torch.sin(x)\n",
        "\n",
        "# Randomly initialize weights\n",
        "a = torch.randn((), device=device, dtype=dtype)\n",
        "b = torch.randn((), device=device, dtype=dtype)\n",
        "c = torch.randn((), device=device, dtype=dtype)\n",
        "d = torch.randn((), device=device, dtype=dtype)\n",
        "\n",
        "learning_rate = 1e-3\n",
        "N_iter = 2000\n",
        "with tqdm(total=N_iter) as pbar:\n",
        "    for _ in range(N_iter):\n",
        "        # Forward pass: compute predicted y\n",
        "        y_pred = a + b * x + c * x ** 2 + d * x ** 3\n",
        "\n",
        "        # Compute and print loss\n",
        "        loss = (delta_x*(y_pred - y).pow(2).sum())\n",
        "\n",
        "        # Backprop (chain rule) to compute gradients of a, b, c, d with respect to loss\n",
        "        grad_y_pred = 2.0 * delta_x * (y_pred - y)\n",
        "        grad_a = grad_y_pred.sum()\n",
        "        grad_b = (grad_y_pred * x).sum()\n",
        "        grad_c = (grad_y_pred * x ** 2).sum()\n",
        "        grad_d = (grad_y_pred * x ** 3).sum()\n",
        "\n",
        "        # Update weights using gradient descent\n",
        "        # in-place op: params = params - lr*grad_params\n",
        "        a -= learning_rate * grad_a\n",
        "        b -= learning_rate * grad_b\n",
        "        c -= learning_rate * grad_c\n",
        "        d -= learning_rate * grad_d\n",
        "\n",
        "        # progress bar\n",
        "        pbar.set_description(f\"loss: {loss.item():.6f}\")\n",
        "        pbar.update()\n",
        "        time.sleep(2e-3)\n",
        "\n",
        "\n",
        "print(f'Result: y approx = {a.item():.3f} + {b.item():.3f} x + {c.item():.3f} x^2 + {d.item():.3f} x^3')"
      ]
    },
    {
      "cell_type": "code",
      "source": [
        "import matplotlib.pyplot as plt"
      ],
      "metadata": {
        "id": "CydipFur4tpZ"
      },
      "execution_count": 11,
      "outputs": []
    },
    {
      "cell_type": "code",
      "source": [
        "plt.subplots(figsize=(10, 5))\n",
        "plt.plot(x, y, label=\"target func\")\n",
        "plt.plot(x, y_pred, label=\"prediction\")\n",
        "plt.legend()\n",
        "plt.show()"
      ],
      "metadata": {
        "colab": {
          "base_uri": "https://localhost:8080/",
          "height": 445
        },
        "id": "PVnSbqV34xyE",
        "outputId": "41a3f138-d595-40ca-dd80-2526c6ec5745"
      },
      "execution_count": 12,
      "outputs": [
        {
          "output_type": "display_data",
          "data": {
            "text/plain": [
              "<Figure size 1000x500 with 1 Axes>"
            ],
            "image/png": "[encoded data removed]"
          },
          "metadata": {}
        }
      ]
    },
    {
      "cell_type": "markdown",
      "metadata": {
        "id": "ZlrL9gsGvvaD"
      },
      "source": [
        "## How to compute gradient in PyTorch: autograd\n",
        "\n",
        "Let's take a look at how ``autograd`` collects gradients. We create two tensors ``a`` and ``b`` with\n",
        "``requires_grad=True``. This signals to ``autograd`` that every operation on them should be \"tracked\".\n",
        "\n",
        "Reference:\n",
        "- adapted from the official tutorial"
      ]
    },
    {
      "cell_type": "code",
      "execution_count": 13,
      "metadata": {
        "id": "q9NYfosPvvaD"
      },
      "outputs": [],
      "source": [
        "a = torch.tensor([2., 3.], requires_grad=True)\n",
        "b = torch.tensor([6., 4.], requires_grad=True)\n",
        "c = torch.tensor([5])"
      ]
    },
    {
      "cell_type": "code",
      "source": [
        "print(a)\n",
        "print(a.grad)\n",
        "print(c.grad) # this is fixed in PyTorch 2.0"
      ],
      "metadata": {
        "colab": {
          "base_uri": "https://localhost:8080/"
        },
        "id": "hceoER_K5clc",
        "outputId": "7fd771b1-161d-4a1e-d0cd-77b869f72231"
      },
      "execution_count": 14,
      "outputs": [
        {
          "output_type": "stream",
          "name": "stdout",
          "text": [
            "tensor([2., 3.], requires_grad=True)\n",
            "None\n",
            "None\n"
          ]
        }
      ]
    },
    {
      "cell_type": "markdown",
      "metadata": {
        "id": "Zub8ct4uvvaD"
      },
      "source": [
        "We create another tensor ``f`` from ``a`` and ``b`` elementwisely.\n",
        "\n",
        "\\begin{align}f = 3a^3 - b^2\\end{align}\n",
        "\n",
        "or let $f = (f_i)^{\\top}$ and for each $i$\n",
        "\n",
        "\\begin{align}f_i = 3a_i^3 - b_i^2\\end{align}"
      ]
    },
    {
      "cell_type": "code",
      "execution_count": 15,
      "metadata": {
        "colab": {
          "base_uri": "https://localhost:8080/"
        },
        "id": "lO3qpij3vvaD",
        "outputId": "0403f92e-305d-456f-ed42-1564d08517b3"
      },
      "outputs": [
        {
          "output_type": "stream",
          "name": "stdout",
          "text": [
            "tensor([-12.,  65.], grad_fn=<SubBackward0>)\n"
          ]
        }
      ],
      "source": [
        "f = 3*a**3 - b**2\n",
        "\n",
        "print(f)"
      ]
    },
    {
      "cell_type": "markdown",
      "metadata": {
        "id": "M3hum7CGvvaE"
      },
      "source": [
        "``a`` and ``b`` are usually parameters of a neural network, and ``f``\n",
        "to be the ``loss function`` (similar to the error/residual above). In gradient based methods, we want gradients of each component of $f$ w.r.t. parameters, i.e.\n",
        "\n",
        "\\begin{align}\\frac{\\partial f_i}{\\partial a_i} = 9a_i^2\\end{align}\n",
        "\n",
        "\\begin{align}\\frac{\\partial f_i}{\\partial b_i} = -2b_i\\end{align}\n",
        "\n",
        "\n",
        "When we call ``.backward()`` on ``f``, autograd calculates these gradients\n",
        "and stores them in the respective tensors' ``.grad`` attribute.\n",
        "\n",
        "We need to explicitly pass a ``gradient`` argument in ``f.backward()`` because it is a vector.\n",
        "``gradient`` is a tensor of the same shape as ``f``, and it represents the\n",
        "gradient of $f$ w.r.t. itself, i.e.\n",
        "\n",
        "\\begin{align}\\frac{df_i}{df_i} = 1\\end{align}\n",
        "\n",
        "Equivalently, we can also aggregate $f$ into a scalar and call backward implicitly, like ``f.sum().backward()``."
      ]
    },
    {
      "cell_type": "code",
      "execution_count": 16,
      "metadata": {
        "id": "_KVNtxfxvvaE"
      },
      "outputs": [],
      "source": [
        "external_grad = torch.tensor([1., 1.])\n",
        "# first component and second component modifier\n",
        "f.backward(gradient=external_grad)"
      ]
    },
    {
      "cell_type": "markdown",
      "metadata": {
        "id": "xitpSw5fvvaE"
      },
      "source": [
        "Gradients are now deposited in ``a.grad`` and ``b.grad``\n"
      ]
    },
    {
      "cell_type": "code",
      "execution_count": 17,
      "metadata": {
        "colab": {
          "base_uri": "https://localhost:8080/"
        },
        "id": "Qc8ZnM8rvvaE",
        "outputId": "08ae7ded-86b1-43f5-80aa-b7ff3d5f0719"
      },
      "outputs": [
        {
          "output_type": "stream",
          "name": "stdout",
          "text": [
            "tensor([True, True])\n",
            "tensor([True, True])\n",
            "True\n",
            "tensor([36., 81.])\n",
            "tensor([-12.,  -8.])\n"
          ]
        }
      ],
      "source": [
        "# check if collected gradients are correct\n",
        "print(9*a**2 == a.grad)\n",
        "print(-2*b == b.grad)\n",
        "print(torch.allclose(-2*b, b.grad))\n",
        "print(a.grad)\n",
        "print(b.grad)"
      ]
    },
    {
      "cell_type": "code",
      "execution_count": 18,
      "metadata": {
        "id": "3n7iY1dwvvaF"
      },
      "outputs": [],
      "source": [
        "a.grad = None\n",
        "b.grad = None"
      ]
    },
    {
      "cell_type": "markdown",
      "metadata": {
        "id": "xeInYEIzvvaF"
      },
      "source": [
        "Now set $g = \\sum f_i$"
      ]
    },
    {
      "cell_type": "code",
      "execution_count": 19,
      "metadata": {
        "id": "8exRknqivvaF"
      },
      "outputs": [],
      "source": [
        "g = (3*a**3 - b**2).sum()"
      ]
    },
    {
      "cell_type": "code",
      "execution_count": 20,
      "metadata": {
        "id": "ZdCJqm4xvvaF"
      },
      "outputs": [],
      "source": [
        "g.backward()"
      ]
    },
    {
      "cell_type": "code",
      "execution_count": 21,
      "metadata": {
        "colab": {
          "base_uri": "https://localhost:8080/"
        },
        "id": "b6K1LOD9vvaF",
        "outputId": "e51998e6-2c41-4b51-9e71-86995c30d98c"
      },
      "outputs": [
        {
          "output_type": "stream",
          "name": "stdout",
          "text": [
            "tensor([36., 81.])\n",
            "tensor([-12.,  -8.])\n"
          ]
        }
      ],
      "source": [
        "print(a.grad)\n",
        "print(b.grad)"
      ]
    },
    {
      "cell_type": "markdown",
      "metadata": {
        "id": "ZFs2PSnwvvaG"
      },
      "source": [
        "## Implementation of GD using autograd\n",
        "\n"
      ]
    },
    {
      "cell_type": "code",
      "execution_count": 22,
      "metadata": {
        "colab": {
          "base_uri": "https://localhost:8080/",
          "height": 66,
          "referenced_widgets": [
            "8bdb4f927179467482556d2d1d9800fb",
            "71e4a69f4ea0458498703db131bdd192",
            "1fc03bd8d89d4f1cae81325a5c33a611",
            "f36f0e7b4fbb4d03944d5ebbee7a6e99",
            "4efdac068d4b46dfa4f6b5b7b5200a78",
            "aa5d3947d99a4fc38ae8ab5bc1619dd8",
            "d5c1d16957ab42f9b852a674c28d5d16",
            "c339c843ac9c4603b36809347c60dcf7",
            "e011d82749654cf5bf2118515949e890",
            "d3f566d3b48040e4832534f54f186e9b",
            "7b7de22169f24f9dbf4771580add3b84"
          ]
        },
        "id": "zHGpL55KvvaG",
        "outputId": "113d67cc-ed5c-41fb-b75d-4d09d82842e4"
      },
      "outputs": [
        {
          "output_type": "display_data",
          "data": {
            "text/plain": [
              "  0%|          | 0/2000 [00:00<?, ?it/s]"
            ],
            "application/vnd.jupyter.widget-view+json": {
              "version_major": 2,
              "version_minor": 0,
              "model_id": "8bdb4f927179467482556d2d1d9800fb"
            }
          },
          "metadata": {}
        },
        {
          "output_type": "stream",
          "name": "stdout",
          "text": [
            "Result: y approx = 0.000 + 0.857 x + -0.000 x^2 + -0.093 x^3\n"
          ]
        }
      ],
      "source": [
        "# Create input and output data\n",
        "x = torch.linspace(-math.pi, math.pi, 2000, device=device, dtype=dtype)\n",
        "delta_x = x[1] - x[0]\n",
        "y = torch.sin(x)\n",
        "\n",
        "# Randomly initialize weights\n",
        "a = torch.randn((),\n",
        "                device=device,\n",
        "                dtype=dtype,\n",
        "                requires_grad=True)\n",
        "b = torch.randn((),\n",
        "                device=device,\n",
        "                dtype=dtype,\n",
        "                requires_grad=True)\n",
        "c = torch.randn((),\n",
        "                device=device,\n",
        "                dtype=dtype,\n",
        "                requires_grad=True)\n",
        "d = torch.randn((),\n",
        "                device=device,\n",
        "                dtype=dtype,\n",
        "                requires_grad=True)\n",
        "\n",
        "learning_rate = 1e-3\n",
        "N_iter = 2000\n",
        "with tqdm(total=N_iter) as pbar:\n",
        "    for t in range(N_iter):\n",
        "        # Forward pass: compute predicted y\n",
        "        y_pred = a + b * x + c * x ** 2 + d * x ** 3\n",
        "        # for p in [a, b, c, d]:\n",
        "        #     p.grad = None\n",
        "\n",
        "        # Compute and print loss\n",
        "        loss = (delta_x*(y_pred - y).pow(2).sum())\n",
        "\n",
        "        # Backprop (chain rule) through autograd\n",
        "        loss.backward()\n",
        "\n",
        "        # Update weights using gradient descent\n",
        "        with torch.no_grad():\n",
        "          # this is necessary if autograd attribute\n",
        "          # is called manually\n",
        "            a -= learning_rate * a.grad\n",
        "            b -= learning_rate * b.grad\n",
        "            c -= learning_rate * c.grad\n",
        "            d -= learning_rate * d.grad\n",
        "\n",
        "            # manually zeroing the grad stored in each variable\n",
        "            a.grad.zero_() # zero_ means in-place version of zero\n",
        "            b.grad.zero_() # b.grad = 0\n",
        "            c.grad.zero_()\n",
        "            d.grad.zero_()\n",
        "\n",
        "        pbar.set_description(f\"loss: {loss.item():.6f}\")\n",
        "        pbar.update()\n",
        "        time.sleep(2e-3)\n",
        "\n",
        "\n",
        "print(f'Result: y approx = {a.item():.3f} + {b.item():.3f} x + {c.item():.3f} x^2 + {d.item():.3f} x^3')"
      ]
    },
    {
      "cell_type": "markdown",
      "metadata": {
        "id": "BgJ6X5c-vvaG"
      },
      "source": [
        "## Implementation using matmul\n",
        "\n",
        "Data matrix $X$:\n",
        "\n",
        "$$\n",
        "X_{i, \\cdot}  = [1, x_i, x_i^2, x_i^3 ], y_i = f(x_i), \\text{ and } w = [a, b, c, d]^{\\top}\n",
        "$$\n",
        "then the regression becomes\n",
        "$$\n",
        "\\min_{w\\in \\mathbb{R}^4}\\Delta x\\, \\|Xw - y\\|^2\n",
        "$$\n"
      ]
    },
    {
      "cell_type": "code",
      "source": [
        "print(x.shape)\n",
        "X = torch.stack([x**0, x**1, x**2, x**3], dim=-1)\n",
        "print(X.shape)"
      ],
      "metadata": {
        "colab": {
          "base_uri": "https://localhost:8080/"
        },
        "id": "99rKzjrQ857K",
        "outputId": "ffc51812-286a-489d-bb9f-3d173d30af3b"
      },
      "execution_count": 23,
      "outputs": [
        {
          "output_type": "stream",
          "name": "stdout",
          "text": [
            "torch.Size([2000])\n",
            "torch.Size([2000, 4])\n"
          ]
        }
      ]
    },
    {
      "cell_type": "code",
      "execution_count": 30,
      "metadata": {
        "colab": {
          "base_uri": "https://localhost:8080/",
          "height": 66,
          "referenced_widgets": [
            "87670d148ea34c8da451162bfdbe39c6",
            "503d70e76e49439ab9399c8ece215dc1",
            "e7164cf0d1a743fa86062af740891452",
            "5d5191dc63f141a3b091a030bc75e154",
            "72e4d1358a544a71a6af67d5f98cae8c",
            "c97c034f8e4647f4b61a5397bc0441fb",
            "6e6b844cb1ab450ea9fed51f4515511f",
            "cea47e0e76a5427aa4eb80b9f7a6ddc0",
            "6b0073b506d44afb8303198a659475fb",
            "7a6a57d3dd094e5f847fd8e6a36827d1",
            "149ed6819e084f998cf89ca8c9484501"
          ]
        },
        "id": "XeoY-xSZvvaG",
        "outputId": "4f86e705-653d-47e8-cb5e-81d54dd3833d"
      },
      "outputs": [
        {
          "output_type": "display_data",
          "data": {
            "text/plain": [
              "  0%|          | 0/2000 [00:00<?, ?it/s]"
            ],
            "application/vnd.jupyter.widget-view+json": {
              "version_major": 2,
              "version_minor": 0,
              "model_id": "87670d148ea34c8da451162bfdbe39c6"
            }
          },
          "metadata": {}
        },
        {
          "output_type": "stream",
          "name": "stdout",
          "text": [
            "Result: y approx = -0.000 + 0.857 x + 0.000 x^2 + -0.093 x^3\n"
          ]
        }
      ],
      "source": [
        "# code here\n",
        "\n",
        "# Create input and output data\n",
        "x = torch.linspace(-math.pi, math.pi, 2000, device=device, dtype=dtype)\n",
        "delta_x = x[1] - x[0]\n",
        "y = torch.sin(x)\n",
        "\n",
        "# Randomly initialize weights\n",
        "w = torch.randn((4, 1),\n",
        "                device=device,\n",
        "                dtype=dtype,\n",
        "                requires_grad=True)\n",
        "\n",
        "# data matrix\n",
        "X = torch.stack([x**0, x**1, x**2, x**3], dim=-1)\n",
        "\n",
        "learning_rate = 1e-3\n",
        "N_iter = 2000\n",
        "with tqdm(total=N_iter) as pbar:\n",
        "    for t in range(N_iter):\n",
        "        # Forward pass: compute predicted y\n",
        "        y_pred = X.mm(w)\n",
        "        # y_pred has shape (2000, 1) while y has (2000)\n",
        "        # y_pred - y then yields a (2000, 2000) tensor\n",
        "        # because y is broadcasted to match the shape of y_pred\n",
        "        # the following line of code fixes this\n",
        "        y_pred = y_pred.reshape(-1)\n",
        "\n",
        "        # Compute and print loss\n",
        "        loss = (delta_x*(y_pred - y).pow(2).sum())\n",
        "\n",
        "        # Backprop (chain rule) through autograd\n",
        "        loss.backward()\n",
        "\n",
        "        # Update weights using gradient descent\n",
        "        with torch.no_grad():\n",
        "          # this is necessary if autograd attribute\n",
        "          # is called manually\n",
        "            w -= learning_rate * w.grad\n",
        "\n",
        "            # manually zeroing the grad stored in each variable\n",
        "            w.grad.zero_() # zero_ means in-place version of zero\n",
        "\n",
        "        pbar.set_description(f\"loss: {loss.item():.6f}\")\n",
        "        pbar.update()\n",
        "        time.sleep(2e-3)\n",
        "\n",
        "\n",
        "print(f'Result: y approx = {w[0].item():.3f} + {w[1].item():.3f} x + {w[2].item():.3f} x^2 + {w[3].item():.3f} x^3')"
      ]
    },
    {
      "cell_type": "code",
      "source": [],
      "metadata": {
        "id": "sl0A8GrsHaBW"
      },
      "execution_count": null,
      "outputs": []
    }
  ],
  "metadata": {
    "kernelspec": {
      "display_name": "base",
      "language": "python",
      "name": "python3"
    },
    "language_info": {
      "codemirror_mode": {
        "name": "ipython",
        "version": 3
      },
      "file_extension": ".py",
      "mimetype": "text/x-python",
      "name": "python",
      "nbconvert_exporter": "python",
      "pygments_lexer": "ipython3",
      "version": "3.8.10"
    },
    "orig_nbformat": 4,
    "colab": {
      "provenance": []
    },
    "widgets": {
      "application/vnd.jupyter.widget-state+json": {
        "c5fd63f03bef4061a708facd828c775c": {
          "model_module": "@jupyter-widgets/controls",
          "model_name": "HBoxModel",
          "model_module_version": "1.5.0",
          "state": {
            "_dom_classes": [],
            "_model_module": "@jupyter-widgets/controls",
            "_model_module_version": "1.5.0",
            "_model_name": "HBoxModel",
            "_view_count": null,
            "_view_module": "@jupyter-widgets/controls",
            "_view_module_version": "1.5.0",
            "_view_name": "HBoxView",
            "box_style": "",
            "children": [
              "IPY_MODEL_8ec71df60f1f4011b01dd7c3fdc83284",
              "IPY_MODEL_a3e18abf941a44b6b7c1afa2c627ce8a",
              "IPY_MODEL_56cd641019ab429b94e6277cc12e2dc0"
            ],
            "layout": "IPY_MODEL_c3b890df26c1445fb2c8385aa814ca03"
          }
        },
        "8ec71df60f1f4011b01dd7c3fdc83284": {
          "model_module": "@jupyter-widgets/controls",
          "model_name": "HTMLModel",
          "model_module_version": "1.5.0",
          "state": {
            "_dom_classes": [],
            "_model_module": "@jupyter-widgets/controls",
            "_model_module_version": "1.5.0",
            "_model_name": "HTMLModel",
            "_view_count": null,
            "_view_module": "@jupyter-widgets/controls",
            "_view_module_version": "1.5.0",
            "_view_name": "HTMLView",
            "description": "",
            "description_tooltip": null,
            "layout": "IPY_MODEL_38656fd44e554a6f877c9b83e6540931",
            "placeholder": "​",
            "style": "IPY_MODEL_20002f91080b49c8bfd63dde9b8e6ecc",
            "value": "100%"
          }
        },
        "a3e18abf941a44b6b7c1afa2c627ce8a": {
          "model_module": "@jupyter-widgets/controls",
          "model_name": "FloatProgressModel",
          "model_module_version": "1.5.0",
          "state": {
            "_dom_classes": [],
            "_model_module": "@jupyter-widgets/controls",
            "_model_module_version": "1.5.0",
            "_model_name": "FloatProgressModel",
            "_view_count": null,
            "_view_module": "@jupyter-widgets/controls",
            "_view_module_version": "1.5.0",
            "_view_name": "ProgressView",
            "bar_style": "success",
            "description": "",
            "description_tooltip": null,
            "layout": "IPY_MODEL_b06a126c807546b1a4d27b138ffd6c3f",
            "max": 1000,
            "min": 0,
            "orientation": "horizontal",
            "style": "IPY_MODEL_5bf0570d94b343628faf0186e3d16f1a",
            "value": 1000
          }
        },
        "56cd641019ab429b94e6277cc12e2dc0": {
          "model_module": "@jupyter-widgets/controls",
          "model_name": "HTMLModel",
          "model_module_version": "1.5.0",
          "state": {
            "_dom_classes": [],
            "_model_module": "@jupyter-widgets/controls",
            "_model_module_version": "1.5.0",
            "_model_name": "HTMLModel",
            "_view_count": null,
            "_view_module": "@jupyter-widgets/controls",
            "_view_module_version": "1.5.0",
            "_view_name": "HTMLView",
            "description": "",
            "description_tooltip": null,
            "layout": "IPY_MODEL_9738795e213e4e90bf945e829dc00f56",
            "placeholder": "​",
            "style": "IPY_MODEL_ee1b66ddad894f9fb6bc5214de6b8246",
            "value": " 1000/1000 [00:02&lt;00:00, 402.58it/s]"
          }
        },
        "c3b890df26c1445fb2c8385aa814ca03": {
          "model_module": "@jupyter-widgets/base",
          "model_name": "LayoutModel",
          "model_module_version": "1.2.0",
          "state": {
            "_model_module": "@jupyter-widgets/base",
            "_model_module_version": "1.2.0",
            "_model_name": "LayoutModel",
            "_view_count": null,
            "_view_module": "@jupyter-widgets/base",
            "_view_module_version": "1.2.0",
            "_view_name": "LayoutView",
            "align_content": null,
            "align_items": null,
            "align_self": null,
            "border": null,
            "bottom": null,
            "display": null,
            "flex": null,
            "flex_flow": null,
            "grid_area": null,
            "grid_auto_columns": null,
            "grid_auto_flow": null,
            "grid_auto_rows": null,
            "grid_column": null,
            "grid_gap": null,
            "grid_row": null,
            "grid_template_areas": null,
            "grid_template_columns": null,
            "grid_template_rows": null,
            "height": null,
            "justify_content": null,
            "justify_items": null,
            "left": null,
            "margin": null,
            "max_height": null,
            "max_width": null,
            "min_height": null,
            "min_width": null,
            "object_fit": null,
            "object_position": null,
            "order": null,
            "overflow": null,
            "overflow_x": null,
            "overflow_y": null,
            "padding": null,
            "right": null,
            "top": null,
            "visibility": null,
            "width": null
          }
        },
        "38656fd44e554a6f877c9b83e6540931": {
          "model_module": "@jupyter-widgets/base",
          "model_name": "LayoutModel",
          "model_module_version": "1.2.0",
          "state": {
            "_model_module": "@jupyter-widgets/base",
            "_model_module_version": "1.2.0",
            "_model_name": "LayoutModel",
            "_view_count": null,
            "_view_module": "@jupyter-widgets/base",
            "_view_module_version": "1.2.0",
            "_view_name": "LayoutView",
            "align_content": null,
            "align_items": null,
            "align_self": null,
            "border": null,
            "bottom": null,
            "display": null,
            "flex": null,
            "flex_flow": null,
            "grid_area": null,
            "grid_auto_columns": null,
            "grid_auto_flow": null,
            "grid_auto_rows": null,
            "grid_column": null,
            "grid_gap": null,
            "grid_row": null,
            "grid_template_areas": null,
            "grid_template_columns": null,
            "grid_template_rows": null,
            "height": null,
            "justify_content": null,
            "justify_items": null,
            "left": null,
            "margin": null,
            "max_height": null,
            "max_width": null,
            "min_height": null,
            "min_width": null,
            "object_fit": null,
            "object_position": null,
            "order": null,
            "overflow": null,
            "overflow_x": null,
            "overflow_y": null,
            "padding": null,
            "right": null,
            "top": null,
            "visibility": null,
            "width": null
          }
        },
        "20002f91080b49c8bfd63dde9b8e6ecc": {
          "model_module": "@jupyter-widgets/controls",
          "model_name": "DescriptionStyleModel",
          "model_module_version": "1.5.0",
          "state": {
            "_model_module": "@jupyter-widgets/controls",
            "_model_module_version": "1.5.0",
            "_model_name": "DescriptionStyleModel",
            "_view_count": null,
            "_view_module": "@jupyter-widgets/base",
            "_view_module_version": "1.2.0",
            "_view_name": "StyleView",
            "description_width": ""
          }
        },
        "b06a126c807546b1a4d27b138ffd6c3f": {
          "model_module": "@jupyter-widgets/base",
          "model_name": "LayoutModel",
          "model_module_version": "1.2.0",
          "state": {
            "_model_module": "@jupyter-widgets/base",
            "_model_module_version": "1.2.0",
            "_model_name": "LayoutModel",
            "_view_count": null,
            "_view_module": "@jupyter-widgets/base",
            "_view_module_version": "1.2.0",
            "_view_name": "LayoutView",
            "align_content": null,
            "align_items": null,
            "align_self": null,
            "border": null,
            "bottom": null,
            "display": null,
            "flex": null,
            "flex_flow": null,
            "grid_area": null,
            "grid_auto_columns": null,
            "grid_auto_flow": null,
            "grid_auto_rows": null,
            "grid_column": null,
            "grid_gap": null,
            "grid_row": null,
            "grid_template_areas": null,
            "grid_template_columns": null,
            "grid_template_rows": null,
            "height": null,
            "justify_content": null,
            "justify_items": null,
            "left": null,
            "margin": null,
            "max_height": null,
            "max_width": null,
            "min_height": null,
            "min_width": null,
            "object_fit": null,
            "object_position": null,
            "order": null,
            "overflow": null,
            "overflow_x": null,
            "overflow_y": null,
            "padding": null,
            "right": null,
            "top": null,
            "visibility": null,
            "width": null
          }
        },
        "5bf0570d94b343628faf0186e3d16f1a": {
          "model_module": "@jupyter-widgets/controls",
          "model_name": "ProgressStyleModel",
          "model_module_version": "1.5.0",
          "state": {
            "_model_module": "@jupyter-widgets/controls",
            "_model_module_version": "1.5.0",
            "_model_name": "ProgressStyleModel",
            "_view_count": null,
            "_view_module": "@jupyter-widgets/base",
            "_view_module_version": "1.2.0",
            "_view_name": "StyleView",
            "bar_color": null,
            "description_width": ""
          }
        },
        "9738795e213e4e90bf945e829dc00f56": {
          "model_module": "@jupyter-widgets/base",
          "model_name": "LayoutModel",
          "model_module_version": "1.2.0",
          "state": {
            "_model_module": "@jupyter-widgets/base",
            "_model_module_version": "1.2.0",
            "_model_name": "LayoutModel",
            "_view_count": null,
            "_view_module": "@jupyter-widgets/base",
            "_view_module_version": "1.2.0",
            "_view_name": "LayoutView",
            "align_content": null,
            "align_items": null,
            "align_self": null,
            "border": null,
            "bottom": null,
            "display": null,
            "flex": null,
            "flex_flow": null,
            "grid_area": null,
            "grid_auto_columns": null,
            "grid_auto_flow": null,
            "grid_auto_rows": null,
            "grid_column": null,
            "grid_gap": null,
            "grid_row": null,
            "grid_template_areas": null,
            "grid_template_columns": null,
            "grid_template_rows": null,
            "height": null,
            "justify_content": null,
            "justify_items": null,
            "left": null,
            "margin": null,
            "max_height": null,
            "max_width": null,
            "min_height": null,
            "min_width": null,
            "object_fit": null,
            "object_position": null,
            "order": null,
            "overflow": null,
            "overflow_x": null,
            "overflow_y": null,
            "padding": null,
            "right": null,
            "top": null,
            "visibility": null,
            "width": null
          }
        },
        "ee1b66ddad894f9fb6bc5214de6b8246": {
          "model_module": "@jupyter-widgets/controls",
          "model_name": "DescriptionStyleModel",
          "model_module_version": "1.5.0",
          "state": {
            "_model_module": "@jupyter-widgets/controls",
            "_model_module_version": "1.5.0",
            "_model_name": "DescriptionStyleModel",
            "_view_count": null,
            "_view_module": "@jupyter-widgets/base",
            "_view_module_version": "1.2.0",
            "_view_name": "StyleView",
            "description_width": ""
          }
        },
        "dee33bb50b634cc38a3be438683edb16": {
          "model_module": "@jupyter-widgets/controls",
          "model_name": "HBoxModel",
          "model_module_version": "1.5.0",
          "state": {
            "_dom_classes": [],
            "_model_module": "@jupyter-widgets/controls",
            "_model_module_version": "1.5.0",
            "_model_name": "HBoxModel",
            "_view_count": null,
            "_view_module": "@jupyter-widgets/controls",
            "_view_module_version": "1.5.0",
            "_view_name": "HBoxView",
            "box_style": "",
            "children": [
              "IPY_MODEL_38586c57d6cb4081b96e76a365326e71",
              "IPY_MODEL_99996385ee1148e596735c8340e7cdf7",
              "IPY_MODEL_405402dd98c84f9488043e93c99f93af"
            ],
            "layout": "IPY_MODEL_bd16d871ef024f5daa55eedb6183bf10"
          }
        },
        "38586c57d6cb4081b96e76a365326e71": {
          "model_module": "@jupyter-widgets/controls",
          "model_name": "HTMLModel",
          "model_module_version": "1.5.0",
          "state": {
            "_dom_classes": [],
            "_model_module": "@jupyter-widgets/controls",
            "_model_module_version": "1.5.0",
            "_model_name": "HTMLModel",
            "_view_count": null,
            "_view_module": "@jupyter-widgets/controls",
            "_view_module_version": "1.5.0",
            "_view_name": "HTMLView",
            "description": "",
            "description_tooltip": null,
            "layout": "IPY_MODEL_34634cff250c4c28ab66f17324a747cc",
            "placeholder": "​",
            "style": "IPY_MODEL_78f687d53d414b6c9da666b28f15708d",
            "value": "900-th iteration: 100%"
          }
        },
        "99996385ee1148e596735c8340e7cdf7": {
          "model_module": "@jupyter-widgets/controls",
          "model_name": "FloatProgressModel",
          "model_module_version": "1.5.0",
          "state": {
            "_dom_classes": [],
            "_model_module": "@jupyter-widgets/controls",
            "_model_module_version": "1.5.0",
            "_model_name": "FloatProgressModel",
            "_view_count": null,
            "_view_module": "@jupyter-widgets/controls",
            "_view_module_version": "1.5.0",
            "_view_name": "ProgressView",
            "bar_style": "success",
            "description": "",
            "description_tooltip": null,
            "layout": "IPY_MODEL_13f7bd0e516f4ce9b830fab068918119",
            "max": 1000,
            "min": 0,
            "orientation": "horizontal",
            "style": "IPY_MODEL_6eed0965e3554c268db3675a1db59770",
            "value": 1000
          }
        },
        "405402dd98c84f9488043e93c99f93af": {
          "model_module": "@jupyter-widgets/controls",
          "model_name": "HTMLModel",
          "model_module_version": "1.5.0",
          "state": {
            "_dom_classes": [],
            "_model_module": "@jupyter-widgets/controls",
            "_model_module_version": "1.5.0",
            "_model_name": "HTMLModel",
            "_view_count": null,
            "_view_module": "@jupyter-widgets/controls",
            "_view_module_version": "1.5.0",
            "_view_name": "HTMLView",
            "description": "",
            "description_tooltip": null,
            "layout": "IPY_MODEL_8d87190cea914ce3989269266f3823d7",
            "placeholder": "​",
            "style": "IPY_MODEL_f8af184c7170412892e26ce642b09d77",
            "value": " 1000/1000 [00:06&lt;00:00, 158.82it/s]"
          }
        },
        "bd16d871ef024f5daa55eedb6183bf10": {
          "model_module": "@jupyter-widgets/base",
          "model_name": "LayoutModel",
          "model_module_version": "1.2.0",
          "state": {
            "_model_module": "@jupyter-widgets/base",
            "_model_module_version": "1.2.0",
            "_model_name": "LayoutModel",
            "_view_count": null,
            "_view_module": "@jupyter-widgets/base",
            "_view_module_version": "1.2.0",
            "_view_name": "LayoutView",
            "align_content": null,
            "align_items": null,
            "align_self": null,
            "border": null,
            "bottom": null,
            "display": null,
            "flex": null,
            "flex_flow": null,
            "grid_area": null,
            "grid_auto_columns": null,
            "grid_auto_flow": null,
            "grid_auto_rows": null,
            "grid_column": null,
            "grid_gap": null,
            "grid_row": null,
            "grid_template_areas": null,
            "grid_template_columns": null,
            "grid_template_rows": null,
            "height": null,
            "justify_content": null,
            "justify_items": null,
            "left": null,
            "margin": null,
            "max_height": null,
            "max_width": null,
            "min_height": null,
            "min_width": null,
            "object_fit": null,
            "object_position": null,
            "order": null,
            "overflow": null,
            "overflow_x": null,
            "overflow_y": null,
            "padding": null,
            "right": null,
            "top": null,
            "visibility": null,
            "width": null
          }
        },
        "34634cff250c4c28ab66f17324a747cc": {
          "model_module": "@jupyter-widgets/base",
          "model_name": "LayoutModel",
          "model_module_version": "1.2.0",
          "state": {
            "_model_module": "@jupyter-widgets/base",
            "_model_module_version": "1.2.0",
            "_model_name": "LayoutModel",
            "_view_count": null,
            "_view_module": "@jupyter-widgets/base",
            "_view_module_version": "1.2.0",
            "_view_name": "LayoutView",
            "align_content": null,
            "align_items": null,
            "align_self": null,
            "border": null,
            "bottom": null,
            "display": null,
            "flex": null,
            "flex_flow": null,
            "grid_area": null,
            "grid_auto_columns": null,
            "grid_auto_flow": null,
            "grid_auto_rows": null,
            "grid_column": null,
            "grid_gap": null,
            "grid_row": null,
            "grid_template_areas": null,
            "grid_template_columns": null,
            "grid_template_rows": null,
            "height": null,
            "justify_content": null,
            "justify_items": null,
            "left": null,
            "margin": null,
            "max_height": null,
            "max_width": null,
            "min_height": null,
            "min_width": null,
            "object_fit": null,
            "object_position": null,
            "order": null,
            "overflow": null,
            "overflow_x": null,
            "overflow_y": null,
            "padding": null,
            "right": null,
            "top": null,
            "visibility": null,
            "width": null
          }
        },
        "78f687d53d414b6c9da666b28f15708d": {
          "model_module": "@jupyter-widgets/controls",
          "model_name": "DescriptionStyleModel",
          "model_module_version": "1.5.0",
          "state": {
            "_model_module": "@jupyter-widgets/controls",
            "_model_module_version": "1.5.0",
            "_model_name": "DescriptionStyleModel",
            "_view_count": null,
            "_view_module": "@jupyter-widgets/base",
            "_view_module_version": "1.2.0",
            "_view_name": "StyleView",
            "description_width": ""
          }
        },
        "13f7bd0e516f4ce9b830fab068918119": {
          "model_module": "@jupyter-widgets/base",
          "model_name": "LayoutModel",
          "model_module_version": "1.2.0",
          "state": {
            "_model_module": "@jupyter-widgets/base",
            "_model_module_version": "1.2.0",
            "_model_name": "LayoutModel",
            "_view_count": null,
            "_view_module": "@jupyter-widgets/base",
            "_view_module_version": "1.2.0",
            "_view_name": "LayoutView",
            "align_content": null,
            "align_items": null,
            "align_self": null,
            "border": null,
            "bottom": null,
            "display": null,
            "flex": null,
            "flex_flow": null,
            "grid_area": null,
            "grid_auto_columns": null,
            "grid_auto_flow": null,
            "grid_auto_rows": null,
            "grid_column": null,
            "grid_gap": null,
            "grid_row": null,
            "grid_template_areas": null,
            "grid_template_columns": null,
            "grid_template_rows": null,
            "height": null,
            "justify_content": null,
            "justify_items": null,
            "left": null,
            "margin": null,
            "max_height": null,
            "max_width": null,
            "min_height": null,
            "min_width": null,
            "object_fit": null,
            "object_position": null,
            "order": null,
            "overflow": null,
            "overflow_x": null,
            "overflow_y": null,
            "padding": null,
            "right": null,
            "top": null,
            "visibility": null,
            "width": null
          }
        },
        "6eed0965e3554c268db3675a1db59770": {
          "model_module": "@jupyter-widgets/controls",
          "model_name": "ProgressStyleModel",
          "model_module_version": "1.5.0",
          "state": {
            "_model_module": "@jupyter-widgets/controls",
            "_model_module_version": "1.5.0",
            "_model_name": "ProgressStyleModel",
            "_view_count": null,
            "_view_module": "@jupyter-widgets/base",
            "_view_module_version": "1.2.0",
            "_view_name": "StyleView",
            "bar_color": null,
            "description_width": ""
          }
        },
        "8d87190cea914ce3989269266f3823d7": {
          "model_module": "@jupyter-widgets/base",
          "model_name": "LayoutModel",
          "model_module_version": "1.2.0",
          "state": {
            "_model_module": "@jupyter-widgets/base",
            "_model_module_version": "1.2.0",
            "_model_name": "LayoutModel",
            "_view_count": null,
            "_view_module": "@jupyter-widgets/base",
            "_view_module_version": "1.2.0",
            "_view_name": "LayoutView",
            "align_content": null,
            "align_items": null,
            "align_self": null,
            "border": null,
            "bottom": null,
            "display": null,
            "flex": null,
            "flex_flow": null,
            "grid_area": null,
            "grid_auto_columns": null,
            "grid_auto_flow": null,
            "grid_auto_rows": null,
            "grid_column": null,
            "grid_gap": null,
            "grid_row": null,
            "grid_template_areas": null,
            "grid_template_columns": null,
            "grid_template_rows": null,
            "height": null,
            "justify_content": null,
            "justify_items": null,
            "left": null,
            "margin": null,
            "max_height": null,
            "max_width": null,
            "min_height": null,
            "min_width": null,
            "object_fit": null,
            "object_position": null,
            "order": null,
            "overflow": null,
            "overflow_x": null,
            "overflow_y": null,
            "padding": null,
            "right": null,
            "top": null,
            "visibility": null,
            "width": null
          }
        },
        "f8af184c7170412892e26ce642b09d77": {
          "model_module": "@jupyter-widgets/controls",
          "model_name": "DescriptionStyleModel",
          "model_module_version": "1.5.0",
          "state": {
            "_model_module": "@jupyter-widgets/controls",
            "_model_module_version": "1.5.0",
            "_model_name": "DescriptionStyleModel",
            "_view_count": null,
            "_view_module": "@jupyter-widgets/base",
            "_view_module_version": "1.2.0",
            "_view_name": "StyleView",
            "description_width": ""
          }
        },
        "610b8ea0aef549189635345b313c43bd": {
          "model_module": "@jupyter-widgets/controls",
          "model_name": "HBoxModel",
          "model_module_version": "1.5.0",
          "state": {
            "_dom_classes": [],
            "_model_module": "@jupyter-widgets/controls",
            "_model_module_version": "1.5.0",
            "_model_name": "HBoxModel",
            "_view_count": null,
            "_view_module": "@jupyter-widgets/controls",
            "_view_module_version": "1.5.0",
            "_view_name": "HBoxView",
            "box_style": "",
            "children": [
              "IPY_MODEL_3e3ac1c5d4cf4a6ea4397734042f9cd5",
              "IPY_MODEL_e11d85d83a0a448b9b73f94bdf28a31c",
              "IPY_MODEL_c4261df3d58c4f5a99fb172e459b5d68"
            ],
            "layout": "IPY_MODEL_66ff9f860c3b430298c19765b4cfe7b2"
          }
        },
        "3e3ac1c5d4cf4a6ea4397734042f9cd5": {
          "model_module": "@jupyter-widgets/controls",
          "model_name": "HTMLModel",
          "model_module_version": "1.5.0",
          "state": {
            "_dom_classes": [],
            "_model_module": "@jupyter-widgets/controls",
            "_model_module_version": "1.5.0",
            "_model_name": "HTMLModel",
            "_view_count": null,
            "_view_module": "@jupyter-widgets/controls",
            "_view_module_version": "1.5.0",
            "_view_name": "HTMLView",
            "description": "",
            "description_tooltip": null,
            "layout": "IPY_MODEL_cc8a99ab0f77488aaa4eb9269831b240",
            "placeholder": "​",
            "style": "IPY_MODEL_a463cdc581684808868505c0b93983d4",
            "value": "loss: 0.027713: 100%"
          }
        },
        "e11d85d83a0a448b9b73f94bdf28a31c": {
          "model_module": "@jupyter-widgets/controls",
          "model_name": "FloatProgressModel",
          "model_module_version": "1.5.0",
          "state": {
            "_dom_classes": [],
            "_model_module": "@jupyter-widgets/controls",
            "_model_module_version": "1.5.0",
            "_model_name": "FloatProgressModel",
            "_view_count": null,
            "_view_module": "@jupyter-widgets/controls",
            "_view_module_version": "1.5.0",
            "_view_name": "ProgressView",
            "bar_style": "success",
            "description": "",
            "description_tooltip": null,
            "layout": "IPY_MODEL_4641b5abd1194282b544e5a5d0e6c31c",
            "max": 2000,
            "min": 0,
            "orientation": "horizontal",
            "style": "IPY_MODEL_e2fa5d014693412d9214b4f91c936629",
            "value": 2000
          }
        },
        "c4261df3d58c4f5a99fb172e459b5d68": {
          "model_module": "@jupyter-widgets/controls",
          "model_name": "HTMLModel",
          "model_module_version": "1.5.0",
          "state": {
            "_dom_classes": [],
            "_model_module": "@jupyter-widgets/controls",
            "_model_module_version": "1.5.0",
            "_model_name": "HTMLModel",
            "_view_count": null,
            "_view_module": "@jupyter-widgets/controls",
            "_view_module_version": "1.5.0",
            "_view_name": "HTMLView",
            "description": "",
            "description_tooltip": null,
            "layout": "IPY_MODEL_287e122276274468bf61e1023b5c056c",
            "placeholder": "​",
            "style": "IPY_MODEL_dd7eb2d8b80b4bbdba0580b1b35d0d34",
            "value": " 2000/2000 [00:09&lt;00:00, 271.63it/s]"
          }
        },
        "66ff9f860c3b430298c19765b4cfe7b2": {
          "model_module": "@jupyter-widgets/base",
          "model_name": "LayoutModel",
          "model_module_version": "1.2.0",
          "state": {
            "_model_module": "@jupyter-widgets/base",
            "_model_module_version": "1.2.0",
            "_model_name": "LayoutModel",
            "_view_count": null,
            "_view_module": "@jupyter-widgets/base",
            "_view_module_version": "1.2.0",
            "_view_name": "LayoutView",
            "align_content": null,
            "align_items": null,
            "align_self": null,
            "border": null,
            "bottom": null,
            "display": null,
            "flex": null,
            "flex_flow": null,
            "grid_area": null,
            "grid_auto_columns": null,
            "grid_auto_flow": null,
            "grid_auto_rows": null,
            "grid_column": null,
            "grid_gap": null,
            "grid_row": null,
            "grid_template_areas": null,
            "grid_template_columns": null,
            "grid_template_rows": null,
            "height": null,
            "justify_content": null,
            "justify_items": null,
            "left": null,
            "margin": null,
            "max_height": null,
            "max_width": null,
            "min_height": null,
            "min_width": null,
            "object_fit": null,
            "object_position": null,
            "order": null,
            "overflow": null,
            "overflow_x": null,
            "overflow_y": null,
            "padding": null,
            "right": null,
            "top": null,
            "visibility": null,
            "width": null
          }
        },
        "cc8a99ab0f77488aaa4eb9269831b240": {
          "model_module": "@jupyter-widgets/base",
          "model_name": "LayoutModel",
          "model_module_version": "1.2.0",
          "state": {
            "_model_module": "@jupyter-widgets/base",
            "_model_module_version": "1.2.0",
            "_model_name": "LayoutModel",
            "_view_count": null,
            "_view_module": "@jupyter-widgets/base",
            "_view_module_version": "1.2.0",
            "_view_name": "LayoutView",
            "align_content": null,
            "align_items": null,
            "align_self": null,
            "border": null,
            "bottom": null,
            "display": null,
            "flex": null,
            "flex_flow": null,
            "grid_area": null,
            "grid_auto_columns": null,
            "grid_auto_flow": null,
            "grid_auto_rows": null,
            "grid_column": null,
            "grid_gap": null,
            "grid_row": null,
            "grid_template_areas": null,
            "grid_template_columns": null,
            "grid_template_rows": null,
            "height": null,
            "justify_content": null,
            "justify_items": null,
            "left": null,
            "margin": null,
            "max_height": null,
            "max_width": null,
            "min_height": null,
            "min_width": null,
            "object_fit": null,
            "object_position": null,
            "order": null,
            "overflow": null,
            "overflow_x": null,
            "overflow_y": null,
            "padding": null,
            "right": null,
            "top": null,
            "visibility": null,
            "width": null
          }
        },
        "a463cdc581684808868505c0b93983d4": {
          "model_module": "@jupyter-widgets/controls",
          "model_name": "DescriptionStyleModel",
          "model_module_version": "1.5.0",
          "state": {
            "_model_module": "@jupyter-widgets/controls",
            "_model_module_version": "1.5.0",
            "_model_name": "DescriptionStyleModel",
            "_view_count": null,
            "_view_module": "@jupyter-widgets/base",
            "_view_module_version": "1.2.0",
            "_view_name": "StyleView",
            "description_width": ""
          }
        },
        "4641b5abd1194282b544e5a5d0e6c31c": {
          "model_module": "@jupyter-widgets/base",
          "model_name": "LayoutModel",
          "model_module_version": "1.2.0",
          "state": {
            "_model_module": "@jupyter-widgets/base",
            "_model_module_version": "1.2.0",
            "_model_name": "LayoutModel",
            "_view_count": null,
            "_view_module": "@jupyter-widgets/base",
            "_view_module_version": "1.2.0",
            "_view_name": "LayoutView",
            "align_content": null,
            "align_items": null,
            "align_self": null,
            "border": null,
            "bottom": null,
            "display": null,
            "flex": null,
            "flex_flow": null,
            "grid_area": null,
            "grid_auto_columns": null,
            "grid_auto_flow": null,
            "grid_auto_rows": null,
            "grid_column": null,
            "grid_gap": null,
            "grid_row": null,
            "grid_template_areas": null,
            "grid_template_columns": null,
            "grid_template_rows": null,
            "height": null,
            "justify_content": null,
            "justify_items": null,
            "left": null,
            "margin": null,
            "max_height": null,
            "max_width": null,
            "min_height": null,
            "min_width": null,
            "object_fit": null,
            "object_position": null,
            "order": null,
            "overflow": null,
            "overflow_x": null,
            "overflow_y": null,
            "padding": null,
            "right": null,
            "top": null,
            "visibility": null,
            "width": null
          }
        },
        "e2fa5d014693412d9214b4f91c936629": {
          "model_module": "@jupyter-widgets/controls",
          "model_name": "ProgressStyleModel",
          "model_module_version": "1.5.0",
          "state": {
            "_model_module": "@jupyter-widgets/controls",
            "_model_module_version": "1.5.0",
            "_model_name": "ProgressStyleModel",
            "_view_count": null,
            "_view_module": "@jupyter-widgets/base",
            "_view_module_version": "1.2.0",
            "_view_name": "StyleView",
            "bar_color": null,
            "description_width": ""
          }
        },
        "287e122276274468bf61e1023b5c056c": {
          "model_module": "@jupyter-widgets/base",
          "model_name": "LayoutModel",
          "model_module_version": "1.2.0",
          "state": {
            "_model_module": "@jupyter-widgets/base",
            "_model_module_version": "1.2.0",
            "_model_name": "LayoutModel",
            "_view_count": null,
            "_view_module": "@jupyter-widgets/base",
            "_view_module_version": "1.2.0",
            "_view_name": "LayoutView",
            "align_content": null,
            "align_items": null,
            "align_self": null,
            "border": null,
            "bottom": null,
            "display": null,
            "flex": null,
            "flex_flow": null,
            "grid_area": null,
            "grid_auto_columns": null,
            "grid_auto_flow": null,
            "grid_auto_rows": null,
            "grid_column": null,
            "grid_gap": null,
            "grid_row": null,
            "grid_template_areas": null,
            "grid_template_columns": null,
            "grid_template_rows": null,
            "height": null,
            "justify_content": null,
            "justify_items": null,
            "left": null,
            "margin": null,
            "max_height": null,
            "max_width": null,
            "min_height": null,
            "min_width": null,
            "object_fit": null,
            "object_position": null,
            "order": null,
            "overflow": null,
            "overflow_x": null,
            "overflow_y": null,
            "padding": null,
            "right": null,
            "top": null,
            "visibility": null,
            "width": null
          }
        },
        "dd7eb2d8b80b4bbdba0580b1b35d0d34": {
          "model_module": "@jupyter-widgets/controls",
          "model_name": "DescriptionStyleModel",
          "model_module_version": "1.5.0",
          "state": {
            "_model_module": "@jupyter-widgets/controls",
            "_model_module_version": "1.5.0",
            "_model_name": "DescriptionStyleModel",
            "_view_count": null,
            "_view_module": "@jupyter-widgets/base",
            "_view_module_version": "1.2.0",
            "_view_name": "StyleView",
            "description_width": ""
          }
        },
        "8bdb4f927179467482556d2d1d9800fb": {
          "model_module": "@jupyter-widgets/controls",
          "model_name": "HBoxModel",
          "model_module_version": "1.5.0",
          "state": {
            "_dom_classes": [],
            "_model_module": "@jupyter-widgets/controls",
            "_model_module_version": "1.5.0",
            "_model_name": "HBoxModel",
            "_view_count": null,
            "_view_module": "@jupyter-widgets/controls",
            "_view_module_version": "1.5.0",
            "_view_name": "HBoxView",
            "box_style": "",
            "children": [
              "IPY_MODEL_71e4a69f4ea0458498703db131bdd192",
              "IPY_MODEL_1fc03bd8d89d4f1cae81325a5c33a611",
              "IPY_MODEL_f36f0e7b4fbb4d03944d5ebbee7a6e99"
            ],
            "layout": "IPY_MODEL_4efdac068d4b46dfa4f6b5b7b5200a78"
          }
        },
        "71e4a69f4ea0458498703db131bdd192": {
          "model_module": "@jupyter-widgets/controls",
          "model_name": "HTMLModel",
          "model_module_version": "1.5.0",
          "state": {
            "_dom_classes": [],
            "_model_module": "@jupyter-widgets/controls",
            "_model_module_version": "1.5.0",
            "_model_name": "HTMLModel",
            "_view_count": null,
            "_view_module": "@jupyter-widgets/controls",
            "_view_module_version": "1.5.0",
            "_view_name": "HTMLView",
            "description": "",
            "description_tooltip": null,
            "layout": "IPY_MODEL_aa5d3947d99a4fc38ae8ab5bc1619dd8",
            "placeholder": "​",
            "style": "IPY_MODEL_d5c1d16957ab42f9b852a674c28d5d16",
            "value": "loss: 0.027713: 100%"
          }
        },
        "1fc03bd8d89d4f1cae81325a5c33a611": {
          "model_module": "@jupyter-widgets/controls",
          "model_name": "FloatProgressModel",
          "model_module_version": "1.5.0",
          "state": {
            "_dom_classes": [],
            "_model_module": "@jupyter-widgets/controls",
            "_model_module_version": "1.5.0",
            "_model_name": "FloatProgressModel",
            "_view_count": null,
            "_view_module": "@jupyter-widgets/controls",
            "_view_module_version": "1.5.0",
            "_view_name": "ProgressView",
            "bar_style": "success",
            "description": "",
            "description_tooltip": null,
            "layout": "IPY_MODEL_c339c843ac9c4603b36809347c60dcf7",
            "max": 2000,
            "min": 0,
            "orientation": "horizontal",
            "style": "IPY_MODEL_e011d82749654cf5bf2118515949e890",
            "value": 2000
          }
        },
        "f36f0e7b4fbb4d03944d5ebbee7a6e99": {
          "model_module": "@jupyter-widgets/controls",
          "model_name": "HTMLModel",
          "model_module_version": "1.5.0",
          "state": {
            "_dom_classes": [],
            "_model_module": "@jupyter-widgets/controls",
            "_model_module_version": "1.5.0",
            "_model_name": "HTMLModel",
            "_view_count": null,
            "_view_module": "@jupyter-widgets/controls",
            "_view_module_version": "1.5.0",
            "_view_name": "HTMLView",
            "description": "",
            "description_tooltip": null,
            "layout": "IPY_MODEL_d3f566d3b48040e4832534f54f186e9b",
            "placeholder": "​",
            "style": "IPY_MODEL_7b7de22169f24f9dbf4771580add3b84",
            "value": " 2000/2000 [00:09&lt;00:00, 221.20it/s]"
          }
        },
        "4efdac068d4b46dfa4f6b5b7b5200a78": {
          "model_module": "@jupyter-widgets/base",
          "model_name": "LayoutModel",
          "model_module_version": "1.2.0",
          "state": {
            "_model_module": "@jupyter-widgets/base",
            "_model_module_version": "1.2.0",
            "_model_name": "LayoutModel",
            "_view_count": null,
            "_view_module": "@jupyter-widgets/base",
            "_view_module_version": "1.2.0",
            "_view_name": "LayoutView",
            "align_content": null,
            "align_items": null,
            "align_self": null,
            "border": null,
            "bottom": null,
            "display": null,
            "flex": null,
            "flex_flow": null,
            "grid_area": null,
            "grid_auto_columns": null,
            "grid_auto_flow": null,
            "grid_auto_rows": null,
            "grid_column": null,
            "grid_gap": null,
            "grid_row": null,
            "grid_template_areas": null,
            "grid_template_columns": null,
            "grid_template_rows": null,
            "height": null,
            "justify_content": null,
            "justify_items": null,
            "left": null,
            "margin": null,
            "max_height": null,
            "max_width": null,
            "min_height": null,
            "min_width": null,
            "object_fit": null,
            "object_position": null,
            "order": null,
            "overflow": null,
            "overflow_x": null,
            "overflow_y": null,
            "padding": null,
            "right": null,
            "top": null,
            "visibility": null,
            "width": null
          }
        },
        "aa5d3947d99a4fc38ae8ab5bc1619dd8": {
          "model_module": "@jupyter-widgets/base",
          "model_name": "LayoutModel",
          "model_module_version": "1.2.0",
          "state": {
            "_model_module": "@jupyter-widgets/base",
            "_model_module_version": "1.2.0",
            "_model_name": "LayoutModel",
            "_view_count": null,
            "_view_module": "@jupyter-widgets/base",
            "_view_module_version": "1.2.0",
            "_view_name": "LayoutView",
            "align_content": null,
            "align_items": null,
            "align_self": null,
            "border": null,
            "bottom": null,
            "display": null,
            "flex": null,
            "flex_flow": null,
            "grid_area": null,
            "grid_auto_columns": null,
            "grid_auto_flow": null,
            "grid_auto_rows": null,
            "grid_column": null,
            "grid_gap": null,
            "grid_row": null,
            "grid_template_areas": null,
            "grid_template_columns": null,
            "grid_template_rows": null,
            "height": null,
            "justify_content": null,
            "justify_items": null,
            "left": null,
            "margin": null,
            "max_height": null,
            "max_width": null,
            "min_height": null,
            "min_width": null,
            "object_fit": null,
            "object_position": null,
            "order": null,
            "overflow": null,
            "overflow_x": null,
            "overflow_y": null,
            "padding": null,
            "right": null,
            "top": null,
            "visibility": null,
            "width": null
          }
        },
        "d5c1d16957ab42f9b852a674c28d5d16": {
          "model_module": "@jupyter-widgets/controls",
          "model_name": "DescriptionStyleModel",
          "model_module_version": "1.5.0",
          "state": {
            "_model_module": "@jupyter-widgets/controls",
            "_model_module_version": "1.5.0",
            "_model_name": "DescriptionStyleModel",
            "_view_count": null,
            "_view_module": "@jupyter-widgets/base",
            "_view_module_version": "1.2.0",
            "_view_name": "StyleView",
            "description_width": ""
          }
        },
        "c339c843ac9c4603b36809347c60dcf7": {
          "model_module": "@jupyter-widgets/base",
          "model_name": "LayoutModel",
          "model_module_version": "1.2.0",
          "state": {
            "_model_module": "@jupyter-widgets/base",
            "_model_module_version": "1.2.0",
            "_model_name": "LayoutModel",
            "_view_count": null,
            "_view_module": "@jupyter-widgets/base",
            "_view_module_version": "1.2.0",
            "_view_name": "LayoutView",
            "align_content": null,
            "align_items": null,
            "align_self": null,
            "border": null,
            "bottom": null,
            "display": null,
            "flex": null,
            "flex_flow": null,
            "grid_area": null,
            "grid_auto_columns": null,
            "grid_auto_flow": null,
            "grid_auto_rows": null,
            "grid_column": null,
            "grid_gap": null,
            "grid_row": null,
            "grid_template_areas": null,
            "grid_template_columns": null,
            "grid_template_rows": null,
            "height": null,
            "justify_content": null,
            "justify_items": null,
            "left": null,
            "margin": null,
            "max_height": null,
            "max_width": null,
            "min_height": null,
            "min_width": null,
            "object_fit": null,
            "object_position": null,
            "order": null,
            "overflow": null,
            "overflow_x": null,
            "overflow_y": null,
            "padding": null,
            "right": null,
            "top": null,
            "visibility": null,
            "width": null
          }
        },
        "e011d82749654cf5bf2118515949e890": {
          "model_module": "@jupyter-widgets/controls",
          "model_name": "ProgressStyleModel",
          "model_module_version": "1.5.0",
          "state": {
            "_model_module": "@jupyter-widgets/controls",
            "_model_module_version": "1.5.0",
            "_model_name": "ProgressStyleModel",
            "_view_count": null,
            "_view_module": "@jupyter-widgets/base",
            "_view_module_version": "1.2.0",
            "_view_name": "StyleView",
            "bar_color": null,
            "description_width": ""
          }
        },
        "d3f566d3b48040e4832534f54f186e9b": {
          "model_module": "@jupyter-widgets/base",
          "model_name": "LayoutModel",
          "model_module_version": "1.2.0",
          "state": {
            "_model_module": "@jupyter-widgets/base",
            "_model_module_version": "1.2.0",
            "_model_name": "LayoutModel",
            "_view_count": null,
            "_view_module": "@jupyter-widgets/base",
            "_view_module_version": "1.2.0",
            "_view_name": "LayoutView",
            "align_content": null,
            "align_items": null,
            "align_self": null,
            "border": null,
            "bottom": null,
            "display": null,
            "flex": null,
            "flex_flow": null,
            "grid_area": null,
            "grid_auto_columns": null,
            "grid_auto_flow": null,
            "grid_auto_rows": null,
            "grid_column": null,
            "grid_gap": null,
            "grid_row": null,
            "grid_template_areas": null,
            "grid_template_columns": null,
            "grid_template_rows": null,
            "height": null,
            "justify_content": null,
            "justify_items": null,
            "left": null,
            "margin": null,
            "max_height": null,
            "max_width": null,
            "min_height": null,
            "min_width": null,
            "object_fit": null,
            "object_position": null,
            "order": null,
            "overflow": null,
            "overflow_x": null,
            "overflow_y": null,
            "padding": null,
            "right": null,
            "top": null,
            "visibility": null,
            "width": null
          }
        },
        "7b7de22169f24f9dbf4771580add3b84": {
          "model_module": "@jupyter-widgets/controls",
          "model_name": "DescriptionStyleModel",
          "model_module_version": "1.5.0",
          "state": {
            "_model_module": "@jupyter-widgets/controls",
            "_model_module_version": "1.5.0",
            "_model_name": "DescriptionStyleModel",
            "_view_count": null,
            "_view_module": "@jupyter-widgets/base",
            "_view_module_version": "1.2.0",
            "_view_name": "StyleView",
            "description_width": ""
          }
        },
        "87670d148ea34c8da451162bfdbe39c6": {
          "model_module": "@jupyter-widgets/controls",
          "model_name": "HBoxModel",
          "model_module_version": "1.5.0",
          "state": {
            "_dom_classes": [],
            "_model_module": "@jupyter-widgets/controls",
            "_model_module_version": "1.5.0",
            "_model_name": "HBoxModel",
            "_view_count": null,
            "_view_module": "@jupyter-widgets/controls",
            "_view_module_version": "1.5.0",
            "_view_name": "HBoxView",
            "box_style": "",
            "children": [
              "IPY_MODEL_503d70e76e49439ab9399c8ece215dc1",
              "IPY_MODEL_e7164cf0d1a743fa86062af740891452",
              "IPY_MODEL_5d5191dc63f141a3b091a030bc75e154"
            ],
            "layout": "IPY_MODEL_72e4d1358a544a71a6af67d5f98cae8c"
          }
        },
        "503d70e76e49439ab9399c8ece215dc1": {
          "model_module": "@jupyter-widgets/controls",
          "model_name": "HTMLModel",
          "model_module_version": "1.5.0",
          "state": {
            "_dom_classes": [],
            "_model_module": "@jupyter-widgets/controls",
            "_model_module_version": "1.5.0",
            "_model_name": "HTMLModel",
            "_view_count": null,
            "_view_module": "@jupyter-widgets/controls",
            "_view_module_version": "1.5.0",
            "_view_name": "HTMLView",
            "description": "",
            "description_tooltip": null,
            "layout": "IPY_MODEL_c97c034f8e4647f4b61a5397bc0441fb",
            "placeholder": "​",
            "style": "IPY_MODEL_6e6b844cb1ab450ea9fed51f4515511f",
            "value": "loss: 0.027713: 100%"
          }
        },
        "e7164cf0d1a743fa86062af740891452": {
          "model_module": "@jupyter-widgets/controls",
          "model_name": "FloatProgressModel",
          "model_module_version": "1.5.0",
          "state": {
            "_dom_classes": [],
            "_model_module": "@jupyter-widgets/controls",
            "_model_module_version": "1.5.0",
            "_model_name": "FloatProgressModel",
            "_view_count": null,
            "_view_module": "@jupyter-widgets/controls",
            "_view_module_version": "1.5.0",
            "_view_name": "ProgressView",
            "bar_style": "success",
            "description": "",
            "description_tooltip": null,
            "layout": "IPY_MODEL_cea47e0e76a5427aa4eb80b9f7a6ddc0",
            "max": 2000,
            "min": 0,
            "orientation": "horizontal",
            "style": "IPY_MODEL_6b0073b506d44afb8303198a659475fb",
            "value": 2000
          }
        },
        "5d5191dc63f141a3b091a030bc75e154": {
          "model_module": "@jupyter-widgets/controls",
          "model_name": "HTMLModel",
          "model_module_version": "1.5.0",
          "state": {
            "_dom_classes": [],
            "_model_module": "@jupyter-widgets/controls",
            "_model_module_version": "1.5.0",
            "_model_name": "HTMLModel",
            "_view_count": null,
            "_view_module": "@jupyter-widgets/controls",
            "_view_module_version": "1.5.0",
            "_view_name": "HTMLView",
            "description": "",
            "description_tooltip": null,
            "layout": "IPY_MODEL_7a6a57d3dd094e5f847fd8e6a36827d1",
            "placeholder": "​",
            "style": "IPY_MODEL_149ed6819e084f998cf89ca8c9484501",
            "value": " 2000/2000 [00:13&lt;00:00, 139.73it/s]"
          }
        },
        "72e4d1358a544a71a6af67d5f98cae8c": {
          "model_module": "@jupyter-widgets/base",
          "model_name": "LayoutModel",
          "model_module_version": "1.2.0",
          "state": {
            "_model_module": "@jupyter-widgets/base",
            "_model_module_version": "1.2.0",
            "_model_name": "LayoutModel",
            "_view_count": null,
            "_view_module": "@jupyter-widgets/base",
            "_view_module_version": "1.2.0",
            "_view_name": "LayoutView",
            "align_content": null,
            "align_items": null,
            "align_self": null,
            "border": null,
            "bottom": null,
            "display": null,
            "flex": null,
            "flex_flow": null,
            "grid_area": null,
            "grid_auto_columns": null,
            "grid_auto_flow": null,
            "grid_auto_rows": null,
            "grid_column": null,
            "grid_gap": null,
            "grid_row": null,
            "grid_template_areas": null,
            "grid_template_columns": null,
            "grid_template_rows": null,
            "height": null,
            "justify_content": null,
            "justify_items": null,
            "left": null,
            "margin": null,
            "max_height": null,
            "max_width": null,
            "min_height": null,
            "min_width": null,
            "object_fit": null,
            "object_position": null,
            "order": null,
            "overflow": null,
            "overflow_x": null,
            "overflow_y": null,
            "padding": null,
            "right": null,
            "top": null,
            "visibility": null,
            "width": null
          }
        },
        "c97c034f8e4647f4b61a5397bc0441fb": {
          "model_module": "@jupyter-widgets/base",
          "model_name": "LayoutModel",
          "model_module_version": "1.2.0",
          "state": {
            "_model_module": "@jupyter-widgets/base",
            "_model_module_version": "1.2.0",
            "_model_name": "LayoutModel",
            "_view_count": null,
            "_view_module": "@jupyter-widgets/base",
            "_view_module_version": "1.2.0",
            "_view_name": "LayoutView",
            "align_content": null,
            "align_items": null,
            "align_self": null,
            "border": null,
            "bottom": null,
            "display": null,
            "flex": null,
            "flex_flow": null,
            "grid_area": null,
            "grid_auto_columns": null,
            "grid_auto_flow": null,
            "grid_auto_rows": null,
            "grid_column": null,
            "grid_gap": null,
            "grid_row": null,
            "grid_template_areas": null,
            "grid_template_columns": null,
            "grid_template_rows": null,
            "height": null,
            "justify_content": null,
            "justify_items": null,
            "left": null,
            "margin": null,
            "max_height": null,
            "max_width": null,
            "min_height": null,
            "min_width": null,
            "object_fit": null,
            "object_position": null,
            "order": null,
            "overflow": null,
            "overflow_x": null,
            "overflow_y": null,
            "padding": null,
            "right": null,
            "top": null,
            "visibility": null,
            "width": null
          }
        },
        "6e6b844cb1ab450ea9fed51f4515511f": {
          "model_module": "@jupyter-widgets/controls",
          "model_name": "DescriptionStyleModel",
          "model_module_version": "1.5.0",
          "state": {
            "_model_module": "@jupyter-widgets/controls",
            "_model_module_version": "1.5.0",
            "_model_name": "DescriptionStyleModel",
            "_view_count": null,
            "_view_module": "@jupyter-widgets/base",
            "_view_module_version": "1.2.0",
            "_view_name": "StyleView",
            "description_width": ""
          }
        },
        "cea47e0e76a5427aa4eb80b9f7a6ddc0": {
          "model_module": "@jupyter-widgets/base",
          "model_name": "LayoutModel",
          "model_module_version": "1.2.0",
          "state": {
            "_model_module": "@jupyter-widgets/base",
            "_model_module_version": "1.2.0",
            "_model_name": "LayoutModel",
            "_view_count": null,
            "_view_module": "@jupyter-widgets/base",
            "_view_module_version": "1.2.0",
            "_view_name": "LayoutView",
            "align_content": null,
            "align_items": null,
            "align_self": null,
            "border": null,
            "bottom": null,
            "display": null,
            "flex": null,
            "flex_flow": null,
            "grid_area": null,
            "grid_auto_columns": null,
            "grid_auto_flow": null,
            "grid_auto_rows": null,
            "grid_column": null,
            "grid_gap": null,
            "grid_row": null,
            "grid_template_areas": null,
            "grid_template_columns": null,
            "grid_template_rows": null,
            "height": null,
            "justify_content": null,
            "justify_items": null,
            "left": null,
            "margin": null,
            "max_height": null,
            "max_width": null,
            "min_height": null,
            "min_width": null,
            "object_fit": null,
            "object_position": null,
            "order": null,
            "overflow": null,
            "overflow_x": null,
            "overflow_y": null,
            "padding": null,
            "right": null,
            "top": null,
            "visibility": null,
            "width": null
          }
        },
        "6b0073b506d44afb8303198a659475fb": {
          "model_module": "@jupyter-widgets/controls",
          "model_name": "ProgressStyleModel",
          "model_module_version": "1.5.0",
          "state": {
            "_model_module": "@jupyter-widgets/controls",
            "_model_module_version": "1.5.0",
            "_model_name": "ProgressStyleModel",
            "_view_count": null,
            "_view_module": "@jupyter-widgets/base",
            "_view_module_version": "1.2.0",
            "_view_name": "StyleView",
            "bar_color": null,
            "description_width": ""
          }
        },
        "7a6a57d3dd094e5f847fd8e6a36827d1": {
          "model_module": "@jupyter-widgets/base",
          "model_name": "LayoutModel",
          "model_module_version": "1.2.0",
          "state": {
            "_model_module": "@jupyter-widgets/base",
            "_model_module_version": "1.2.0",
            "_model_name": "LayoutModel",
            "_view_count": null,
            "_view_module": "@jupyter-widgets/base",
            "_view_module_version": "1.2.0",
            "_view_name": "LayoutView",
            "align_content": null,
            "align_items": null,
            "align_self": null,
            "border": null,
            "bottom": null,
            "display": null,
            "flex": null,
            "flex_flow": null,
            "grid_area": null,
            "grid_auto_columns": null,
            "grid_auto_flow": null,
            "grid_auto_rows": null,
            "grid_column": null,
            "grid_gap": null,
            "grid_row": null,
            "grid_template_areas": null,
            "grid_template_columns": null,
            "grid_template_rows": null,
            "height": null,
            "justify_content": null,
            "justify_items": null,
            "left": null,
            "margin": null,
            "max_height": null,
            "max_width": null,
            "min_height": null,
            "min_width": null,
            "object_fit": null,
            "object_position": null,
            "order": null,
            "overflow": null,
            "overflow_x": null,
            "overflow_y": null,
            "padding": null,
            "right": null,
            "top": null,
            "visibility": null,
            "width": null
          }
        },
        "149ed6819e084f998cf89ca8c9484501": {
          "model_module": "@jupyter-widgets/controls",
          "model_name": "DescriptionStyleModel",
          "model_module_version": "1.5.0",
          "state": {
            "_model_module": "@jupyter-widgets/controls",
            "_model_module_version": "1.5.0",
            "_model_name": "DescriptionStyleModel",
            "_view_count": null,
            "_view_module": "@jupyter-widgets/base",
            "_view_module_version": "1.2.0",
            "_view_name": "StyleView",
            "description_width": ""
          }
        }
      }
    }
  },
  "nbformat": 4,
  "nbformat_minor": 0
}