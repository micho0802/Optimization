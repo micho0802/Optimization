{
  "cells": [
    {
      "cell_type": "markdown",
      "metadata": {
        "id": "9g20pXpy2PPG"
      },
      "source": [
        "# Homework 1: Transition from NumPy to PyTorch\n",
        "\n",
        "Name: Michael Dang\n",
        "\n",
        "Email: ld8np@umsystem.edu\n",
        "\n",
        "Partner Name(s) (if applicable): Karthik Chellamuthu\n",
        "\n",
        "Partner Email(s) (if applicable):\n",
        "\n",
        "### Submission instructions\n",
        "\n",
        "- Submit the modified python notebook as homework submission.\n",
        "- Group submission is enabled, you can submit this coding assignment with up to 2 teammates in our class. For instruction of how to do a group submission. Please refer to Canvas useful links.\n",
        "- You can google answers on StackOverflow, please attach the corresponding StackOverflow answer as comments. However, if the answer is converted to `torch` format, no credit will be awarded.\n",
        "- You can ask answer in Large Language Model-based software such as Co-Pilot or ChatGPT. However, your code has to be runnable.\n",
        "- Do not change the number of cells! Please work in the cell provided. If you need extra cells for debugging and testing purposes, we can work at the end of this notebook, save everything as a backup for review, and delete the extra cells in the submitted version.\n",
        "\n"
      ]
    },
    {
      "cell_type": "markdown",
      "metadata": {
        "id": "VGOLkHtG2ggc"
      },
      "source": [
        "\n",
        "\n",
        "### Instructions\n",
        "Do **not** use for loops in any of our solutions! For example if a problem asks us generate an array from 0 to 9: then\n",
        "```python\n",
        "x = []\n",
        "for i in range(10):\n",
        "    x.append(i)\n",
        "```\n",
        "this will only result a partial credit while\n",
        "```python\n",
        "x = np.arange(10)\n",
        "```\n",
        "or\n",
        "```python\n",
        "x = torch.arange(10)\n",
        "```\n",
        "will yield a full score.\n",
        "\n",
        "### Problems\n",
        "Below are 6 problems that explore different common used tools in Numpy and how to translate them into Torch codes. Each problem gives examples demonstrating the concept and has an associated coding task. Complete the coding tasks for credit.\n",
        "\n",
        "### Grading\n",
        "This homework has 6 problems, 5 points each. The homework will be graded based on completion (successfully run all the code cells) and the grade counts towards your course grade. The homework will weigh 50% compared to the subsequent assignemnts (it's not fully weighted...).\n",
        "\n"
      ]
    },
    {
      "cell_type": "markdown",
      "metadata": {
        "id": "RIUSJaGh3Qul"
      },
      "source": [
        "\n",
        "## Coding environments and submission\n",
        "If we do not have `torch` installed on your computer, we have three ways to upload this notebook to [Google colab](https://colab.research.google.com/)：\n",
        "\n",
        "1. Open up Google Colab, choose `Upload` to upload this template and work there. After we have done working we can select `File->Download .ipynb`.\n",
        "2. Open up Google Colab, choose either `GitHub` or `Google Drive` to select the uploaded notebook in the corresponding website. After done working, we can sync the file to the corresponding GitHub or Google Drive copy."
      ]
    },
    {
      "cell_type": "code",
      "execution_count": null,
      "metadata": {
        "id": "_uCnadE-2PPJ"
      },
      "outputs": [],
      "source": [
        "# Run Me First\n",
        "import torch"
      ]
    },
    {
      "cell_type": "markdown",
      "metadata": {
        "id": "_lG5XR-Y2PPK"
      },
      "source": [
        "## 1D Basic Array Functions\n",
        "### Examples"
      ]
    },
    {
      "cell_type": "code",
      "execution_count": null,
      "metadata": {
        "id": "5JSlNjk02PPK"
      },
      "outputs": [],
      "source": [
        "arr1 = torch.tensor([\n",
        "    55.70000076,  51.40000153,  50.5       ,  75.69999695,\n",
        "    58.40000153,  40.09999847,  61.5       ,  57.09999847,\n",
        "    60.90000153,  66.59999847,  60.40000153,  68.09999847,\n",
        "    66.90000153,  53.40000153,  48.59999847,  56.79999924,\n",
        "    71.59999847,  58.40000153,  70.40000153,  41.20000076\n",
        "])"
      ]
    },
    {
      "cell_type": "code",
      "execution_count": null,
      "metadata": {
        "id": "R26vLlVB2PPK",
        "colab": {
          "base_uri": "https://localhost:8080/"
        },
        "outputId": "2cb74236-ea86-4413-ea54-8d6b91375a1c"
      },
      "outputs": [
        {
          "output_type": "stream",
          "name": "stdout",
          "text": [
            "tensor(55.7000)\n",
            "tensor(75.7000)\n"
          ]
        }
      ],
      "source": [
        "# Accessing elements\n",
        "print(arr1[0])\n",
        "print(arr1[3])"
      ]
    },
    {
      "cell_type": "code",
      "execution_count": null,
      "metadata": {
        "id": "mibCRGc_2PPK",
        "colab": {
          "base_uri": "https://localhost:8080/"
        },
        "outputId": "6fb483f7-a3b1-4025-82f4-174d83517ced"
      },
      "outputs": [
        {
          "output_type": "stream",
          "name": "stdout",
          "text": [
            "tensor([55.7000, 51.4000, 50.5000])\n",
            "tensor([55.7000, 51.4000, 50.5000])\n",
            "tensor([58.4000, 70.4000, 41.2000])\n",
            "tensor([55.7000, 51.4000, 50.5000, 75.7000, 58.4000, 40.1000, 61.5000, 57.1000,\n",
            "        60.9000, 66.6000, 60.4000, 68.1000, 66.9000, 53.4000, 48.6000, 56.8000,\n",
            "        71.6000, 58.4000, 70.4000, 41.2000])\n"
          ]
        }
      ],
      "source": [
        "#Slicing: syntax is start:end:step, all are optional for compatibility\n",
        "print(arr1[0:3]) # arr[0], arr[1], arr[2], non-inclusive of the ending index\n",
        "print(arr1[:3]) # if the start is emtpy start = 0, this is the same with arr[0:3]\n",
        "print(arr1[17:]) # if the end is emtpy, then this is accessing arr1[17], ..., till, the last entry of arr1\n",
        "print(arr1[:]) # no start nor end, print all arr1"
      ]
    },
    {
      "cell_type": "code",
      "execution_count": null,
      "metadata": {
        "id": "P5nOzqp72PPK",
        "colab": {
          "base_uri": "https://localhost:8080/"
        },
        "outputId": "7e65927c-80ed-4211-b4aa-46014d39a214"
      },
      "outputs": [
        {
          "output_type": "stream",
          "name": "stdout",
          "text": [
            "torch.float32\n",
            "torch.int64\n",
            "torch.float32\n",
            "torch.float64\n",
            "torch.bool\n"
          ]
        }
      ],
      "source": [
        "#Element Types\n",
        "print(arr1.dtype)\n",
        "print(torch.tensor([0, 1, 2, 3]).dtype)\n",
        "print(torch.tensor([1.0, 1.5, 2.0, 2.5]).dtype)\n",
        "print(torch.tensor([1.0, 1.5, 2.0, 2.5], dtype=torch.float64).dtype)\n",
        "print(torch.tensor([True, False, True]).dtype)"
      ]
    },
    {
      "cell_type": "code",
      "execution_count": null,
      "metadata": {
        "id": "fZT1pAki2PPL",
        "colab": {
          "base_uri": "https://localhost:8080/"
        },
        "outputId": "47ef93d1-1d19-4f57-dcd0-56ca3020360f"
      },
      "outputs": [
        {
          "output_type": "stream",
          "name": "stdout",
          "text": [
            "Array 0-th entry has value 55.70000076293945\n",
            "Array 1-th entry has value 51.400001525878906\n",
            "Array 2-th entry has value 50.5\n",
            "Array 3-th entry has value 75.69999694824219\n",
            "Array 4-th entry has value 58.400001525878906\n",
            "Array 5-th entry has value 40.099998474121094\n",
            "Array 6-th entry has value 61.5\n",
            "Array 7-th entry has value 57.099998474121094\n",
            "Array 8-th entry has value 60.900001525878906\n",
            "Array 9-th entry has value 66.5999984741211\n",
            "Array 10-th entry has value 60.400001525878906\n",
            "Array 11-th entry has value 68.0999984741211\n",
            "Array 12-th entry has value 66.9000015258789\n",
            "Array 13-th entry has value 53.400001525878906\n",
            "Array 14-th entry has value 48.599998474121094\n",
            "Array 15-th entry has value 56.79999923706055\n",
            "Array 16-th entry has value 71.5999984741211\n",
            "Array 17-th entry has value 58.400001525878906\n",
            "Array 18-th entry has value 70.4000015258789\n",
            "Array 19-th entry has value 41.20000076293945\n"
          ]
        }
      ],
      "source": [
        "# Looping - AVOID THIS!\n",
        "\n",
        "for i in range(len(arr1)):\n",
        "    element = arr1[i]\n",
        "    print(f'Array {i}-th entry has value {element}')"
      ]
    },
    {
      "cell_type": "code",
      "execution_count": null,
      "metadata": {
        "id": "4NSj6R2v2PPL",
        "colab": {
          "base_uri": "https://localhost:8080/"
        },
        "outputId": "0e60b0e3-a6e3-466f-bcd3-c6d09932a220"
      },
      "outputs": [
        {
          "output_type": "stream",
          "name": "stdout",
          "text": [
            "tensor(58.6850)\n",
            "tensor(9.5809)\n",
            "tensor(75.7000)\n",
            "tensor(1173.7001)\n",
            "\n",
            "tensor(58.6850)\n",
            "tensor(9.5809)\n",
            "tensor(40.1000)\n",
            "tensor(1173.7001)\n"
          ]
        }
      ],
      "source": [
        "# (Almost) Every numpy functions has it torch counterparts\n",
        "print(arr1.mean())\n",
        "print(arr1.std())\n",
        "print(arr1.max())\n",
        "print(arr1.sum())\n",
        "print()\n",
        "print(torch.mean(arr1))\n",
        "print(torch.std(arr1))\n",
        "print(torch.min(arr1))\n",
        "print(torch.sum(arr1))"
      ]
    },
    {
      "cell_type": "markdown",
      "metadata": {
        "id": "AjzDC41f2PPL"
      },
      "source": [
        "### Problem 1\n",
        "\n",
        "Fill in the following cell to calculate the maximum of the first half (first `len(arr1)//2` elements) and the second half of the array using slicing and the built-in `max()` method."
      ]
    },
    {
      "cell_type": "code",
      "execution_count": null,
      "metadata": {
        "id": "_xTYT9jP2PPL",
        "colab": {
          "base_uri": "https://localhost:8080/"
        },
        "outputId": "d3807585-5474-4819-e085-bf35359e5109"
      },
      "outputs": [
        {
          "output_type": "stream",
          "name": "stdout",
          "text": [
            "Max of the 1st half: 75.69999694824219; Max of the 2nd half: 71.5999984741211\n"
          ]
        }
      ],
      "source": [
        "max_1st_half = max(arr1[:len(arr1)//2])      # Replace this None with your code\n",
        "max_2nd_half = max(arr1[len(arr1)//2:])        # Replace this None with your code\n",
        "\n",
        "# your code here\n",
        "\n",
        "print(f\"Max of the 1st half: {max_1st_half}; Max of the 2nd half: {max_2nd_half}\")\n",
        "\n",
        "# expected output: Max of the 1st half: 75.69999694824219; Max of the 2nd half: 71.5999984741211\n"
      ]
    },
    {
      "cell_type": "markdown",
      "metadata": {
        "id": "QHW3sIn22PPL"
      },
      "source": [
        "## 1D Arithmetic and Logic\n",
        "### Examples"
      ]
    },
    {
      "cell_type": "code",
      "execution_count": null,
      "metadata": {
        "id": "vRUJDY2c2PPL",
        "colab": {
          "base_uri": "https://localhost:8080/"
        },
        "outputId": "55a15cf3-b05a-4b52-817e-0dfa4bb30aee"
      },
      "outputs": [
        {
          "output_type": "stream",
          "name": "stdout",
          "text": [
            "tensor([2, 4, 4, 6])\n",
            "tensor([0, 0, 2, 2])\n",
            "tensor([1, 4, 3, 8])\n",
            "tensor([1., 1., 3., 2.])\n",
            "tensor([ 1,  4,  3, 16])\n"
          ]
        }
      ],
      "source": [
        "# Arithmetic operations between 2 torch tensors\n",
        "a = torch.tensor([1, 2, 3, 4])\n",
        "b = torch.tensor([1, 2, 1, 2])\n",
        "\n",
        "print(a + b)\n",
        "print(a - b)\n",
        "print(a * b)\n",
        "print(a / b)\n",
        "print(a ** b) # this compute a[i]**b[i] for each i, where ** is the exponential operator"
      ]
    },
    {
      "cell_type": "code",
      "execution_count": null,
      "metadata": {
        "id": "wX1NQQwH2PPM",
        "colab": {
          "base_uri": "https://localhost:8080/"
        },
        "outputId": "8ea1735f-73c3-4b4c-e75b-300e5632e69b"
      },
      "outputs": [
        {
          "output_type": "stream",
          "name": "stdout",
          "text": [
            "tensor([3, 4, 5, 6])\n",
            "tensor([-1,  0,  1,  2])\n",
            "tensor([2, 4, 6, 8])\n",
            "tensor([0.5000, 1.0000, 1.5000, 2.0000])\n",
            "tensor([ 1,  4,  9, 16])\n"
          ]
        }
      ],
      "source": [
        "# Arithmetic operations between a torch tensor and a single number\n",
        "a = torch.tensor([1, 2, 3, 4])\n",
        "b = 2\n",
        "\n",
        "print(a + b)\n",
        "print(a - b)\n",
        "print(a * b)\n",
        "print(a / b)\n",
        "print(a ** b)"
      ]
    },
    {
      "cell_type": "code",
      "execution_count": null,
      "metadata": {
        "id": "oi5eT0vV2PPM",
        "colab": {
          "base_uri": "https://localhost:8080/"
        },
        "outputId": "d2958e57-6321-46e0-def4-c0d46d31e4b1"
      },
      "outputs": [
        {
          "output_type": "stream",
          "name": "stdout",
          "text": [
            "tensor([ True, False, False, False])\n",
            "tensor([ True,  True,  True, False])\n",
            "tensor([False, False,  True,  True])\n",
            "tensor([ True,  True, False, False])\n",
            "tensor([False, False, False, False])\n",
            "tensor([True, True, True, True])\n",
            "tensor([ True,  True, False, False])\n"
          ]
        }
      ],
      "source": [
        "# Logical operations with torch tensors\n",
        "a = torch.tensor([True, True, False, False])\n",
        "b = torch.tensor([True, False, True, False])\n",
        "\n",
        "print(a & b)\n",
        "print(a | b)\n",
        "print(~a)\n",
        "\n",
        "print(a & True)\n",
        "print(a & False)\n",
        "\n",
        "print(a | True)\n",
        "print(a | False)"
      ]
    },
    {
      "cell_type": "code",
      "execution_count": null,
      "metadata": {
        "id": "c4sIINv-2PPM",
        "colab": {
          "base_uri": "https://localhost:8080/"
        },
        "outputId": "39e6ca7f-f0c3-4592-ea61-0c1060026cc9"
      },
      "outputs": [
        {
          "output_type": "stream",
          "name": "stdout",
          "text": [
            "tensor([False, False,  True,  True])\n",
            "tensor([False,  True,  True,  True])\n",
            "tensor([ True, False, False, False])\n",
            "tensor([ True,  True, False, False])\n",
            "tensor([False,  True, False, False])\n",
            "tensor([ True, False,  True,  True])\n"
          ]
        }
      ],
      "source": [
        "# Comparison operations of torch tensors to a number\n",
        "a = torch.tensor([1, 2, 3, 4])\n",
        "b = 2\n",
        "\n",
        "print(a > b)\n",
        "print(a >= b)\n",
        "print(a < b)\n",
        "print(a <= b)\n",
        "print(a == b)\n",
        "print(a != b)"
      ]
    },
    {
      "cell_type": "markdown",
      "metadata": {
        "id": "KoMy9wh92PPM"
      },
      "source": [
        "### Problem 2\n",
        "Fill in this section to compute a `torch.tensor` containing the average of the two given arrays to achieve the effect of the following `for` loop:\n",
        "```python\n",
        "arr_avg = []\n",
        "for i in range(len(arr1)):\n",
        "    arr_avg.append((arr1[i].item() + arr2[i].item())/2)\n",
        "print(arr_avg)\n",
        "```\n",
        "You can test the output of this print by copy and paste this snippet to a new cell."
      ]
    },
    {
      "cell_type": "code",
      "execution_count": null,
      "metadata": {
        "id": "dN0ea0g72PPM",
        "colab": {
          "base_uri": "https://localhost:8080/"
        },
        "outputId": "b5ceb9a5-d4da-4db4-f560-ce8cfca71e39"
      },
      "outputs": [
        {
          "output_type": "stream",
          "name": "stdout",
          "text": [
            "tensor([ 96.4160, 102.6443, 101.4113,  93.3163, 103.4556,  98.1482, 102.3511,\n",
            "         91.7785,  92.8355,  89.6558,  99.2187,  98.4843,  94.1728, 117.3351,\n",
            "         98.2756,  33.0404,  41.9052,  90.9630,  57.0840,  93.0602])\n"
          ]
        }
      ],
      "source": [
        "arr1 = torch.tensor([\n",
        "    97.35583,  104.62379,  103.02998,   95.14321,  103.69019,\n",
        "    98.49185,  100.88828,   95.43974,   92.11484,   91.54804,\n",
        "    95.98029,   98.22902,   96.12179,  119.28105,   97.84627,\n",
        "    29.07386,   38.41644,   90.70509,   51.7478 ,   95.45072\n",
        "])\n",
        "\n",
        "arr2 = torch.tensor([\n",
        "     95.47622,  100.66476,   99.7926 ,   91.48936,  103.22096,\n",
        "     97.80458,  103.81398,   88.11736,   93.55611,   87.76347,\n",
        "    102.45714,   98.73953,   92.22388,  115.3892 ,   98.70502,\n",
        "     37.00692,   45.39401,   91.22084,   62.42028,   90.66958\n",
        "])\n",
        "\n",
        "'''\n",
        "\n",
        "'''\n",
        "arr_avg = (torch.add(arr1, arr2))/2   # Replace this with your code\n",
        "\n",
        "# your code here\n",
        "\n",
        "print(arr_avg)\n",
        "\n",
        "# expected output:\n",
        "# tensor([ 96.4160, 102.6443, 101.4113,  93.3163, 103.4556,  98.1482, 102.3511,\n",
        "#          91.7785,  92.8355,  89.6558,  99.2187,  98.4843,  94.1728, 117.3351,\n",
        "#          98.2756,  33.0404,  41.9052,  90.9630,  57.0840,  93.0602])"
      ]
    },
    {
      "cell_type": "markdown",
      "metadata": {
        "id": "UzUphtaF2PPM"
      },
      "source": [
        "## 1D Boolean (Fancy and Fast) Indexing\n",
        "###  Examples"
      ]
    },
    {
      "cell_type": "code",
      "execution_count": null,
      "metadata": {
        "id": "XKRHcCUo2PPM",
        "colab": {
          "base_uri": "https://localhost:8080/"
        },
        "outputId": "c6eb9c91-89f8-41ee-bd71-9ddf827e1565"
      },
      "outputs": [
        {
          "output_type": "stream",
          "name": "stdout",
          "text": [
            "tensor([1, 2])\n",
            "tensor([1, 3])\n"
          ]
        }
      ],
      "source": [
        "# Using index arrays\n",
        "a = torch.tensor([1, 2, 3, 4])\n",
        "b = torch.tensor([True, True, False, False])\n",
        "\n",
        "print(a[b])\n",
        "print(a[torch.tensor([True, False, True, False])]) # this returns the 1st (a[0]) and the 3rd (a[2]) element of a"
      ]
    },
    {
      "cell_type": "code",
      "execution_count": null,
      "metadata": {
        "id": "4_rMT9Bo2PPM",
        "colab": {
          "base_uri": "https://localhost:8080/"
        },
        "outputId": "bcb93228-64c7-40c6-8f22-fdfaedbe2b6e"
      },
      "outputs": [
        {
          "output_type": "stream",
          "name": "stdout",
          "text": [
            "tensor([2, 3, 2])\n",
            "tensor([2, 3, 2])\n"
          ]
        }
      ],
      "source": [
        "# Creating the index array using vectorized operations (Recall ReLU implemented in class)\n",
        "a = torch.tensor([1, 2, 3, 2, 1])\n",
        "b = (a >= 2)\n",
        "\n",
        "print(a[b])\n",
        "print(a[a >= 2])"
      ]
    },
    {
      "cell_type": "code",
      "execution_count": null,
      "metadata": {
        "id": "E7Q2xlOX2PPM",
        "colab": {
          "base_uri": "https://localhost:8080/"
        },
        "outputId": "aaa6538c-d687-48c4-cfb2-52d6e0288406"
      },
      "outputs": [
        {
          "output_type": "stream",
          "name": "stdout",
          "text": [
            "tensor([False,  True, False,  True, False])\n",
            "tensor([2, 4])\n"
          ]
        }
      ],
      "source": [
        "# Creating the index array using vectorized operations on another array\n",
        "a = torch.tensor([1, 2, 3, 4, 5])\n",
        "b = torch.tensor([1, 2, 3, 2, 1])\n",
        "\n",
        "print(b == 2)\n",
        "print(a[b == 2])"
      ]
    },
    {
      "cell_type": "markdown",
      "metadata": {
        "id": "fh3XaalE2PPM"
      },
      "source": [
        "### Problem 3\n",
        "\n",
        "Fill in the following cell using the boolean indexing vectorization technique to calculate an array that can be achieved using the following `for` loop:\n",
        "```python\n",
        "result = []\n",
        "for i in range(len(arr1)):\n",
        "    if arr1[i] < 60:\n",
        "        result.append(arr2[i].item())\n",
        "\n",
        "```"
      ]
    },
    {
      "cell_type": "code",
      "execution_count": null,
      "metadata": {
        "id": "C_fsLjoT2PPM",
        "colab": {
          "base_uri": "https://localhost:8080/"
        },
        "outputId": "0a2a0823-83f1-40b1-a1f3-003d2e88ca1f"
      },
      "outputs": [
        {
          "output_type": "stream",
          "name": "stdout",
          "text": [
            "tensor([  4,   5,   3,  12,   4,  35,  38,  37,   3,   3,  68,   2, 249,   2,\n",
            "        127,  35])\n"
          ]
        }
      ],
      "source": [
        "arr1 = torch.tensor([\n",
        "       12.89697233,    0.        ,   64.55043217,    0.        ,\n",
        "       24.2315615 ,   39.991625  ,    0.        ,    0.        ,\n",
        "      147.20683783,    0.        ,    0.        ,    0.        ,\n",
        "       45.18261617,  157.60454283,  133.2434615 ,   52.85000767,\n",
        "        0.        ,   54.9204785 ,   26.78142417,    0.\n",
        "])\n",
        "\n",
        "arr2 = torch.tensor([4,   5,  37,   3,  12,\n",
        "                 4,  35,  38,   5,  37,\n",
        "                 3,   3,  68,  38,  98,\n",
        "                 2, 249,   2, 127,  35])\n",
        "\n",
        "'''\n",
        "\n",
        "'''\n",
        "result = arr2[arr1<60] # Replace this with your code\n",
        "\n",
        "# your code here\n",
        "\n",
        "print(result)\n",
        "\n",
        "# expected output\n",
        "# tensor([  4,   5,   3,  12,   4,  35,  38,  37,   3,   3,  68,   2, 249,   2,\n",
        "#         127,  35])\n"
      ]
    },
    {
      "cell_type": "markdown",
      "metadata": {
        "id": "cBqdA9qZ2PPN"
      },
      "source": [
        "## 2D Basic Functions: Indexing, Axis\n",
        "### Example 1"
      ]
    },
    {
      "cell_type": "code",
      "execution_count": null,
      "metadata": {
        "id": "YMAsdqEI2PPN"
      },
      "outputs": [],
      "source": [
        "mat1 = torch.tensor([\n",
        "    [   0,    0,    2,    5,    0],\n",
        "    [1478, 3877, 3674, 2328, 2539],\n",
        "    [1613, 4088, 3991, 6461, 2691],\n",
        "    [1560, 3392, 3826, 4787, 2613],\n",
        "    [1608, 4802, 3932, 4477, 2705],\n",
        "    [1576, 3933, 3909, 4979, 2685],\n",
        "    [  95,  229,  255,  496,  201],\n",
        "    [   2,    0,    1,   27,    0],\n",
        "    [1438, 3785, 3589, 4174, 2215],\n",
        "    [1342, 4043, 4009, 4665, 3033]\n",
        "])"
      ]
    },
    {
      "cell_type": "code",
      "execution_count": null,
      "metadata": {
        "id": "5P7OGXCr2PPN",
        "colab": {
          "base_uri": "https://localhost:8080/"
        },
        "outputId": "0e5c3b3d-0804-4301-82c1-71b81c18d27e"
      },
      "outputs": [
        {
          "output_type": "stream",
          "name": "stdout",
          "text": [
            "tensor(2328)\n",
            "tensor([[2328, 2539],\n",
            "        [6461, 2691]])\n",
            "tensor([1478, 3877, 3674, 2328, 2539])\n"
          ]
        }
      ],
      "source": [
        "# Accessing elements\n",
        "print(mat1[1, 3]) # 2nd row (index 1, or row 1), 4th col (index 3, or row 3)\n",
        "print(mat1[1:3, 3:5]) # row 1 to row 3 (not included), col 3 to col 5 (not included)\n",
        "print(mat1[1, :]) # what is this?"
      ]
    },
    {
      "cell_type": "code",
      "execution_count": null,
      "metadata": {
        "id": "62Gb3Ult2PPN",
        "colab": {
          "base_uri": "https://localhost:8080/"
        },
        "outputId": "5569c753-7736-4f0c-a74f-09e2e53c5aa8"
      },
      "outputs": [
        {
          "output_type": "stream",
          "name": "stdout",
          "text": [
            "tensor([1478, 3877, 3676, 2333, 2539])\n",
            "tensor([   0, 5355, 5701, 4952, 6410, 5509,  324,    2, 5223, 5385])\n"
          ]
        }
      ],
      "source": [
        "# Vectorized operations on rows or columns\n",
        "print(mat1[0, :] + mat1[1, :])\n",
        "print(mat1[:, 0] + mat1[:, 1])"
      ]
    },
    {
      "cell_type": "code",
      "execution_count": null,
      "metadata": {
        "id": "spKjYdqC2PPN",
        "colab": {
          "base_uri": "https://localhost:8080/"
        },
        "outputId": "2c04139f-b7b7-424f-b302-9330cdd93fa9"
      },
      "outputs": [
        {
          "output_type": "stream",
          "name": "stdout",
          "text": [
            "tensor([[ 2,  3,  4],\n",
            "        [ 6,  7,  8],\n",
            "        [10, 11, 12]])\n"
          ]
        }
      ],
      "source": [
        "# Vectorized operations on entire arrays\n",
        "a = torch.tensor([[1, 2, 3],\n",
        "                  [4, 5, 6],\n",
        "                  [7, 8, 9]])\n",
        "b = torch.tensor([[1, 1, 1],\n",
        "                  [2, 2, 2],\n",
        "                  [3, 3, 3]])\n",
        "print(a + b)"
      ]
    },
    {
      "cell_type": "markdown",
      "metadata": {
        "id": "a_zZaZ0J2PPN"
      },
      "source": [
        "### Example 2"
      ]
    },
    {
      "cell_type": "code",
      "execution_count": null,
      "metadata": {
        "id": "kodGIRdB2PPN",
        "colab": {
          "base_uri": "https://localhost:8080/"
        },
        "outputId": "2cee9c8d-04ec-40d4-d764-8d54b783a636"
      },
      "outputs": [
        {
          "output_type": "stream",
          "name": "stdout",
          "text": [
            "torch.Size([4, 3])\n",
            "tensor(78)\n",
            "tensor([22, 26, 30])\n",
            "tensor([ 6, 15, 24, 33])\n"
          ]
        }
      ],
      "source": [
        "# torch dim argument\n",
        "a = torch.tensor([\n",
        "    [1, 2, 3],\n",
        "    [4, 5, 6],\n",
        "    [7, 8, 9],\n",
        "    [10, 11, 12]\n",
        "])\n",
        "\n",
        "print(a.shape) # dim 0 is 4 (rows), dim 1 is 3 (cols)\n",
        "print(a.sum())\n",
        "print(a.sum(dim=0)) # dim = 0 means the dim 0 is the dimension to reduce, dim 1 is left, the output is a length 3 array, which is the column sum\n",
        "print(a.sum(dim=1)) # this is row sum, since the column dimension is reduced"
      ]
    },
    {
      "cell_type": "markdown",
      "metadata": {
        "id": "D8marIZT2PPN"
      },
      "source": [
        "### Problem 4\n",
        "\n",
        "\n",
        "Fill in the following cell to achieve the effect of the `for` for the array `mat1` below, store the maximum entry of each row of `mat1`:\n",
        "\n",
        "```python\n",
        "mat1 = [[   0,    0,    2,    5,    0],\n",
        "        [1478, 3877, 3674, 2328, 2539],\n",
        "        [1613, 4088, 3991, 6461, 2691],\n",
        "        [1560, 3392, 3826, 4787, 2613],\n",
        "        [1608, 4802, 3932, 4477, 2705],\n",
        "        [1576, 3933, 3909, 4979, 2685],\n",
        "        [  95,  229,  255,  496,  201],\n",
        "        [   2,    0,    1,   27,    0],\n",
        "        [1438, 3785, 3589, 4174, 2215],\n",
        "        [1342, 4043, 4009, 4665, 3033]]\n",
        "row_max = []\n",
        "for row in mat1:\n",
        "    row_max.append(max(row))\n",
        "```\n",
        "\n",
        "Note the simplest way is to use the `torch.max()` with an argument `dim=`"
      ]
    },
    {
      "cell_type": "code",
      "execution_count": null,
      "metadata": {
        "id": "WuxwU3pd2PPN",
        "colab": {
          "base_uri": "https://localhost:8080/"
        },
        "outputId": "47c2295a-30dc-4c78-b8c6-21f4e5ddef86"
      },
      "outputs": [
        {
          "output_type": "stream",
          "name": "stdout",
          "text": [
            "torch.return_types.max(\n",
            "values=tensor([   5, 3877, 6461, 4787, 4802, 4979,  496,   27, 4174, 4665]),\n",
            "indices=tensor([3, 1, 3, 3, 1, 3, 3, 3, 3, 3]))\n"
          ]
        }
      ],
      "source": [
        "mat1 = torch.tensor([[   0,    0,    2,    5,    0],\n",
        "        [1478, 3877, 3674, 2328, 2539],\n",
        "        [1613, 4088, 3991, 6461, 2691],\n",
        "        [1560, 3392, 3826, 4787, 2613],\n",
        "        [1608, 4802, 3932, 4477, 2705],\n",
        "        [1576, 3933, 3909, 4979, 2685],\n",
        "        [  95,  229,  255,  496,  201],\n",
        "        [   2,    0,    1,   27,    0],\n",
        "        [1438, 3785, 3589, 4174, 2215],\n",
        "        [1342, 4043, 4009, 4665, 3033]])\n",
        "\n",
        "row_max = torch.max(mat1, dim = 1)          # Replace this with your code\n",
        "\n",
        "print(row_max)\n",
        "\n",
        "# expected output: tensor([   5, 3877, 6461, 4787, 4802, 4979,  496,   27, 4174, 4665])"
      ]
    },
    {
      "cell_type": "markdown",
      "metadata": {
        "id": "Fx_HSmH52PPN"
      },
      "source": [
        "### Problem 5\n",
        "\n",
        "Fill in the following cell to achieve the effect of the `for` for the array `mat1` above, store the index of the maximum entry of each row of a list version of `mat1`:\n",
        "\n",
        "```python\n",
        "mat1 = [[   0,    0,    2,    5,    0],\n",
        "    [1478, 3877, 3674, 2328, 2539],\n",
        "    [1613, 4088, 3991, 6461, 2691],\n",
        "    [1560, 3392, 3826, 4787, 2613],\n",
        "    [1608, 4802, 3932, 4477, 2705],\n",
        "    [1576, 3933, 3909, 4979, 2685],\n",
        "    [  95,  229,  255,  496,  201],\n",
        "    [   2,    0,    1,   27,    0],\n",
        "    [1438, 3785, 3589, 4174, 2215],\n",
        "    [1342, 4043, 4009, 4665, 3033]]\n",
        "index_max = []\n",
        "for row in mat1:\n",
        "    tmp = row.index(max(row))\n",
        "    index_max.append(index_max)\n",
        "```\n",
        "\n",
        "Hint: the function `argmax()` in PyTorch may be helpful: https://pytorch.org/docs/stable/generated/torch.argmax.html, which can be either applied as a function or as a method for the tensor `a.argmax()` with an `dim=` argument.\n",
        "\n",
        "Hint2: with the PyTorch 2.0, `max()` now returns indices as well:  https://pytorch.org/docs/stable/generated/torch.max.html."
      ]
    },
    {
      "cell_type": "code",
      "execution_count": null,
      "metadata": {
        "id": "JBb7RxzZ2PPN",
        "colab": {
          "base_uri": "https://localhost:8080/"
        },
        "outputId": "9d83bb8d-8011-4c92-9935-6e65eba767de"
      },
      "outputs": [
        {
          "output_type": "stream",
          "name": "stdout",
          "text": [
            "tensor([3, 1, 3, 3, 1, 3, 3, 3, 3, 3])\n"
          ]
        }
      ],
      "source": [
        "index_max = torch.argmax(mat1, dim = 1) # Replace this with your code\n",
        "\n",
        "print(index_max)\n",
        "\n",
        "# expected output: tensor([3, 1, 3, 3, 1, 3, 3, 3, 3, 3])"
      ]
    },
    {
      "cell_type": "markdown",
      "metadata": {
        "id": "ak88USFa2PPN"
      },
      "source": [
        "## Runtime Comparison"
      ]
    },
    {
      "cell_type": "code",
      "execution_count": null,
      "metadata": {
        "id": "2osSVlRx2PPN"
      },
      "outputs": [],
      "source": [
        "import time"
      ]
    },
    {
      "cell_type": "markdown",
      "metadata": {
        "id": "ZJPAms_t2PPN"
      },
      "source": [
        "We will need to be able to generate random numbers for hte next problem. `PyTorch` also all sorts of random number generator similar to `numpy.random` submodule.\n",
        "\n",
        "We can use `?` to access the documentation of every function, so keep it in mind for easy access to documentations! If we are in Colab or Visual Studio Code, hovering the mouse over a function pops up the documentation as well."
      ]
    },
    {
      "cell_type": "code",
      "execution_count": null,
      "metadata": {
        "id": "Q2k0Ba0_2PPN"
      },
      "outputs": [],
      "source": [
        "?torch.randn"
      ]
    },
    {
      "cell_type": "markdown",
      "metadata": {
        "id": "Q_WDkv1v2PPR"
      },
      "source": [
        "\n",
        "### Problem 6\n",
        "\n",
        "Using `torch.randn` function, which takes in inputs `(n,m)`, to generate a random 2d array of `n` rows and `m` columns.\n",
        "\n",
        "Note: we should format the code as `torch.randn((2,5))` not `torch.randn(2,5)` if we want to generate a 2 by 5 random matrix."
      ]
    },
    {
      "cell_type": "code",
      "execution_count": null,
      "metadata": {
        "id": "m46Is9TD2PPR"
      },
      "outputs": [],
      "source": [
        "\n",
        "def calculate_row_sums_loop(arr):\n",
        "    \"\"\"\n",
        "    Fill in this function to calculate row sums of 2d_array using a for loop.\n",
        "    \"\"\"\n",
        "    result = []\n",
        "    # for row in arr:\n",
        "    #   sum_of_each_row = 0\n",
        "    #   for value in row:\n",
        "    #     sum_of_each_row += value\n",
        "\n",
        "\n",
        "    # return result.append(sum_of_each_row)\n",
        "\n",
        "\n",
        "# More robust\n",
        "    for row in arr:\n",
        "      return result.append(sum(row))"
      ]
    },
    {
      "cell_type": "code",
      "execution_count": null,
      "metadata": {
        "id": "1XilwLnX2PPR"
      },
      "outputs": [],
      "source": [
        "def calculate_row_sums_vec(arr):\n",
        "    \"\"\"\n",
        "    Fill in this function to calculate row sums of 2d_array\n",
        "    using pytorch builtin vectorized functions.\n",
        "    \"\"\"\n",
        "    # your code here\n",
        "    result = torch.sum(arr, 1)\n",
        "    return result"
      ]
    },
    {
      "cell_type": "markdown",
      "metadata": {
        "id": "3KzpY4tU2PPR"
      },
      "source": [
        "After you done with the functions above, run this to compare runtime of for loops and numpy functions. Play with the matrix dimesions to see the effect!\n",
        "\n",
        "Hint: for the non-vectorized function it should take longer."
      ]
    },
    {
      "cell_type": "code",
      "execution_count": null,
      "metadata": {
        "id": "DjRT8zpo2PPR",
        "colab": {
          "base_uri": "https://localhost:8080/"
        },
        "outputId": "cd82864f-66e4-440c-efc2-24838fa1851b"
      },
      "outputs": [
        {
          "output_type": "stream",
          "name": "stdout",
          "text": [
            "loop: 0.4026648998260498 secs.\n",
            "vectorized: 0.005869626998901367 secs.\n"
          ]
        }
      ],
      "source": [
        "# generate a random 2d array\n",
        "num_rows = 100000\n",
        "num_cols = 100\n",
        "random_2d_array = torch.randn((num_rows, num_cols))\n",
        "\n",
        "start = time.time()\n",
        "# calculate row sums by for loop\n",
        "calculate_row_sums_loop(random_2d_array)\n",
        "end = time.time()\n",
        "print(f\"loop: {end - start} secs.\")\n",
        "\n",
        "start = time.time()\n",
        "# calculate row sums by for np.sum\n",
        "calculate_row_sums_vec(random_2d_array)\n",
        "end = time.time()\n",
        "print(f\"vectorized: {end - start} secs.\")"
      ]
    },
    {
      "cell_type": "code",
      "execution_count": null,
      "metadata": {
        "id": "9YsdEpFP2PPR"
      },
      "outputs": [],
      "source": [
        "# extra cell"
      ]
    }
  ],
  "metadata": {
    "colab": {
      "provenance": []
    },
    "kernelspec": {
      "display_name": "Python 3",
      "language": "python",
      "name": "python3"
    },
    "language_info": {
      "codemirror_mode": {
        "name": "ipython",
        "version": 3
      },
      "file_extension": ".py",
      "mimetype": "text/x-python",
      "name": "python",
      "nbconvert_exporter": "python",
      "pygments_lexer": "ipython3",
      "version": "3.11.4"
    }
  },
  "nbformat": 4,
  "nbformat_minor": 0
}